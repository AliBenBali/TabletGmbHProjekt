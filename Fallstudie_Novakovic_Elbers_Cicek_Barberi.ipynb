{
 "cells": [
  {
   "cell_type": "markdown",
   "metadata": {},
   "source": [
    "# Fallstudie \"Tablet GmbH\""
   ]
  },
  {
   "cell_type": "markdown",
   "metadata": {},
   "source": [
    "## 1. Einleitung"
   ]
  },
  {
   "cell_type": "markdown",
   "metadata": {},
   "source": [
    "Dieses Notebook umfasst die Analyse zur Fallstudie \"Tablet GmbH\", auf der die in der Präsentation erarbeiteten Erkenntnisse basieren. Darüber hinaus beinhaltet das Notebook weitere Analysen, welche nach der Präsentation durchgeführt wurden. Bei der Durchführung der Analyse hat sich die Projektgruppe an dem in der Vorlesung erlernten Business Analytics Prozess orientiert. \n",
    "\n",
    "Im Folgenden wird zunächst die Vorgehensweise vorgestellt und die Fragestellungen und Ziele der Analyse aufgestellt. Anschließend werden die Datensätze eingelesen, aufbereitet und transformiert, um danach die Analysen durchzuführen. Hierbei werden für jede Analyse passende Handlungsempfehlungen abgeleitet. Abschließend wird ein Fazit mit den wichtigsten Erkenntnissen und Handlungsempfehlungen gezogen.\n",
    "\n",
    "Zu der Projektgruppe gehören die folgenden Mitglieder:\n",
    "- Daniel Novakovic (1282962)\n",
    "- Silas Elbers (1282272)\n",
    "- Ali Cicek (1290028)\n",
    "- Vincenzo Barberi (1290817)"
   ]
  },
  {
   "cell_type": "markdown",
   "metadata": {},
   "source": [
    "## 2. Vorgehensweise"
   ]
  },
  {
   "cell_type": "markdown",
   "metadata": {},
   "source": [
    "Die folgende Analyse beinhaltet die folgenden Schritte:\n",
    "\n",
    "1. Aufstellung der Fragestellungen und Ziele\n",
    "2. Import der wichtigsten Bibliotheken und Konfiguration allgemeiner Einstellungen\n",
    "3. Einlesen der genutzten Datensätze\n",
    "4. Aufbereiten und Transformieren der Datensätze\n",
    "5. Analyse: Transformieren, Visualisieren und Modellieren, um Erkenntnisse zu gewinnen und Handlungsempfehlungen aufzustellen\n",
    "\n",
    "Bei dem fünften Schritt ist zu beachten, dass es sich hierbei um einen iterativen Prozess handelt.\n"
   ]
  },
  {
   "cell_type": "markdown",
   "metadata": {},
   "source": [
    "## 3. Problemstellung und Ziele\n",
    "\n",
    "Vor der Durchführung der Analyse wurden folgende Fragestellungen formuliert:\n",
    "\n",
    "- Warum war die wirtschaftlich Entwicklung der Tablet GmbH in den letzten beiden Jahren negativ? \n",
    "- Welche Faktoren beeinflussten die Situation?\n",
    "- Wie kann die wirtschaftliche Situation der Tablet GmbH verbessert werden?\n",
    "\n",
    "Als Ergebnisse der Analyse wurden folgenden Ziele definiert:\n",
    "\n",
    "- Gründe für die wirtschaftliche Entwicklung analysieren\n",
    "- Handlungsempfehlungen aufstellen, um die wirtschaftliche Entwicklung zu verbessern"
   ]
  },
  {
   "cell_type": "markdown",
   "metadata": {},
   "source": [
    "## 4. Import der genutzten Bibliotheken und Konfiguration"
   ]
  },
  {
   "cell_type": "markdown",
   "metadata": {},
   "source": [
    "Um die Analyse möglichst effizient durchzuführen, wurden die Python-Bibliotheken Pandas, Seaborn, Matplotlib, Numpy, Statsmodels verwendet. Um Betriebssystemfunktionalitäten nutzen zu können, wurde außerdem das OS-Modul importiert."
   ]
  },
  {
   "cell_type": "code",
   "execution_count": null,
   "metadata": {},
   "outputs": [],
   "source": [
    "# Importieren der benötigten Bibliotheken\n",
    "import pandas as pd\n",
    "import seaborn as sns\n",
    "import matplotlib.pyplot as plt\n",
    "import matplotlib.patches as mpatches\n",
    "import numpy as np\n",
    "import statsmodels.formula.api as smf\n",
    "import os"
   ]
  },
  {
   "cell_type": "code",
   "execution_count": null,
   "metadata": {},
   "outputs": [],
   "source": [
    "# Zahlen in Dataframes ohne wissenschaftliche Notation und mit zwei Nachkommastellen ausgeben\n",
    "pd.options.display.float_format = '{:,.2f}'.format"
   ]
  },
  {
   "cell_type": "markdown",
   "metadata": {},
   "source": [
    "## 5. Einlesen der Datensätze"
   ]
  },
  {
   "cell_type": "markdown",
   "metadata": {},
   "source": [
    "Da die Datensätze ursprünglich als Excel-Dateien vorlagen, wurden die Datensätze als csv-Dateien umformatiert. Hierdurch haben sich die Ladezeiten beim Einlesen der Datensätze und der Benutzung ebendieser deutlich verringert. Der Code wurde auskommentiert, da die Umformatierung bereits durchgeführt wurden. Die csv-Dateien befinden sich im `data_csv` Ordner innerhalb des Projektordners."
   ]
  },
  {
   "cell_type": "code",
   "execution_count": null,
   "metadata": {},
   "outputs": [],
   "source": [
    "# input_folder = './data'\n",
    "# output_folder = './data_csv'\n",
    "\n",
    "# Output-Verzeichnis erstellen\n",
    "# if not os.path.exists(output_folder):\n",
    "#     os.makedirs(output_folder)\n",
    "\n",
    "# Alle Dateien im Input-Verzeichnis durchgehen, die auf .xlsx oder .xls enden, und in CSV umwandeln\n",
    "# for file in os.listdir(input_folder):\n",
    "\n",
    "#     if file.endswith('.xlsx') or file.endswith('.xls'):\n",
    "\n",
    "#         file_path = os.path.join(input_folder, file)\n",
    "#         output_file_path = os.path.join(output_folder, os.path.splitext(file)[0] + '.csv')\n",
    "\n",
    "#         df = pd.read_excel(file_path)\n",
    "#         df.to_csv(output_file_path, index=False)"
   ]
  },
  {
   "cell_type": "code",
   "execution_count": null,
   "metadata": {},
   "outputs": [],
   "source": [
    "# Einlesen der CSV-Dateien\n",
    "df_crm = pd.read_csv(\"./data_csv/CRM_data.csv\")\n",
    "df_downtime = pd.read_csv(\"./data_csv/Downtime.csv\")\n",
    "df_preise = pd.read_csv(\"./data_csv/Preise.csv\")\n",
    "\n",
    "df_a_online = pd.read_csv(\"./data_csv/RegionA_online.csv\")\n",
    "df_a_phone = pd.read_csv(\"./data_csv/RegionA_phone.csv\")\n",
    "df_a_store = pd.read_csv(\"./data_csv/RegionA_store.csv\")\n",
    "\n",
    "df_b_online = pd.read_csv(\"./data_csv/RegionB_online.csv\")\n",
    "df_b_phone = pd.read_csv(\"./data_csv/RegionB_phone.csv\")\n",
    "df_b_store = pd.read_csv(\"./data_csv/RegionB_store.csv\")\n",
    "\n",
    "df_c_online = pd.read_csv(\"./data_csv/RegionC_online.csv\")\n",
    "df_c_phone = pd.read_csv(\"./data_csv/RegionC_phone.csv\")\n",
    "df_c_store = pd.read_csv(\"./data_csv/RegionC_store.csv\")\n",
    "\n",
    "df_d_online = pd.read_csv(\"./data_csv/RegionD_online.csv\")\n",
    "df_d_phone = pd.read_csv(\"./data_csv/RegionD_phone.csv\")\n",
    "df_d_store = pd.read_csv(\"./data_csv/RegionD_store.csv\")"
   ]
  },
  {
   "cell_type": "markdown",
   "metadata": {},
   "source": [
    "## 6. Aufbereiten der Datensätze"
   ]
  },
  {
   "cell_type": "markdown",
   "metadata": {},
   "source": [
    "### CRM-Daten:"
   ]
  },
  {
   "cell_type": "markdown",
   "metadata": {},
   "source": [
    "Der CRM-Datensatz beinhaltet Informationen zu den einzelnen Transaktionen, u. a. die Transaktions-ID, Kundendaten wie z. B. der Name oder die E-Mail und die Kundenbewertung der jeweilgen Transaktion. Im Beobachtungszeitraum (01.11.2021 bis 31.10.20222) gab es insgesamt 340.000 Transaktionen. Da keine Auffälligkeiten im Datensatz gefunden werden konnten, wurde lediglich die Spalte `id` in `transaction_id` umbenannt, da dieser Name auch in den Transaktionsdatensätzen verwendet wurde. Da die Spalten `vorname`, `nachname`, `iban` und `email` wurden entfernt, da sie für die Analysen nicht verwendet wurden."
   ]
  },
  {
   "cell_type": "code",
   "execution_count": null,
   "metadata": {},
   "outputs": [],
   "source": [
    "df_crm"
   ]
  },
  {
   "cell_type": "code",
   "execution_count": null,
   "metadata": {},
   "outputs": [],
   "source": [
    "df_crm.info()"
   ]
  },
  {
   "cell_type": "code",
   "execution_count": null,
   "metadata": {},
   "outputs": [],
   "source": [
    "# Spalte id auf Englisch umbenennen\n",
    "df_crm = df_crm.rename(columns={\n",
    "    'id': 'transaction_id'\n",
    "})\n",
    "\n",
    "# Spalten vorname, nachname, iban und email entfernen\n",
    "df_crm = df_crm.drop(columns=['vorname', 'nachname', 'iban', 'email'], axis=1)\n",
    "\n",
    "df_crm"
   ]
  },
  {
   "cell_type": "markdown",
   "metadata": {},
   "source": [
    "### Preisdaten:"
   ]
  },
  {
   "cell_type": "markdown",
   "metadata": {},
   "source": [
    "Die Preisdaten beinhalten die Preise für die Produkte Tablet Basic, Tablet Mini und Tablet Pro für die Jahre 2021 und 2022."
   ]
  },
  {
   "cell_type": "code",
   "execution_count": null,
   "metadata": {},
   "outputs": [],
   "source": [
    "df_preise"
   ]
  },
  {
   "cell_type": "code",
   "execution_count": null,
   "metadata": {},
   "outputs": [],
   "source": [
    "df_preise.info()"
   ]
  },
  {
   "cell_type": "markdown",
   "metadata": {},
   "source": [
    "Zur Aufbereitung dieses Datensatzes wurden u. a. die Werte in der Jahresspalte in das Datumsformat umformatiert und die Produktbezeichnungen vereinheitlicht."
   ]
  },
  {
   "cell_type": "code",
   "execution_count": null,
   "metadata": {},
   "outputs": [],
   "source": [
    "# Umbenennen der Spalte Jahr in year und preis in price\n",
    "df_preise = df_preise.rename(columns={\"Jahr\": \"year\",\n",
    "                                      \"preis\": \"price\"})\n",
    "\n",
    "# Entfernen von Anfuehrungszeichen\n",
    "df_preise['year'] = df_preise['year'].apply(lambda x: x.strip('\"'))\n",
    "\n",
    "# Korrigieren der falschen Jahreszahlen\n",
    "df_preise['year'] = df_preise['year'].replace({'20022': '2022'})\n",
    "\n",
    "# Umwandeln der Spalte \"jahr\" in Datumsformat\n",
    "df_preise['year'] = pd.to_datetime(df_preise['year'], format='%Y')\n",
    "\n",
    "# Spalte \"jahr\" als Jahreszahl extrahieren\n",
    "df_preise['year'] = df_preise['year'].dt.year\n",
    "\n",
    "# Werte \"Tablet Basics\" in \"Tablet Basic\" ändern\n",
    "df_preise['product'] = df_preise['product'].replace({'Tablet Basics': 'Tablet Basic'})\n",
    "\n",
    "df_preise"
   ]
  },
  {
   "cell_type": "markdown",
   "metadata": {},
   "source": [
    "### Downtime-Daten:"
   ]
  },
  {
   "cell_type": "code",
   "execution_count": null,
   "metadata": {},
   "outputs": [],
   "source": [
    "df_downtime"
   ]
  },
  {
   "cell_type": "code",
   "execution_count": null,
   "metadata": {},
   "outputs": [],
   "source": [
    "df_downtime.info()"
   ]
  },
  {
   "cell_type": "code",
   "execution_count": null,
   "metadata": {},
   "outputs": [],
   "source": [
    "# Erste Spalte in year umbenennen\n",
    "df_downtime = df_downtime.rename(columns={\"Unnamed: 0\": \"year\"})\n",
    "\n",
    "# Spalte year in Datumsformat umwandeln\n",
    "df_downtime['year'] = pd.to_datetime(df_downtime['year'], format='%Y')\n",
    "\n",
    "# Spalte year als Jahreszahl extrahieren\n",
    "df_downtime['year'] = df_downtime['year'].dt.year\n",
    "\n",
    "df_downtime"
   ]
  },
  {
   "cell_type": "markdown",
   "metadata": {},
   "source": [
    "Damit der Downtime-Datensatz im weiteren Verlauf einfacher verwendet werden kann, wurde er so umfortmatiert, dass für jede Jahr-Region-Kombination eine eigene Zeile vorhanden ist."
   ]
  },
  {
   "cell_type": "code",
   "execution_count": null,
   "metadata": {},
   "outputs": [],
   "source": [
    "# df_downtime umformen\n",
    "df_downtime = df_downtime.melt(id_vars=['year'], var_name='region', value_name='downtime')\n",
    "\n",
    "# Werte in der Spalte region in A bis D umbenennen\n",
    "df_downtime['region'] = df_downtime['region'].replace({'Region A': 'A', \n",
    "                                                       'Region B': 'B', \n",
    "                                                       'Region C': 'C', \n",
    "                                                       'Region D': 'D'})\n",
    "\n",
    "df_downtime"
   ]
  },
  {
   "cell_type": "markdown",
   "metadata": {},
   "source": [
    "### Transaktionsdaten:"
   ]
  },
  {
   "cell_type": "markdown",
   "metadata": {},
   "source": [
    "Die Transaktionsdaten beinhalten genauere Daten zu den 340.000 Transaktionen. Es gibt insgesamt 12 Datensätze für die einzelnen Regionen und die jeweils vorhandenen Verkaufskanäle."
   ]
  },
  {
   "cell_type": "code",
   "execution_count": null,
   "metadata": {},
   "outputs": [],
   "source": [
    "# Hinzufuegen der Spalten region und channel mit den entsprechenden Werten\n",
    "df_a_online = df_a_online.assign(region='A', channel='online')\n",
    "df_a_phone = df_a_phone.assign(region='A', channel='phone')\n",
    "df_a_store = df_a_store.assign(region='A', channel='store')\n",
    "\n",
    "df_b_online = df_b_online.assign(region='B', channel='online')\n",
    "df_b_phone = df_b_phone.assign(region='B', channel='phone')\n",
    "df_b_store = df_b_store.assign(region='B', channel='store')\n",
    "\n",
    "df_c_online = df_c_online.assign(region='C', channel='online')\n",
    "df_c_phone = df_c_phone.assign(region='C', channel='phone')\n",
    "df_c_store = df_c_store.assign(region='C', channel='store')\n",
    "\n",
    "df_d_online = df_d_online.assign(region='D', channel='online')\n",
    "df_d_phone = df_d_phone.assign(region='D', channel='phone')\n",
    "df_d_store = df_d_store.assign(region='D', channel='store')"
   ]
  },
  {
   "cell_type": "code",
   "execution_count": null,
   "metadata": {},
   "outputs": [],
   "source": [
    "# Umbenennen der Spalte PRODUKT in product in df_b_phone\n",
    "df_b_phone = df_b_phone.rename(columns={\"PRODUKT\": \"product\"})"
   ]
  },
  {
   "cell_type": "markdown",
   "metadata": {},
   "source": [
    "Da alle 12 Datensätze den gleichen Aufbau haben, wurden sie in einem Datensatz zusammengefasst, damit alle Transaktionsdaten gleichzeitig verwendet werden können."
   ]
  },
  {
   "cell_type": "code",
   "execution_count": null,
   "metadata": {},
   "outputs": [],
   "source": [
    "# Alle Regionen und Kanaele in einem Dataframe zusammenfassen\n",
    "df_sales = pd.concat([df_a_online, df_a_phone, df_a_store,\n",
    "                      df_b_online, df_b_phone, df_b_store, \n",
    "                      df_c_online, df_c_phone, df_c_store, \n",
    "                      df_d_online, df_d_phone, df_d_store])"
   ]
  },
  {
   "cell_type": "code",
   "execution_count": null,
   "metadata": {},
   "outputs": [],
   "source": [
    "df_sales.info()"
   ]
  },
  {
   "cell_type": "code",
   "execution_count": null,
   "metadata": {},
   "outputs": [],
   "source": [
    "# Umbenennen der Spalten Tablet Basic, Tablet Mini und Tablet Pro, kosten_basic, kosten_mini und kosten_pro\n",
    "df_sales = df_sales.rename(columns={\n",
    "    \"Tablet Basic\": \"tablet_basic\",\n",
    "    \"Tablet Mini\": \"tablet_mini\",\n",
    "    \"Tablet Pro\": \"tablet_pro\",\n",
    "    \"kosten_basic\": \"cost_basic\",\n",
    "    \"kosten_mini\": \"cost_mini\",\n",
    "    \"kosten_pro\": \"cost_pro\"\n",
    "})"
   ]
  },
  {
   "cell_type": "code",
   "execution_count": null,
   "metadata": {},
   "outputs": [],
   "source": [
    "# Umwandeln der Spalte date in Datumsformat\n",
    "df_sales[\"date\"] = pd.to_datetime(df_sales[\"date\"])"
   ]
  },
  {
   "cell_type": "markdown",
   "metadata": {},
   "source": [
    "In den Spalten `cost_basic`, `cost_mini` und `cost_pro` fehlen viele Werte, jedoch sind insgesamt 340.000 Werte vorhanden. Da die Werte in diesen Spalten die Kosten für das in der Transaktion verkaufte Produkt darstellen, wurden die NaN-Werte durch 0 ersetzt."
   ]
  },
  {
   "cell_type": "code",
   "execution_count": null,
   "metadata": {},
   "outputs": [],
   "source": [
    "# NaN in den Spalten cost_basic, cost_mini und cost_pro durch 0 ersetzen\n",
    "df_sales['cost_basic'] = df_sales['cost_basic'].fillna(0)\n",
    "df_sales['cost_mini'] = df_sales['cost_mini'].fillna(0)\n",
    "df_sales['cost_pro'] = df_sales['cost_pro'].fillna(0)"
   ]
  },
  {
   "cell_type": "markdown",
   "metadata": {},
   "source": [
    "In der Spalte `discount` sind nur 304.911 Werte vorhanden. In dieser Analyse wurde die Annahme getroffen, dass in den Transaktionen, in denen kein Wert in der Rabatt-Spalte vorhanden ist, auch kein Rabatt gewährt wurde. Dementsprechend wurden die fehlenden Werte durch 1 ersetzt. Anschließend wurde der tatsächliche Rabatt berechnet, der in der Transaktion gewährt wurde. "
   ]
  },
  {
   "cell_type": "code",
   "execution_count": null,
   "metadata": {},
   "outputs": [],
   "source": [
    "# NaN in discount durch 1 ersetzen\n",
    "df_sales['discount'] = df_sales['discount'].fillna(1)\n",
    "\n",
    "# Tatsaechlichen Wert des Rabatts berechnen\n",
    "df_sales['discount'] = 1 - df_sales['discount']"
   ]
  },
  {
   "cell_type": "markdown",
   "metadata": {},
   "source": [
    "Während der Analyse der Transaktionen ist aufgefallen, dass es 4747 Transaktionen gibt, in denen das Produkt \"Tablet Basic...\" angegeben wurde. In diesen Fällen wurden die Werte durch \"Tablet Basic\" ersetzt."
   ]
  },
  {
   "cell_type": "code",
   "execution_count": null,
   "metadata": {},
   "outputs": [],
   "source": [
    "# Alle Werte der Spalte product und die Anzahl der Werte anzeigen\n",
    "df_sales['product'].value_counts()"
   ]
  },
  {
   "cell_type": "code",
   "execution_count": null,
   "metadata": {},
   "outputs": [],
   "source": [
    "# Werte \"Tablet Basic...\" in \"Tablet Basic\" aendern\n",
    "df_sales['product'] = df_sales['product'].replace({'Tablet Basic...': 'Tablet Basic'})"
   ]
  },
  {
   "cell_type": "code",
   "execution_count": null,
   "metadata": {},
   "outputs": [],
   "source": [
    "df_sales.info()"
   ]
  },
  {
   "cell_type": "code",
   "execution_count": null,
   "metadata": {},
   "outputs": [],
   "source": [
    "df_sales"
   ]
  },
  {
   "cell_type": "markdown",
   "metadata": {},
   "source": [
    "## 7. Transformieren"
   ]
  },
  {
   "cell_type": "markdown",
   "metadata": {},
   "source": [
    "Während der Transformation der Datensätze wurden die Datensätze `df_sales`, `df_crm` und `df_preise` zusammengefügt. Der `df_sales` Datensatz wird als Basis aller Analysen verwendet.\n",
    "\n",
    "Im ersten Schritt wurden die Datensätze `df_sales` und `df_crm` basierend auf der `transaction_id` zusammengefügt, um die Kundenbewertung in die Analysen einbeziehen zu können."
   ]
  },
  {
   "cell_type": "code",
   "execution_count": null,
   "metadata": {},
   "outputs": [],
   "source": [
    "# df_sales und df_crm zusammenfuegen\n",
    "df_sales = pd.merge(df_sales, df_crm, left_on='transaction_id', right_on='transaction_id', how='inner')\n",
    "\n",
    "df_sales"
   ]
  },
  {
   "cell_type": "markdown",
   "metadata": {},
   "source": [
    "Aus der Spalte `date` wurden die Spalten `year`, `month` und `week` erstellt. "
   ]
  },
  {
   "cell_type": "code",
   "execution_count": null,
   "metadata": {},
   "outputs": [],
   "source": [
    "# Neue Spalten year, month und week erstellen\n",
    "df_sales = df_sales.assign(year=df_sales['date'].dt.year,\n",
    "                           month=df_sales['date'].dt.month,\n",
    "                           week=df_sales['date'].dt.isocalendar().week)"
   ]
  },
  {
   "cell_type": "markdown",
   "metadata": {},
   "source": [
    "Nun werden die Datensätze `df_sales` und `df_preise` zusammengefügt."
   ]
  },
  {
   "cell_type": "code",
   "execution_count": null,
   "metadata": {},
   "outputs": [],
   "source": [
    "# Neue Spalte \"price\" erstellen, basierend auf den Werten in der Spalte \"price\" in df_preise\n",
    "df_sales = df_sales.merge(df_preise, on=[\"year\", \"product\"], how=\"left\")\n",
    "\n",
    "df_sales"
   ]
  },
  {
   "cell_type": "markdown",
   "metadata": {},
   "source": [
    "Im Folgenden werden die Kosten aus den Spalten `cost_basic`, `cost_mini` und `cost_pro` in der Spalte `cost` zusammengefasst und die Transaktionsdaten mit den Gesamtkosten, dem Umsatz, dem Stückgewinn und dem Gesamtgewinn angereichert."
   ]
  },
  {
   "cell_type": "code",
   "execution_count": null,
   "metadata": {},
   "outputs": [],
   "source": [
    "# Neue Spalte \"cost\" erstellen\n",
    "df_sales['cost'] = df_sales[\"cost_basic\"] + df_sales[\"cost_mini\"] + df_sales[\"cost_pro\"]\n",
    "\n",
    "# Neue Spalte \"cost_total\" erstellen\n",
    "df_sales['cost_total'] = df_sales[\"cost\"] * df_sales[\"amount\"]\n",
    "\n",
    "# Neue Spalte \"revenue\" erstellen\n",
    "df_sales['revenue'] = df_sales['price'] * df_sales['amount'] * (1 - df_sales['discount'])\n",
    "\n",
    "# Neue Spalte \"profit_per_piece\" erstellen\n",
    "df_sales[\"profit_per_piece\"] = (df_sales[\"price\"] * (1 - df_sales[\"discount\"])) - df_sales[\"cost\"]\n",
    "\n",
    "# Neue Spalte \"profit_total\" erstellen\n",
    "df_sales[\"profit_total\"] = df_sales[\"profit_per_piece\"] * df_sales[\"amount\"]"
   ]
  },
  {
   "cell_type": "markdown",
   "metadata": {},
   "source": [
    "Abschließend werden die Transaktionen nach der Transaktionsnummer sortiert und der Index zurückgesetzt."
   ]
  },
  {
   "cell_type": "code",
   "execution_count": null,
   "metadata": {},
   "outputs": [],
   "source": [
    "# Sortieren nach Datum\n",
    "df_sales.sort_values(by=['transaction_id'], inplace=True)\n",
    "\n",
    "# Reset der Index-Spalte\n",
    "df_sales.reset_index(drop=True, inplace=True)\n",
    "\n",
    "# Alle Spalten anzeigen lassen\n",
    "pd.set_option('display.max_columns', None)\n",
    "\n",
    "df_sales"
   ]
  },
  {
   "cell_type": "code",
   "execution_count": null,
   "metadata": {},
   "outputs": [],
   "source": [
    "df_sales.info()"
   ]
  },
  {
   "cell_type": "markdown",
   "metadata": {},
   "source": [
    "## 8. Analyse der allgemeinen wirtschaftlichen Entwicklung"
   ]
  },
  {
   "cell_type": "markdown",
   "metadata": {},
   "source": [
    "Bevor die Gründe für die negative wirtschaftliche Entwicklung analysiert werden, muss ermittelt werden, ob die wirtschaftliche Entwicklung wirklich so negativ war wie angenommen und ob die Befürchtung, das Unternehmen könnte in eine Krise geraten, begründet ist.\n",
    "\n",
    "In diesem Teil der Analyse wird daher die allgemeine wirtschaftliche Entwicklung der Tablet GmbH in den letzten 12 Monaten (Anfang November 2021 bis Ende Oktober 2022) analysiert. Hierfür werden zunächst die Verkaufsmenge, der Umsatz, die Kosten und der Gewinn je Monat summiert und anschließend visualisiert, um einen möglichen Trend ableiten zu können. Zusätzlich zur gesamten Verkaufsmenge wird auch die durchschnittliche Verkaufsmenge je Transaktion analysiert. Außerdem wird die Entwicklung der Umsatzrendite analysiert, um das Verhältnis des Gewinns zum Umsatz genauer zu untersuchen."
   ]
  },
  {
   "cell_type": "markdown",
   "metadata": {},
   "source": [
    "### Entwicklung der Kennzahlen Verkaufsmenge, Umsatz, Kosten, Gewinn und Umsatzrendite"
   ]
  },
  {
   "cell_type": "markdown",
   "metadata": {},
   "source": [
    "Im ersten Schritt werden die Kennzahlen monatlich aggregiert."
   ]
  },
  {
   "cell_type": "code",
   "execution_count": null,
   "metadata": {},
   "outputs": [],
   "source": [
    "# df_sales nach Jahr und Monat gruppieren und die Summe der Spalten der Verkaufsmenge, des Umsatzes, der Kosten und des Profits berechnen\n",
    "df_development = df_sales.groupby(['year', 'month']).agg({\"amount\" : \"sum\",\n",
    "                                                          \"revenue\" : \"sum\",\n",
    "                                                          \"cost_total\" : \"sum\",\n",
    "                                                          \"profit_total\" : \"sum\"})\n",
    "\n",
    "# Berechnung der Umsatzrendite\n",
    "df_development['profit_margin'] = df_development['profit_total'] / df_development['revenue'] * 100\n",
    "\n",
    "# Reset der Index-Spalte, um die Spalten \"year\" und \"month\" zu erhalten\n",
    "df_development.reset_index(inplace=True)\n",
    "\n",
    "df_development"
   ]
  },
  {
   "cell_type": "markdown",
   "metadata": {},
   "source": [
    "Anschließend werden die Entwicklungen als Liniendiagramme visualisiert, um mögliche Trends erkennen zu können."
   ]
  },
  {
   "cell_type": "code",
   "execution_count": null,
   "metadata": {},
   "outputs": [],
   "source": [
    "# Visualisierung der Entwicklung des Umsatzes, der Kosten und des Profits\n",
    "fig, ax = plt.subplots(figsize=(10, 6))\n",
    "\n",
    "# Daten plotten\n",
    "ax.plot(df_development['year'].astype(str) + '-' + df_development['month'].astype(str), df_development['revenue'])\n",
    "ax.plot(df_development['year'].astype(str) + '-' + df_development['month'].astype(str), df_development['cost_total'])\n",
    "ax.plot(df_development['year'].astype(str) + '-' + df_development['month'].astype(str), df_development['profit_total'])\n",
    "\n",
    "# Grid hinzufuegen\n",
    "ax.grid(color='lightgrey', linestyle='-', linewidth=0.5)\n",
    "\n",
    "# Achsenbeschriftung und Titel hinzufuegen\n",
    "ax.set_xlabel('Jahr-Monat', fontsize=12)\n",
    "ax.set_ylabel('in €', fontsize=12)\n",
    "ax.set_title('Entwicklung des Umsatzes, der Kosten und des Profits')\n",
    "\n",
    "# Tausendertrennzeichen hinzufuegen\n",
    "ax.get_yaxis().set_major_formatter(plt.FuncFormatter(lambda x, loc: \"{:,}\".format(int(x))))\n",
    "\n",
    "# X-Achsenbeschriftung drehen\n",
    "plt.xticks(rotation=45)\n",
    "\n",
    "# Legende hinzufuegen\n",
    "ax.legend(['Umsatz', 'Kosten', 'Profit'])\n",
    "\n",
    "# Diagramm anzeigen\n",
    "plt.tight_layout()\n",
    "plt.show()"
   ]
  },
  {
   "cell_type": "code",
   "execution_count": null,
   "metadata": {},
   "outputs": [],
   "source": [
    "# Visualisierung der Entwicklung der Umsatzrentabilitaet\n",
    "fig, ax = plt.subplots(figsize=(10, 6))\n",
    "\n",
    "# Daten plotten\n",
    "ax.plot(df_development['year'].astype(str) + '-' + df_development['month'].astype(str), df_development['profit_margin'])\n",
    "\n",
    "# Grid hinzufuegen\n",
    "ax.grid(color='lightgrey', linestyle='-', linewidth=0.5)\n",
    "\n",
    "# Achsenbeschriftung und Titel hinzufuegen\n",
    "ax.set_xlabel('Jahr-Monat', fontsize=12)\n",
    "ax.set_ylabel('in %', fontsize=12)\n",
    "ax.set_title('Entwicklung der Umsatzrentabilität', fontsize=14)\n",
    "\n",
    "# X-Achsenbeschriftung drehen\n",
    "plt.xticks(rotation=45)\n",
    "\n",
    "# Diagramm anzeigen\n",
    "plt.tight_layout()\n",
    "plt.show()"
   ]
  },
  {
   "cell_type": "code",
   "execution_count": null,
   "metadata": {},
   "outputs": [],
   "source": [
    "# Visualisierung der Entwicklung der Verkaufsmenge\n",
    "fig, ax = plt.subplots(figsize=(10, 6))\n",
    "\n",
    "# Daten plotten\n",
    "ax.plot(df_development['year'].astype(str) + '-' + df_development['month'].astype(str), df_development['amount'])\n",
    "\n",
    "# Grid hinzufuegen\n",
    "ax.grid(color='lightgrey', linestyle='-', linewidth=0.5)\n",
    "\n",
    "# Achsenbeschriftung und Titel hinzufuegen\n",
    "ax.set_xlabel('Jahr-Monat', fontsize=12)\n",
    "ax.set_ylabel('in Stück', fontsize=12)\n",
    "ax.set_title('Entwicklung der Verkaufsmenge')\n",
    "\n",
    "# Tausendertrennzeichen hinzufuegen\n",
    "ax.get_yaxis().set_major_formatter(plt.FuncFormatter(lambda x, loc: \"{:,}\".format(int(x))))\n",
    "\n",
    "# X-Achsenbeschriftung drehen\n",
    "plt.xticks(rotation=45)\n",
    "\n",
    "# Diagramm anzeigen\n",
    "plt.tight_layout()\n",
    "plt.show()"
   ]
  },
  {
   "cell_type": "markdown",
   "metadata": {},
   "source": [
    "### Entwicklung der durchschnittlichen Verkaufsmenge je Transaktion"
   ]
  },
  {
   "cell_type": "code",
   "execution_count": null,
   "metadata": {},
   "outputs": [],
   "source": [
    "# Durchschnittliche Anzahl der verkauften Produkte pro Transaktion\n",
    "avg_menge_pro_monat = df_sales.groupby(['year', 'month']).agg({\"amount\" : \"mean\"})\n",
    "avg_menge_pro_monat.reset_index(inplace=True)\n",
    "avg_menge_pro_monat"
   ]
  },
  {
   "cell_type": "code",
   "execution_count": null,
   "metadata": {},
   "outputs": [],
   "source": [
    "# Visualisierung der Entwicklung der durchschnittlichen Anzahl der verkauften Produkte pro Transaktion\n",
    "fig, ax = plt.subplots(figsize=(10, 6))\n",
    "\n",
    "# Daten plotten\n",
    "ax.bar(avg_menge_pro_monat['year'].astype(str) + '-' + avg_menge_pro_monat['month'].astype(str), avg_menge_pro_monat['amount'])\n",
    "\n",
    "# Grid hinzufuegen\n",
    "ax.grid(color='lightgrey', linestyle='-', linewidth=0.5)\n",
    "\n",
    "# Achsenbeschriftung und Titel hinzufuegen\n",
    "ax.set_xlabel('Jahr-Monat', fontsize=12)\n",
    "ax.set_ylabel('in Stück', fontsize=12)\n",
    "ax.set_title('Entwicklung der durchschnittlichen Anzahl der verkauften Produkte pro Transaktion')\n",
    "\n",
    "# X-Achsenbeschriftung drehen\n",
    "plt.xticks(rotation=45)\n",
    "\n",
    "# Diagramm anzeigen\n",
    "plt.tight_layout()\n",
    "plt.show()"
   ]
  },
  {
   "cell_type": "markdown",
   "metadata": {},
   "source": [
    "### Prozentuelle Veränderung vom Anfang bis zum Ende des Beobachtungszeitraums (Anfang November 2021 - Ende Oktober 2022)"
   ]
  },
  {
   "cell_type": "markdown",
   "metadata": {},
   "source": [
    "Bei der Berechnung der prozentuellen Veränderung wurden zwei Zeitpunkte miteinander verglichen: der erste Zeitpunkt (01.11.2021) und der letzte Zeitpunkt im Beobachtungszeitraum (31.10.2022)."
   ]
  },
  {
   "cell_type": "code",
   "execution_count": null,
   "metadata": {},
   "outputs": [],
   "source": [
    "# Neues Dataframe mit KPIs erstellen\n",
    "df_kpi = pd.DataFrame(columns=['kpi', 'change_in_percent'])\n",
    "\n",
    "# Liste mit den KPIs erstellen\n",
    "kpi = ['amount', 'revenue', 'cost_total', 'profit_total', 'profit_margin']\n",
    "\n",
    "# Berechnung der Veraenderung in Prozent\n",
    "for i in kpi:\n",
    "    change = (df_development[i].iloc[-1] / df_development[i].iloc[0] - 1) * 100\n",
    "    df_kpi.loc[len(df_kpi)] = [i, change]\n",
    "\n",
    "df_kpi"
   ]
  },
  {
   "cell_type": "code",
   "execution_count": null,
   "metadata": {},
   "outputs": [],
   "source": [
    "# Visualisierung der Veraenderung der KPIs als Saeulendiagramm\n",
    "fig, ax = plt.subplots(figsize=(10, 6))\n",
    "\n",
    "# Daten plotten\n",
    "bars = ax.bar(df_kpi['kpi'], df_kpi['change_in_percent'])\n",
    "\n",
    "# Achsenbeschriftung und Titel hinzufuegen\n",
    "ax.set_title('Veränderung der KPIs von Oktober 2021 bis September 2022')\n",
    "ax.set_xlabel('KPI', fontsize=12)\n",
    "ax.set_ylabel('in %', fontsize=12)\n",
    "\n",
    "# Horizontales Grid hinzufuegen\n",
    "ax.yaxis.grid(color='lightgrey', linestyle='-', linewidth=0.5)\n",
    "\n",
    "# Linie bei 0 hinzufuegen\n",
    "ax.axhline(0, color='black', linewidth=0.5)\n",
    "\n",
    "# Farbe der Saeulen anpassen\n",
    "ax.patches[0].set_color('green')\n",
    "ax.patches[1].set_color('green')\n",
    "ax.patches[2].set_color('red')\n",
    "ax.patches[3].set_color('red')\n",
    "ax.patches[4].set_color('red')\n",
    "\n",
    "# Beschriftung der Saeulen hinzufuegen\n",
    "ax.bar_label(bars, fmt='%.2f%%', padding=5, fontsize=16)\n",
    "\n",
    "# y-Achsenskala anpassen\n",
    "ax.set_ylim(ymax=250)\n",
    "ax.set_ylim(ymin=-100)\n",
    "\n",
    "# X-Achsenbeschriftung\n",
    "ax.xaxis.set_ticks(np.arange(5))\n",
    "ax.set_xticklabels(['Verkaufsmenge', 'Umsatz', 'Kosten', 'Profit', 'Umsatzrendite'])\n",
    "\n",
    "# Diagramm anzeigen\n",
    "plt.tight_layout()\n",
    "plt.show()"
   ]
  },
  {
   "cell_type": "markdown",
   "metadata": {},
   "source": [
    "**Erkenntnisse der Analyse:**\n",
    "\n",
    "Die Betrachtung der allgemeinen wirtschaftlichen Entwicklung der Tablet GmbH in den letzten 12 Monaten zeigt sowohl positive als auch negative Trends auf.\n",
    "\n",
    "Auf der einen Seite wurde die monatliche Verkaufsmenge von rund 61.000 Stück im Oktober 2021 um 20 % auf fast 74.000 Stück im November 2022 gesteigert. Einen ähnlichen positiven Trend kann man in der Umsatzentwicklung erkennen. Hier ist der Umsatz im Beobachtungszeitraum um rund 60 % gestiegen. Im Hinblick auf die durchschnittliche Verkaufsmenge je Transaktion ist jedoch ein leichter Abwärtstrend zu beobachten.\n",
    "\n",
    "Auf der anderen Seite ist ein drastischer Negativtrend in der Kosten-, Profit- und Umsatzrenditenentwicklung erkennbar. Die Kosten sind im Verlauf der letzten 12 Monate mit einem Zuwachs von 186 % geradezu explodiert, wodurch der Gewinn um rund 42 % gesunken ist. Dementsprechend ist auch die Umsatzrendite von ca. 55 % im Oktober 2021 auf ca. 19 % im November 2022 abgestürzt, was einer Senkung von ca. 64 % entspricht.\n",
    "\n",
    "Zusammmengefasst lässt sich also sagen, dass die wirtschaftliche Entwicklung der Tablet GmbH definitiv negativ war und dass es trotz Wachstum ein Gewinnrückgang zu verzeichnen ist. Die folgenden Analysen untersuchen nun die Gründe für diese Entwicklung, um daraufhin geeignete Handlungsempfehlungen zu formulieren.\n"
   ]
  },
  {
   "cell_type": "markdown",
   "metadata": {},
   "source": [
    "# <span style=\"color:red\">Ende Analyse Vince. Die folgenden Grafiken habe ich aus dem Notebook Vince_Analysen_neu eingefügt, da wir sie in der Präsi verwendet haben.</span>"
   ]
  },
  {
   "cell_type": "markdown",
   "metadata": {},
   "source": [
    "# 9. Analyse der Produktperformance"
   ]
  },
  {
   "cell_type": "code",
   "execution_count": null,
   "metadata": {},
   "outputs": [],
   "source": [
    "pd.options.display.float_format = '{:,.2f}'.format\n",
    "df_unit_cost = df_sales.groupby('product').agg({'amount': np.sum, 'cost_total' : np.sum})\n",
    "df_unit_cost['cost_per_unit'] = df_unit_cost['cost_total'] / df_unit_cost['amount']\n",
    "df_unit_cost.reset_index()"
   ]
  },
  {
   "cell_type": "code",
   "execution_count": null,
   "metadata": {},
   "outputs": [],
   "source": [
    "df_sales_basic_channel = df_sales[df_sales['product'] == 'Tablet Basic'].groupby('channel').agg({'amount': 'sum', 'revenue': 'sum', 'cost_total': 'sum', 'profit_total': 'sum'})\n",
    "df_sales_basic_region = df_sales[df_sales['product'] == 'Tablet Basic'].groupby('region').agg({'amount': 'sum', 'revenue': 'sum', 'cost_total': 'sum', 'profit_total': 'sum'})\n",
    "\n",
    "df_sales_basic_channel.reset_index(inplace=True)\n",
    "df_sales_basic_region.reset_index(inplace=True)\n",
    "\n",
    "df_sales_mini_channel = df_sales[df_sales['product'] == 'Tablet Mini'].groupby('channel').agg({'amount': 'sum', 'revenue': 'sum', 'cost_total': 'sum', 'profit_total': 'sum'})\n",
    "df_sales_mini_region = df_sales[df_sales['product'] == 'Tablet Mini'].groupby('region').agg({'amount': 'sum', 'revenue': 'sum', 'cost_total': 'sum', 'profit_total': 'sum'})\n",
    "\n",
    "df_sales_mini_channel.reset_index(inplace=True)\n",
    "df_sales_mini_region.reset_index(inplace=True)\n",
    "\n",
    "df_sales_pro_channel = df_sales[df_sales['product'] == 'Tablet Pro'].groupby('channel').agg({'amount': 'sum', 'revenue': 'sum', 'cost_total': 'sum', 'profit_total': 'sum'})\n",
    "df_sales_pro_region = df_sales[df_sales['product'] == 'Tablet Pro'].groupby('region').agg({'amount': 'sum', 'revenue': 'sum', 'cost_total': 'sum', 'profit_total': 'sum'})\n",
    "\n",
    "df_sales_pro_channel.reset_index(inplace=True)\n",
    "df_sales_pro_region.reset_index(inplace=True)"
   ]
  },
  {
   "cell_type": "code",
   "execution_count": null,
   "metadata": {},
   "outputs": [],
   "source": [
    "plt.figure(figsize=(10, 6))\n",
    "sns.barplot(data=df_sales_basic_channel, x='channel', y='cost_total')\n",
    "plt.title('Total cost per channel tablet basic')\n",
    "plt.xlabel('Channel')\n",
    "plt.ylabel('Cost')\n",
    "plt.show()\n",
    "\n",
    "plt.figure(figsize=(10, 6))\n",
    "sns.barplot(data=df_sales_mini_channel, x='channel', y='cost_total')\n",
    "plt.title('Total cost per channel tablet mini')\n",
    "plt.xlabel('Channel')\n",
    "plt.ylabel('Cost')\n",
    "plt.show()\n",
    "\n",
    "plt.figure(figsize=(10, 6))\n",
    "sns.barplot(data=df_sales_pro_channel, x='channel', y='cost_total')\n",
    "plt.title('Total cost per channel tablet pro')\n",
    "plt.xlabel('Channel')\n",
    "plt.ylabel('Cost')\n",
    "plt.show()\n",
    "\n",
    "plt.figure(figsize=(10, 6))\n",
    "sns.barplot(data=df_sales_basic_region, x='region', y='cost_total')\n",
    "plt.title('Total cost per region tablet basic')\n",
    "plt.xlabel('Region')\n",
    "plt.ylabel('Cost')\n",
    "plt.show()\n",
    "\n",
    "plt.figure(figsize=(10, 6))\n",
    "sns.barplot(data=df_sales_mini_region, x='region', y='cost_total')\n",
    "plt.title('Total cost per region tablet mini')\n",
    "plt.xlabel('Region')\n",
    "plt.ylabel('Cost')\n",
    "plt.show()\n",
    "\n",
    "plt.figure(figsize=(10, 6))\n",
    "sns.barplot(data=df_sales_pro_region, x='region', y='cost_total')\n",
    "plt.title('Total cost per region tablet pro')\n",
    "plt.xlabel('Region')\n",
    "plt.ylabel('Cost')\n",
    "plt.show()"
   ]
  },
  {
   "cell_type": "code",
   "execution_count": null,
   "metadata": {},
   "outputs": [],
   "source": [
    "cost_per_region_product_channel = df_sales.groupby(['region', 'product', 'channel'])['cost_total'].sum()/1_000_000\n",
    "cost_per_region_product_channel = cost_per_region_product_channel.reset_index()\n",
    "cost_per_region_product_channel"
   ]
  },
  {
   "cell_type": "code",
   "execution_count": null,
   "metadata": {},
   "outputs": [],
   "source": [
    "profit_per_region_product_channel = df_sales.groupby(['region', 'product', 'channel'])['profit_total'].sum()/1_000_000\n",
    "profit_per_region_product_channel = profit_per_region_product_channel.reset_index()\n",
    "profit_per_region_product_channel = profit_per_region_product_channel.replace({'product': {'Tablet Basic': 'Basic', 'Tablet Mini': 'Mini', 'Tablet Pro': 'Pro'}})\n",
    "profit_per_region_product_channel"
   ]
  },
  {
   "cell_type": "code",
   "execution_count": null,
   "metadata": {},
   "outputs": [],
   "source": [
    "region_costs = cost_per_region_product_channel['region'].unique()\n",
    "\n",
    "# Iteration über die einzelnen Regionen\n",
    "for region_cost in region_costs:\n",
    "    # Filtern der Daten für die aktuelle Region\n",
    "    region_data = cost_per_region_product_channel[cost_per_region_product_channel['region'] == region_cost]\n",
    "    \n",
    "    # Diagramm erstellen\n",
    "    fig, ax = plt.subplots()\n",
    "    \n",
    "    # Erstellen der x-Achsenbeschriftungen für das Säulendiagramm\n",
    "    products = region_data['product']\n",
    "    channels = region_data['channel']\n",
    "    labels = [f'{product} - {channel}' for product, channel in zip(products, channels)]\n",
    "    \n",
    "    # Extrahieren der Gewinne\n",
    "    costs = region_data['cost_total']\n",
    "    \n",
    "    # Festlegen der Farben für Basic, Mini und Pro\n",
    "    colors = ['r' if product == 'Tablet Basic' else 'b' if product == 'Tablet Mini' else 'g' for product in products]\n",
    "    \n",
    "    # Erstellen des Säulendiagramms mit den entsprechenden Farben\n",
    "    plt.bar(labels, costs, color=colors)\n",
    "    \n",
    "    # Achsentitel und Diagrammtitel\n",
    "    \n",
    "    plt.xlabel('Produkt und Kanal', size = 15)\n",
    "    plt.ylabel('Kosten in Mio', size = 15)\n",
    "    plt.title(f'Kosten der Region {region_cost}', size = 20)\n",
    "    \n",
    "  \n",
    "    # Anpassung des Layouts und Anzeigen des Diagramms\n",
    "    plt.tight_layout()\n",
    "    \n",
    "    # Gitterlinien aktivieren\n",
    "    plt.grid(True)\n",
    "\n",
    "    # Gitter in den Hintergrund legen\n",
    "    ax.set_axisbelow(True)\n",
    "     \n",
    "    # Anpassung x-Achse und y-Achse\n",
    "    import math\n",
    "    max = math.ceil(costs.max() / 10.0) * 10 + 10\n",
    "    ticks = max / 10\n",
    "    plt.xticks(rotation = 65)\n",
    "    plt.yticks(np.arange(0, max, ticks))\n",
    "    plt.show()"
   ]
  },
  {
   "cell_type": "code",
   "execution_count": null,
   "metadata": {},
   "outputs": [],
   "source": [
    "from matplotlib.patches import Patch\n",
    "\n",
    "region_costs = profit_per_region_product_channel['region'].unique()\n",
    "\n",
    "# Iteration über die einzelnen Regionen\n",
    "for region_cost in region_costs:\n",
    "    # Filtern der Daten für die aktuelle Region\n",
    "    region_data = profit_per_region_product_channel[profit_per_region_product_channel['region'] == region_cost]\n",
    "    \n",
    "    # Diagramm erstellen\n",
    "    fig, ax = plt.subplots(figsize=(12, 6))\n",
    "    \n",
    "    # Erstellen der x-Achsenbeschriftungen für das Säulendiagramm\n",
    "    products = region_data['product']\n",
    "    channels = region_data['channel']\n",
    "    labels = [f'{product} - {channel}' for product, channel in zip(products, channels)]\n",
    "    \n",
    "    # Extrahieren der Gewinne\n",
    "    profits = region_data['profit_total']\n",
    "    \n",
    "    # Festlegen der Farben für Basic, Mini und Pro\n",
    "    colors = ['tab:orange' if product == 'Basic' else 'b' if product == 'Mini' else 'g' for product in products]\n",
    "    \n",
    "    # Erstellen des Säulendiagramms mit den entsprechenden Farben\n",
    "    plt.bar(labels, profits, color=colors)\n",
    "    \n",
    "    # Achsentitel und Diagrammtitel\n",
    "    plt.xlabel('Produkt und Kanal', size = 15)\n",
    "    plt.ylabel('Profit in Mio. €', size = 15)\n",
    "    plt.title(f'Profit pro Produkt & Kanal - Region {region_cost}', size = 20)\n",
    "    \n",
    "    # Anpassung des Layouts und Anzeigen des Diagramms\n",
    "    plt.tight_layout()\n",
    "    \n",
    "    # Gitterlinien aktivieren\n",
    "    plt.grid(True)\n",
    "\n",
    "    # Legende anzeigen mit den entsprechenden Farben\n",
    "    legend_elements = [Patch(facecolor='tab:orange', label='Basic'),\n",
    "                          Patch(facecolor='b', label='Mini'),\n",
    "                          Patch(facecolor='g', label='Pro')]\n",
    "    plt.legend(handles=legend_elements, loc='upper right', fontsize='large')\n",
    "\n",
    "    # Gitter in den Hintergrund legen\n",
    "    ax.set_axisbelow(True)\n",
    "     \n",
    "    # Anpassung x-Achse und y-Achse\n",
    "    import math\n",
    "    #max = math.ceil(profits.max() / 10.0) * 10 + 5\n",
    "    max = 22.5\n",
    "    ticks = 2.5\n",
    "    plt.xticks(rotation = 45)\n",
    "    plt.yticks(np.arange(0, max, ticks))\n",
    "    plt.show()"
   ]
  },
  {
   "cell_type": "code",
   "execution_count": null,
   "metadata": {},
   "outputs": [],
   "source": [
    "# Transaktionen mit Verlust\n",
    "df_sales_negative_profit = df_sales[df_sales['profit_total'] < 0]\n",
    "df_sales_negative_profit.head"
   ]
  },
  {
   "cell_type": "code",
   "execution_count": null,
   "metadata": {},
   "outputs": [],
   "source": [
    "# Welche Produkte wurden mit einem Verlust verkauft?\n",
    "df_sales_negative_profit['product'].unique()"
   ]
  },
  {
   "cell_type": "code",
   "execution_count": null,
   "metadata": {},
   "outputs": [],
   "source": [
    "# Summe des Verlusts\n",
    "df_sales_negative_profit['profit_total'].sum()"
   ]
  },
  {
   "cell_type": "code",
   "execution_count": null,
   "metadata": {},
   "outputs": [],
   "source": [
    "# In welchen Verkaufskanälen und Regionen wurden die Produkte mit negativem Gewinn verkauft und wie oft?\n",
    "df_sales_negative_profit.groupby(['region', 'channel']).agg({'transaction_id': 'count', 'profit_total': 'sum'})"
   ]
  },
  {
   "cell_type": "code",
   "execution_count": null,
   "metadata": {},
   "outputs": [],
   "source": [
    "# Group by channel, product and sum up amount\n",
    "sales_per_product_by_channel = df_sales.groupby(['channel', 'product']).agg({'amount': 'sum'})\n",
    "sales_per_product_by_channel = sales_per_product_by_channel.reset_index()\n",
    "sales_per_product_by_channel"
   ]
  },
  {
   "cell_type": "code",
   "execution_count": null,
   "metadata": {},
   "outputs": [],
   "source": [
    "plt.figure(figsize=(10, 6))\n",
    "\n",
    "sns.barplot(data=sales_per_product_by_channel, x='channel', y='amount', hue='product')\n",
    "\n",
    "plt.title('Amount sold per product, grouped by channel')\n",
    "plt.xlabel('Channel')\n",
    "plt.ylabel('Amount sold')\n",
    "plt.show()"
   ]
  },
  {
   "cell_type": "code",
   "execution_count": null,
   "metadata": {},
   "outputs": [],
   "source": [
    "# Group by region, product and sum up amount\n",
    "sales_per_product_by_region = df_sales.groupby(['region', 'product']).agg({'amount': 'sum'})\n",
    "sales_per_product_by_region = sales_per_product_by_region.reset_index()\n",
    "sales_per_product_by_region"
   ]
  },
  {
   "cell_type": "code",
   "execution_count": null,
   "metadata": {},
   "outputs": [],
   "source": [
    "plt.figure(figsize=(10, 6))\n",
    "\n",
    "sns.barplot(data=sales_per_product_by_region, x='region', y='amount', hue='product')\n",
    "\n",
    "plt.title('Amount sold per product, grouped by region')\n",
    "plt.xlabel('Region')\n",
    "plt.ylabel('Amount sold')\n",
    "plt.show()"
   ]
  },
  {
   "cell_type": "markdown",
   "metadata": {},
   "source": [
    "# Umsatzanteile nach Regionen"
   ]
  },
  {
   "cell_type": "code",
   "execution_count": null,
   "metadata": {},
   "outputs": [],
   "source": [
    "# Anteil am Umsatz nach Region als Kreisdiagramm\n",
    "df_sales_per_region = df_sales.groupby(['region'])['revenue'].sum()\n",
    "\n",
    "# Kreisdiagramm\n",
    "plt.pie(df_sales_per_region, labels=df_sales_per_region.index, autopct='%1.1f%%', counterclock=False, startangle=90)\n",
    "plt.title('Umsatzanteile nach Regionen')\n",
    "\n",
    "plt.tight_layout()\n",
    "plt.show()"
   ]
  },
  {
   "cell_type": "markdown",
   "metadata": {},
   "source": [
    "# Umsatzanteile nach Verkaufskanälen"
   ]
  },
  {
   "cell_type": "code",
   "execution_count": null,
   "metadata": {},
   "outputs": [],
   "source": [
    "# Anteil am Umsatz nach Kanal als Kreisdiagramm\n",
    "df_sales_per_channel = df_sales.groupby(['channel'])['revenue'].sum()\n",
    "\n",
    "# Kreisdiagramm\n",
    "plt.pie(df_sales_per_channel, labels=df_sales_per_channel.index, autopct='%1.1f%%', counterclock=False, startangle=90)\n",
    "plt.title('Umsatzanteile nach Kanälen')\n",
    "\n",
    "plt.tight_layout()\n",
    "plt.show()"
   ]
  },
  {
   "cell_type": "markdown",
   "metadata": {},
   "source": [
    "# Umsatzanteile nach Produkten"
   ]
  },
  {
   "cell_type": "code",
   "execution_count": null,
   "metadata": {},
   "outputs": [],
   "source": [
    "# Anteil am Umsatz nach Produkt als Kreisdiagramm\n",
    "df_sales_per_product = df_sales.groupby(['product'])['revenue'].sum()\n",
    "\n",
    "# Kreisdiagramm\n",
    "plt.pie(df_sales_per_product, labels=df_sales_per_product.index, autopct='%1.1f%%', counterclock=False, startangle=90)\n",
    "plt.title('Umsatzanteile nach Produkten')\n",
    "\n",
    "plt.tight_layout()\n",
    "plt.show()"
   ]
  },
  {
   "cell_type": "markdown",
   "metadata": {},
   "source": [
    "# Downtime-Daten als Säulendiagramm"
   ]
  },
  {
   "cell_type": "markdown",
   "metadata": {},
   "source": [
    "# <span style=\"color:red\">Alles hiernach gehört zu Silas Analyse, daher habe ich es stehen lassen.</span>"
   ]
  },
  {
   "cell_type": "markdown",
   "metadata": {},
   "source": [
    "### Analyse der Kunden Bewertungen und der Verkauften Geräte nach Produkt und Zeit aufgeschlüsselt"
   ]
  },
  {
   "cell_type": "code",
   "execution_count": null,
   "metadata": {},
   "outputs": [],
   "source": [
    "df_sales.groupby([\"product\",\"year\", \"month\"]).agg({\"customer_rating\" : {\"mean\", \"median\", \"min\", \"max\"}, \"amount\" : \"count\"}).round(2)"
   ]
  },
  {
   "cell_type": "markdown",
   "metadata": {},
   "source": [
    "**Anlyse der Kundenbewertungen:**\n",
    "\n",
    "Was man aus der Tabelle schon ablesen kann ist das die Bewertungen der Kunden für das Tablet Mini und das Tablet Basic schlechter werden und für das Pro besser werden. Gleichzeitig bewegen sich die Verkaufszahlen in dieselbe Richtung wie die Bewertungen scheinen aber nicht direkt im Zusammenhang zu stehen."
   ]
  },
  {
   "cell_type": "markdown",
   "metadata": {},
   "source": [
    "## Vetriebskanäle"
   ]
  },
  {
   "cell_type": "raw",
   "metadata": {},
   "source": [
    "Anteil der Kanäle an verkäufen **\n",
    "Anteil der Produkte in den Kanälen **\n",
    "Anteil der Regionen an den Kanälen **"
   ]
  },
  {
   "cell_type": "code",
   "execution_count": null,
   "metadata": {},
   "outputs": [],
   "source": [
    "df_sales_online = df_sales[df_sales['channel'] == 'online']\n",
    "df_sales_phone = df_sales[df_sales['channel'] == 'phone']\n",
    "df_sales_store = df_sales[df_sales['channel'] == 'store']"
   ]
  },
  {
   "cell_type": "markdown",
   "metadata": {},
   "source": [
    "### Verkaufte Geräte pro Verkaufskanal"
   ]
  },
  {
   "cell_type": "code",
   "execution_count": null,
   "metadata": {},
   "outputs": [],
   "source": [
    "# Group by month and count sales\n",
    "df_sales_online_monthly = df_sales_online.groupby(df_sales_online['date'].dt.to_period('M'))['amount'].sum().reset_index()\n",
    "df_sales_phone_monthly = df_sales_phone.groupby(df_sales_phone['date'].dt.to_period('M'))['amount'].sum().reset_index()\n",
    "df_sales_store_monthly = df_sales_store.groupby(df_sales_store['date'].dt.to_period('M'))['amount'].sum().reset_index()\n",
    "\n",
    "df_sales_online_monthly['date'] = df_sales_online_monthly['date'].dt.to_timestamp()\n",
    "df_sales_phone_monthly['date'] = df_sales_phone_monthly['date'].dt.to_timestamp()\n",
    "df_sales_store_monthly['date'] = df_sales_store_monthly['date'].dt.to_timestamp()"
   ]
  },
  {
   "cell_type": "code",
   "execution_count": null,
   "metadata": {},
   "outputs": [],
   "source": [
    "# Set the size of the plot\n",
    "plt.figure(figsize=(12, 6))\n",
    "\n",
    "# Extract year and month from the 'date' column\n",
    "df_sales_online_monthly['year_month'] = df_sales_online_monthly['date'].dt.strftime('%Y-%m')\n",
    "\n",
    "# Create a list of unique year_month values for x-axis\n",
    "x_labels = df_sales_online_monthly['year_month'].unique()\n",
    "x = np.arange(len(df_sales_online_monthly['date']))\n",
    "\n",
    "# Define the width for each bar\n",
    "bar_width = 0.2\n",
    "\n",
    "# Create the bar plots for each sales channel\n",
    "plt.bar(x - bar_width, df_sales_online_monthly['amount'], width=bar_width, label='online', color='tab:orange', alpha=0.7)\n",
    "plt.bar(x, df_sales_phone_monthly['amount'], width=bar_width, label='phone', color='b', alpha=0.7)\n",
    "plt.bar(x + bar_width, df_sales_store_monthly['amount'], width=bar_width, label='store', color='g', alpha=0.7)\n",
    "\n",
    "# Enhance the plot with titles and labels\n",
    "plt.title('Verkaufsmenge pro Monat nach Verkaufskanälen')\n",
    "plt.xlabel('Jahr-Monat')\n",
    "plt.ylabel('Menge in Stück')\n",
    "\n",
    "# Set x-axis ticks and labels to be the dates\n",
    "plt.xticks(x, x_labels, rotation=45)\n",
    "\n",
    "# Add legend\n",
    "plt.legend(loc='upper left')\n",
    "\n",
    "# Show the plot\n",
    "plt.tight_layout()\n",
    "plt.show()"
   ]
  },
  {
   "cell_type": "markdown",
   "metadata": {},
   "source": [
    "**Analyse der Absatzmengen pro Vertriebskanäle:**\n",
    "\n",
    "Wir sehen stark fallende Absatzzahlen für den Vertriebskanal online, einen leichten anstieg im phone Vertriebskanal und einen starken anstieg im store Vertriebskanal im Beobachtungszeitraum. Das starke Wachstum des store Geschäfts sorgt also dafür das wir trotzdem einen Anstieg bei den Absatzzahlen verzeichnen können. Es gilt jetzt zu analysieren warum die Vertriebskanäle sich so verhalten. "
   ]
  },
  {
   "cell_type": "markdown",
   "metadata": {},
   "source": [
    "### Verkaufte Produkte pro Verkaufskanal"
   ]
  },
  {
   "cell_type": "markdown",
   "metadata": {},
   "source": [
    "Ein Grund für die unterschiedlichen Trends der in den einzelnen Vertriebskanälen könnte daran liegen das sie unterschiedlich stark von den einzelnen Produkttrends beeinflusst werden. Wir Analysieren also im folgenden welche Produkte im welchen Vertriebskanal abgesetzt werden und ob die Trends der Absatzmenge der einzelnen Produkte konstant ist über alle Vertriebskanäle."
   ]
  },
  {
   "cell_type": "markdown",
   "metadata": {},
   "source": [
    "#### Online"
   ]
  },
  {
   "cell_type": "code",
   "execution_count": null,
   "metadata": {},
   "outputs": [],
   "source": [
    "df_sales_online_basic = df_sales_online[df_sales_online['product'] == 'Tablet Basic']\n",
    "df_sales_online_mini = df_sales_online[df_sales_online['product'] == 'Tablet Mini']\n",
    "df_sales_online_pro = df_sales_online[df_sales_online['product'] == 'Tablet Pro']\n",
    "\n",
    "# Group by month and count sales\n",
    "df_sales_online_basic_monthly = df_sales_online_basic.groupby(df_sales_online_basic['date'].dt.to_period('M'))['amount'].sum().reset_index()\n",
    "df_sales_online_mini_monthly = df_sales_online_mini.groupby(df_sales_online_mini['date'].dt.to_period('M'))['amount'].sum().reset_index()\n",
    "df_sales_online_pro_monthly = df_sales_online_pro.groupby(df_sales_online_pro['date'].dt.to_period('M'))['amount'].sum().reset_index()\n",
    "\n",
    "df_sales_online_basic_monthly['date'] = df_sales_online_basic_monthly['date'].dt.to_timestamp()\n",
    "df_sales_online_mini_monthly['date'] = df_sales_online_mini_monthly['date'].dt.to_timestamp()\n",
    "df_sales_online_pro_monthly['date'] = df_sales_online_pro_monthly['date'].dt.to_timestamp()"
   ]
  },
  {
   "cell_type": "markdown",
   "metadata": {},
   "source": [
    "#### Phone"
   ]
  },
  {
   "cell_type": "code",
   "execution_count": null,
   "metadata": {},
   "outputs": [],
   "source": [
    "df_sales_phone_basic = df_sales_phone[df_sales_phone['product'] == 'Tablet Basic']\n",
    "df_sales_phone_mini = df_sales_phone[df_sales_phone['product'] == 'Tablet Mini']\n",
    "df_sales_phone_pro = df_sales_phone[df_sales_phone['product'] == 'Tablet Pro']\n",
    "\n",
    "# Group by month and count sales\n",
    "df_sales_phone_basic_monthly = df_sales_phone_basic.groupby(df_sales_phone_basic['date'].dt.to_period('M'))['amount'].sum().reset_index()\n",
    "df_sales_phone_mini_monthly = df_sales_phone_mini.groupby(df_sales_phone_mini['date'].dt.to_period('M'))['amount'].sum().reset_index()\n",
    "df_sales_phone_pro_monthly = df_sales_phone_pro.groupby(df_sales_phone_pro['date'].dt.to_period('M'))['amount'].sum().reset_index()\n",
    "\n",
    "df_sales_phone_basic_monthly['date'] = df_sales_phone_basic_monthly['date'].dt.to_timestamp()\n",
    "df_sales_phone_mini_monthly['date'] = df_sales_phone_mini_monthly['date'].dt.to_timestamp()\n",
    "df_sales_phone_pro_monthly['date'] = df_sales_phone_pro_monthly['date'].dt.to_timestamp()"
   ]
  },
  {
   "cell_type": "markdown",
   "metadata": {},
   "source": [
    "#### Store"
   ]
  },
  {
   "cell_type": "code",
   "execution_count": null,
   "metadata": {},
   "outputs": [],
   "source": [
    "df_sales_store_basic = df_sales_store[df_sales_store['product'] == 'Tablet Basic']\n",
    "df_sales_store_mini = df_sales_store[df_sales_store['product'] == 'Tablet Mini']\n",
    "df_sales_store_pro = df_sales_store[df_sales_store['product'] == 'Tablet Pro']\n",
    "\n",
    "# Group by month and count sales\n",
    "df_sales_store_basic_monthly = df_sales_store_basic.groupby(df_sales_store_basic['date'].dt.to_period('M'))['amount'].sum().reset_index()\n",
    "df_sales_store_mini_monthly = df_sales_store_mini.groupby(df_sales_store_mini['date'].dt.to_period('M'))['amount'].sum().reset_index()\n",
    "df_sales_store_pro_monthly = df_sales_store_pro.groupby(df_sales_store_pro['date'].dt.to_period('M'))['amount'].sum().reset_index()\n",
    "\n",
    "df_sales_store_basic_monthly['date'] = df_sales_store_basic_monthly['date'].dt.to_timestamp()\n",
    "df_sales_store_mini_monthly['date'] = df_sales_store_mini_monthly['date'].dt.to_timestamp()\n",
    "df_sales_store_pro_monthly['date'] = df_sales_store_pro_monthly['date'].dt.to_timestamp()"
   ]
  },
  {
   "cell_type": "markdown",
   "metadata": {},
   "source": [
    "#### Create Graphs"
   ]
  },
  {
   "cell_type": "code",
   "execution_count": null,
   "metadata": {},
   "outputs": [],
   "source": [
    "# Set the size of the plot\n",
    "plt.figure(figsize=(5, 5))\n",
    "\n",
    "# Extract year and month from the 'date' column\n",
    "df_sales_online_monthly['year_month'] = df_sales_online_monthly['date'].dt.strftime('%Y-%m')\n",
    "\n",
    "# Create a list of unique year_month values for x-axis\n",
    "x_labels = df_sales_online_monthly['year_month'].unique()\n",
    "x = np.arange(len(df_sales_online_monthly['date']))\n",
    "\n",
    "# Define the width for each bar\n",
    "bar_width = 0.2\n",
    "\n",
    "# Create the bar plots for each sales channel\n",
    "plt.bar(x - bar_width, df_sales_online_basic_monthly['amount'], width=bar_width, label='Basic', color='b', alpha=0.7)\n",
    "plt.bar(x, df_sales_online_mini_monthly['amount'], width=bar_width, label='Mini', color='g', alpha=0.7)\n",
    "plt.bar(x + bar_width, df_sales_online_pro_monthly['amount'], width=bar_width, label='Pro', color='tab:orange', alpha=0.7)\n",
    "\n",
    "# Enhance the plot with titles and labels\n",
    "plt.title('Verkaufsmenge pro Produkt - Online')\n",
    "plt.xlabel('Jahr-Monat')\n",
    "plt.ylabel('Menge in Stück')\n",
    "\n",
    "# Set x-axis ticks and labels to be the dates\n",
    "plt.xticks(x, x_labels, rotation=45)\n",
    "\n",
    "# Add legend\n",
    "plt.legend(loc='upper right')\n",
    "\n",
    "# Show the plot\n",
    "plt.tight_layout()\n",
    "plt.show()\n",
    "\n",
    "# Set the size of the plot\n",
    "plt.figure(figsize=(5, 5))\n",
    "\n",
    "# Extract year and month from the 'date' column\n",
    "df_sales_online_monthly['year_month'] = df_sales_online_monthly['date'].dt.strftime('%Y-%m')\n",
    "\n",
    "# Create a list of unique year_month values for x-axis\n",
    "x_labels = df_sales_online_monthly['year_month'].unique()\n",
    "x = np.arange(len(df_sales_online_monthly['date']))\n",
    "\n",
    "# Define the width for each bar\n",
    "bar_width = 0.2\n",
    "\n",
    "# Create the bar plots for each sales channel\n",
    "plt.bar(x - bar_width, df_sales_phone_basic_monthly['amount'], width=bar_width, label='Basic', color='b', alpha=0.7)\n",
    "plt.bar(x, df_sales_phone_mini_monthly['amount'], width=bar_width, label='Mini', color='g', alpha=0.7)\n",
    "plt.bar(x + bar_width, df_sales_phone_pro_monthly['amount'], width=bar_width, label='Pro', color='tab:orange', alpha=0.7)\n",
    "\n",
    "# Enhance the plot with titles and labels\n",
    "plt.title('Verkaufsmenge pro Produkt - Phone')\n",
    "plt.xlabel('Jahr-Monat')\n",
    "plt.ylabel('Menge in Stück')\n",
    "\n",
    "# Set x-axis ticks and labels to be the dates\n",
    "plt.xticks(x, x_labels, rotation=45)\n",
    "\n",
    "# Add legend\n",
    "plt.legend(loc='upper right')\n",
    "\n",
    "# Show the plot\n",
    "plt.tight_layout()\n",
    "plt.show()\n",
    "\n",
    "# Set the size of the plot\n",
    "plt.figure(figsize=(5, 5))\n",
    "\n",
    "# Extract year and month from the 'date' column\n",
    "df_sales_online_monthly['year_month'] = df_sales_online_monthly['date'].dt.strftime('%Y-%m')\n",
    "\n",
    "# Create a list of unique year_month values for x-axis\n",
    "x_labels = df_sales_online_monthly['year_month'].unique()\n",
    "x = np.arange(len(df_sales_online_monthly['date']))\n",
    "\n",
    "# Define the width for each bar\n",
    "bar_width = 0.2\n",
    "\n",
    "# Create the bar plots for each sales channel\n",
    "plt.bar(x - bar_width, df_sales_store_basic_monthly['amount'], width=bar_width, label='Basic', color='b', alpha=0.7)\n",
    "plt.bar(x, df_sales_store_mini_monthly['amount'], width=bar_width, label='Mini', color='g', alpha=0.7)\n",
    "plt.bar(x + bar_width, df_sales_store_pro_monthly['amount'], width=bar_width, label='Pro', color='tab:orange', alpha=0.7)\n",
    "\n",
    "# Enhance the plot with titles and labels\n",
    "plt.title('Verkaufsmenge pro Produkt - Store')\n",
    "plt.xlabel('Jahr-Monat')\n",
    "plt.ylabel('Menge in Stück')\n",
    "\n",
    "# Set x-axis ticks and labels to be the dates\n",
    "plt.xticks(x, x_labels, rotation=45)\n",
    "\n",
    "# Add legend\n",
    "plt.legend(loc='upper right')\n",
    "\n",
    "# Show the plot\n",
    "plt.tight_layout()\n",
    "plt.show()"
   ]
  },
  {
   "cell_type": "markdown",
   "metadata": {},
   "source": [
    "Was wir sehen können ist das die einzelnen Produkte in alle Vertriebskanälen denselben Trend aufweisen. Doch ist ihre Absatzmengen komplett unterschiedlich weswegen z.B. der online Vertriebskanal eine sinkende Absatzmenge hat da es deutlich vom Tablet Basic dominiert wird und dieses eine starken Absatz Rückgang verzeichnet. "
   ]
  },
  {
   "cell_type": "markdown",
   "metadata": {},
   "source": [
    "#### Aufteilung der Verkaufkänäle in Regionen"
   ]
  },
  {
   "cell_type": "markdown",
   "metadata": {},
   "source": [
    "Um sicherzustellen, das die Analyse oben nicht durch die Regionen beeinflusst wurde nehmen wir nun noch die Regionen mit in die Analyse auf. Vielleicht sind die Vertriebskanäle ja sehr unterschiedlich stark in jeder Region."
   ]
  },
  {
   "cell_type": "code",
   "execution_count": null,
   "metadata": {},
   "outputs": [],
   "source": [
    "# Annahme: Ihre DataFrame 'df_sales' enthält Spalten 'date', 'region', 'amount'\n",
    "\n",
    "# Extrahieren Sie den Monat und das Jahr aus der 'date'-Spalte\n",
    "df_sales['month_year'] = df_sales['date'].dt.strftime('%Y-%m')\n",
    "\n",
    "# Gruppieren Sie Ihre Daten nach 'month_year' und 'region' und summieren Sie die Werte\n",
    "grouped_data = df_sales.groupby(['month_year', 'channel', 'region'])['amount'].sum().unstack(fill_value=0)\n",
    "\n",
    "# Set the size of the plot\n",
    "plt.figure(figsize=(12, 6))\n",
    "\n",
    "# Create the x-axis values for each date\n",
    "x_labels = grouped_data.index\n",
    "x = np.arange(len(x_labels))\n",
    "\n",
    "# Define the width for each bar\n",
    "bar_width = 0.35\n",
    "\n",
    "# Create the stacked bar plots for each region\n",
    "bottom = np.zeros(len(x_labels))\n",
    "regions = grouped_data.columns\n",
    "\n",
    "for region in regions:\n",
    "    plt.bar(x, grouped_data[region], width=bar_width, label=region, alpha=0.7, bottom=bottom)\n",
    "    bottom += grouped_data[region]\n",
    "\n",
    "# Enhance the plot with titles and labels\n",
    "plt.title('Verkaufte Geräte pro Vertriebskanal und Region')\n",
    "plt.xlabel('Date')\n",
    "plt.ylabel('Amount')\n",
    "\n",
    "# Set x-axis ticks and labels\n",
    "plt.xticks(x, x_labels, rotation=90)\n",
    "\n",
    "# Add legend\n",
    "plt.legend(loc='upper left', title='Region')\n",
    "\n",
    "# Show the plot\n",
    "plt.tight_layout()\n",
    "plt.show()"
   ]
  },
  {
   "cell_type": "markdown",
   "metadata": {},
   "source": [
    "**Analyse der Verkaufte Geräte pro Vertriebskanal und Region**\n",
    "\n",
    "Auch wenn die Statistiken aufgrund der vielen Parameter etwas schwer zu lesen ist lässt sich kein besonderer Zusammenhang zwischen dem vorher Analysieren Ergebnis und den Regionen feststellen."
   ]
  },
  {
   "cell_type": "markdown",
   "metadata": {},
   "source": [
    "## Rabatte"
   ]
  },
  {
   "cell_type": "markdown",
   "metadata": {},
   "source": [
    "Wir schauen uns die Rabatte an und schauen ob wir unseren Umsatz vielleicht durch größere Rabatte senken und Analysieren welche Faktoren bestimmen welcher Kunde einen Rabatt bekommt und wie es sich im Beobachtungszeitraum entwickelt hat."
   ]
  },
  {
   "cell_type": "markdown",
   "metadata": {},
   "source": [
    "#### Durchschnittliche Rabatte pro Vertriebskanal in %"
   ]
  },
  {
   "cell_type": "code",
   "execution_count": null,
   "metadata": {},
   "outputs": [],
   "source": [
    "# Group by month and count sales\n",
    "df_discounts_monthly = df_sales.groupby(df_sales['date'].dt.to_period('M'))['discount'].mean().reset_index()\n",
    "df_discounts_online_monthly = df_sales_online.groupby(df_sales_online['date'].dt.to_period('M'))['discount'].mean().reset_index()\n",
    "df_discounts_phone_monthly = df_sales_phone.groupby(df_sales_phone['date'].dt.to_period('M'))['discount'].mean().reset_index()\n",
    "df_discounts_store_monthly = df_sales_store.groupby(df_sales_store['date'].dt.to_period('M'))['discount'].mean().reset_index()\n",
    "\n",
    "df_discounts_monthly['date'] = df_discounts_monthly['date'].dt.to_timestamp()\n",
    "df_discounts_online_monthly['date'] = df_discounts_online_monthly['date'].dt.to_timestamp()\n",
    "df_discounts_phone_monthly['date'] = df_discounts_phone_monthly['date'].dt.to_timestamp()\n",
    "df_discounts_store_monthly['date'] = df_discounts_store_monthly['date'].dt.to_timestamp()"
   ]
  },
  {
   "cell_type": "code",
   "execution_count": null,
   "metadata": {},
   "outputs": [],
   "source": [
    "# Set the size of the plot\n",
    "plt.figure(figsize=(12, 6))\n",
    "\n",
    "# Extract year and month from the 'date' column\n",
    "df_discounts_online_monthly['year_month'] = df_discounts_online_monthly['date'].dt.strftime('%Y-%m')\n",
    "\n",
    "# Create a list of unique year_month values for x-axis\n",
    "x_labels = df_discounts_online_monthly['year_month'].unique()\n",
    "x = np.arange(len(df_discounts_online_monthly['date']))\n",
    "\n",
    "# Define the width for each bar\n",
    "bar_width = 0.2\n",
    "\n",
    "# Create the bar plots for each sales channel\n",
    "plt.bar(x - bar_width, (df_discounts_online_monthly['discount']), width=bar_width, label='Online', color='b', alpha=0.7)\n",
    "plt.bar(x, (df_discounts_phone_monthly['discount']), width=bar_width, label='Phone', color='g', alpha=0.7)\n",
    "plt.bar(x + bar_width, (df_discounts_store_monthly['discount']), width=bar_width, label='Store', color='tab:orange', alpha=0.7)\n",
    "\n",
    "# Plot the line plot using data from df_discounts_monthly\n",
    "plt.plot(x, (df_discounts_monthly['discount']), label='ø Rabatt', color='purple', linewidth=2, marker='o')\n",
    "\n",
    "# Enhance the plot with titles and labels\n",
    "plt.title('Rabatte pro Vertriebskanal')\n",
    "plt.xlabel('Monat')\n",
    "plt.ylabel('Rabatt in %')\n",
    "\n",
    "# Set x-axis ticks and labels to be the dates\n",
    "plt.xticks(x, x_labels, rotation=45)\n",
    "\n",
    "# Add legend\n",
    "plt.legend(loc='upper right')\n",
    "\n",
    "# Show the plot\n",
    "plt.tight_layout()\n",
    "plt.show()"
   ]
  },
  {
   "cell_type": "markdown",
   "metadata": {},
   "source": [
    "**Analyseergebnis der Rabatte pro Vertriebskanal**\n",
    "\n",
    "Wir sehen das am meisten Rabatt im online Vertriebskanal gegeben wird und das durch die sinkende Absatzmenge online der durchschnitt sich immer mehr den anderen Vertriebskanälen annähert. Außerdem sehen wir das in allen Vertriebskanälen immer weniger Rabatte gegeben werden, was darauf schließen lässt das sich durch die Rabatte nicht unser Umsatz sinkt."
   ]
  },
  {
   "cell_type": "markdown",
   "metadata": {},
   "source": [
    "#### Durchschnittliche Rabatte pro Region in %"
   ]
  },
  {
   "cell_type": "code",
   "execution_count": null,
   "metadata": {},
   "outputs": [],
   "source": [
    "df_sales_A = df_sales[df_sales['region'] == 'A']\n",
    "df_sales_B = df_sales[df_sales['region'] == 'B']\n",
    "df_sales_C = df_sales[df_sales['region'] == 'C']\n",
    "df_sales_D = df_sales[df_sales['region'] == 'D']"
   ]
  },
  {
   "cell_type": "code",
   "execution_count": null,
   "metadata": {},
   "outputs": [],
   "source": [
    "# Group by month and count sales\n",
    "df_discounts_A_monthly = df_sales_A.groupby(df_sales_A['date'].dt.to_period('M'))['discount'].mean().reset_index()\n",
    "df_discounts_B_monthly = df_sales_B.groupby(df_sales_B['date'].dt.to_period('M'))['discount'].mean().reset_index()\n",
    "df_discounts_C_monthly = df_sales_C.groupby(df_sales_C['date'].dt.to_period('M'))['discount'].mean().reset_index()\n",
    "df_discounts_D_monthly = df_sales_D.groupby(df_sales_D['date'].dt.to_period('M'))['discount'].mean().reset_index()\n",
    "\n",
    "df_discounts_A_monthly['date'] = df_discounts_A_monthly['date'].dt.to_timestamp()\n",
    "df_discounts_B_monthly['date'] = df_discounts_B_monthly['date'].dt.to_timestamp()\n",
    "df_discounts_C_monthly['date'] = df_discounts_C_monthly['date'].dt.to_timestamp()\n",
    "df_discounts_D_monthly['date'] = df_discounts_D_monthly['date'].dt.to_timestamp()"
   ]
  },
  {
   "cell_type": "code",
   "execution_count": null,
   "metadata": {},
   "outputs": [],
   "source": [
    "# Set the size of the plot\n",
    "plt.figure(figsize=(12, 6))\n",
    "\n",
    "# Extract year and month from the 'date' column\n",
    "df_discounts_online_monthly['year_month'] = df_discounts_online_monthly['date'].dt.strftime('%Y-%m')\n",
    "\n",
    "# Create a list of unique year_month values for x-axis\n",
    "x_labels = df_discounts_online_monthly['year_month'].unique()\n",
    "x = np.arange(len(df_discounts_online_monthly['date']))\n",
    "\n",
    "# Define the width for each bar\n",
    "bar_width = 0.2\n",
    "\n",
    "# Create the bar plots for each sales channel\n",
    "plt.bar(x - bar_width, (df_discounts_A_monthly['discount']), width=bar_width, label='A', color='b', alpha=0.7)\n",
    "plt.bar(x, (df_discounts_B_monthly['discount']), width=bar_width, label='B', color='g', alpha=0.7)\n",
    "plt.bar(x + bar_width, (df_discounts_C_monthly['discount']), width=bar_width, label='C', color='r', alpha=0.7)\n",
    "plt.bar(x + (2 * bar_width), (df_discounts_D_monthly['discount']), width=bar_width, label='D', color='y', alpha=0.7)\n",
    "\n",
    "# Plot the line plot using data from df_discounts_monthly\n",
    "plt.plot(x, (df_discounts_monthly['discount']), label='avg_discount', color='purple', linewidth=2, marker='o')\n",
    "\n",
    "# Enhance the plot with titles and labels\n",
    "plt.title('Rabatte pro Region')\n",
    "plt.xlabel('Month')\n",
    "plt.ylabel('Rabatt')\n",
    "\n",
    "# Set x-axis ticks and labels to be the dates\n",
    "plt.xticks(x, x_labels, rotation=45)\n",
    "\n",
    "# Add legend\n",
    "plt.legend(loc='upper right')\n",
    "\n",
    "# Show the plot\n",
    "plt.tight_layout()\n",
    "plt.show()"
   ]
  },
  {
   "cell_type": "markdown",
   "metadata": {},
   "source": [
    "**Analyseergebnis der Rabatte pro Region**\n",
    "\n",
    "Wir sehen das mehr Rabatte in der Region C gegeben werden, aber wenn wir uns die Y Achse anschauen sehen das zwischen den Regionen wirklich nicht viel Unterschied ist. Maximal ein halber Prozentpunkt liegt zwischen ihnen. Wir sehen das der Trend zu weniger Rabatten sich hier auch abzeichnet."
   ]
  },
  {
   "cell_type": "markdown",
   "metadata": {},
   "source": [
    "#### Durchschnittliche Rabatte pro Produkt in %"
   ]
  },
  {
   "cell_type": "code",
   "execution_count": null,
   "metadata": {},
   "outputs": [],
   "source": [
    "df_sales_basic = df_sales[df_sales['product'] == 'Tablet Basic']\n",
    "df_sales_mini = df_sales[df_sales['product'] == 'Tablet Mini']\n",
    "df_sales_pro = df_sales[df_sales['product'] == 'Tablet Pro']"
   ]
  },
  {
   "cell_type": "code",
   "execution_count": null,
   "metadata": {},
   "outputs": [],
   "source": [
    "# Group by month and count sales\n",
    "df_discounts_basic_monthly = df_sales_basic.groupby(df_sales_basic['date'].dt.to_period('M'))['discount'].mean().reset_index()\n",
    "df_discounts_mini_monthly = df_sales_mini.groupby(df_sales_mini['date'].dt.to_period('M'))['discount'].mean().reset_index()\n",
    "df_discounts_pro_monthly = df_sales_pro.groupby(df_sales_pro['date'].dt.to_period('M'))['discount'].mean().reset_index()\n",
    "\n",
    "df_discounts_basic_monthly['date'] = df_discounts_basic_monthly['date'].dt.to_timestamp()\n",
    "df_discounts_mini_monthly['date'] = df_discounts_mini_monthly['date'].dt.to_timestamp()\n",
    "df_discounts_pro_monthly['date'] = df_discounts_pro_monthly['date'].dt.to_timestamp()"
   ]
  },
  {
   "cell_type": "code",
   "execution_count": null,
   "metadata": {},
   "outputs": [],
   "source": [
    "# Set the size of the plot\n",
    "plt.figure(figsize=(12, 6))\n",
    "\n",
    "# Extract year and month from the 'date' column\n",
    "df_discounts_online_monthly['year_month'] = df_discounts_online_monthly['date'].dt.strftime('%Y-%m')\n",
    "\n",
    "# Create a list of unique year_month values for x-axis\n",
    "x_labels = df_discounts_online_monthly['year_month'].unique()\n",
    "x = np.arange(len(df_discounts_online_monthly['date']))\n",
    "\n",
    "# Define the width for each bar\n",
    "bar_width = 0.2\n",
    "\n",
    "# Create the bar plots for each sales channel\n",
    "plt.bar(x - bar_width, (df_discounts_basic_monthly['discount']), width=bar_width, label='Basic', color='b', alpha=0.7)\n",
    "plt.bar(x, (df_discounts_mini_monthly['discount']), width=bar_width, label='Mini', color='g', alpha=0.7)\n",
    "plt.bar(x + bar_width, (df_discounts_pro_monthly['discount']), width=bar_width, label='Pro', color='tab:orange', alpha=0.7)\n",
    "\n",
    "# Plot the line plot using data from df_discounts_monthly\n",
    "plt.plot(x, (df_discounts_monthly['discount']), label='ø Rabatt', color='purple', linewidth=2, marker='o')\n",
    "\n",
    "# Enhance the plot with titles and labels\n",
    "plt.title('Rabatte pro Produkt')\n",
    "plt.xlabel('Monat')\n",
    "plt.ylabel('Rabatt in %')\n",
    "\n",
    "# Set x-axis ticks and labels to be the dates\n",
    "plt.xticks(x, x_labels, rotation=45)\n",
    "\n",
    "# Add legend\n",
    "plt.legend(loc='upper right')\n",
    "\n",
    "# Show the plot\n",
    "plt.tight_layout()\n",
    "plt.show()"
   ]
  },
  {
   "cell_type": "markdown",
   "metadata": {},
   "source": [
    "**Analyseergebnis der Rabatte pro Produkt**\n",
    "\n",
    "Wir sehen hier das keine Rabatte auf das Tablet Pro gegeben werden, im Durchschnitt 1% auf das Tablett Mini und ca. 3% auf das Tablet Basic. Wir sehen außerdem das die Rabatte über die Zeit konstant sind und sich nicht verändern und somit nicht dem Trend der vorangegangenen Analysen folgen und somit auch nicht dem durchschnittlichen Rabatt folgen. Das bedeutet das der Trend der sinkenden Rabatte nur durch die Veränderungen in den abgesetzten Produkten entsteht und deswegen nicht der Grund für den sinkenden Umsatz ist."
   ]
  },
  {
   "cell_type": "markdown",
   "metadata": {},
   "source": [
    "## Downtime"
   ]
  },
  {
   "cell_type": "code",
   "execution_count": null,
   "metadata": {},
   "outputs": [],
   "source": [
    "# df_downtime als Saeulendiagramm darstellen\n",
    "sns.set_style(\"whitegrid\")\n",
    "\n",
    "# Farbpalette definieren (Blau für 2021, Orange für 2022)\n",
    "colors = [\"blue\", \"orange\"]\n",
    "\n",
    "# Saeulendiagramm erstellen\n",
    "ax = sns.barplot(x=\"region\", y=\"downtime\", hue=\"year\", data=df_downtime, palette=colors)\n",
    "\n",
    "# Achsenbeschriftung\n",
    "ax.set_xlabel(\"Region\")\n",
    "ax.set_ylabel(\"Downtime\")\n",
    "\n",
    "# Legende\n",
    "ax.legend(title=\"Jahr\", loc=\"upper right\")\n",
    "\n",
    "# Titel\n",
    "ax.set_title(\"Downtime je Region\")\n",
    "\n",
    "# Diagramm anzeigen\n",
    "plt.show()"
   ]
  },
  {
   "cell_type": "code",
   "execution_count": null,
   "metadata": {},
   "outputs": [],
   "source": [
    "df_sales_A = df_sales_online[df_sales_online['region'] == 'A']\n",
    "df_sales_B = df_sales_online[df_sales_online['region'] == 'B']\n",
    "df_sales_C = df_sales_online[df_sales_online['region'] == 'C']\n",
    "df_sales_D = df_sales_online[df_sales_online['region'] == 'D']\n",
    "\n",
    "# Group by month and count sales\n",
    "df_discounts_A_monthly = df_sales_A.groupby(df_sales_A['date'].dt.to_period('M'))['amount'].count().reset_index()\n",
    "df_discounts_B_monthly = df_sales_B.groupby(df_sales_B['date'].dt.to_period('M'))['amount'].count().reset_index()\n",
    "df_discounts_C_monthly = df_sales_C.groupby(df_sales_C['date'].dt.to_period('M'))['amount'].count().reset_index()\n",
    "df_discounts_D_monthly = df_sales_D.groupby(df_sales_D['date'].dt.to_period('M'))['amount'].count().reset_index()\n",
    "\n",
    "df_discounts_A_monthly['date'] = df_discounts_A_monthly['date'].dt.to_timestamp()\n",
    "df_discounts_B_monthly['date'] = df_discounts_B_monthly['date'].dt.to_timestamp()\n",
    "df_discounts_C_monthly['date'] = df_discounts_C_monthly['date'].dt.to_timestamp()\n",
    "df_discounts_D_monthly['date'] = df_discounts_D_monthly['date'].dt.to_timestamp()"
   ]
  },
  {
   "cell_type": "code",
   "execution_count": null,
   "metadata": {},
   "outputs": [],
   "source": [
    "# Set the size of the plot\n",
    "plt.figure(figsize=(12, 6))\n",
    "\n",
    "# Extract year and month from the 'date' column\n",
    "df_discounts_online_monthly['year_month'] = df_discounts_online_monthly['date'].dt.strftime('%Y-%m')\n",
    "\n",
    "# Create a list of unique year_month values for x-axis\n",
    "x_labels = df_discounts_online_monthly['year_month'].unique()\n",
    "x = np.arange(len(df_discounts_online_monthly['date']))\n",
    "\n",
    "# Define the width for each bar\n",
    "bar_width = 0.2\n",
    "\n",
    "# Create the bar plots for each sales channel\n",
    "plt.bar(x - bar_width, (df_discounts_A_monthly['amount']), width=bar_width, label='A', color='b', alpha=0.7)\n",
    "plt.bar(x, (df_discounts_B_monthly['amount']), width=bar_width, label='B', color='g', alpha=0.7)\n",
    "plt.bar(x + bar_width, (df_discounts_C_monthly['amount']), width=bar_width, label='C', color='r', alpha=0.7)\n",
    "plt.bar(x + (2 * bar_width), (df_discounts_D_monthly['amount']), width=bar_width, label='D', color='y', alpha=0.7)\n",
    "\n",
    "\n",
    "# Enhance the plot with titles and labels\n",
    "plt.title('Verkaufte Geräte im Online Kanal pro Region')\n",
    "plt.xlabel('Month')\n",
    "plt.ylabel('Rabatt')\n",
    "\n",
    "# Set x-axis ticks and labels to be the dates\n",
    "plt.xticks(x, x_labels, rotation=45)\n",
    "\n",
    "# Add legend\n",
    "plt.legend(loc='upper right')\n",
    "\n",
    "# Show the plot\n",
    "plt.tight_layout()\n",
    "plt.show()"
   ]
  },
  {
   "cell_type": "markdown",
   "metadata": {},
   "source": [
    "**Analyse der Downtime**\n",
    "\n",
    "Leider haben wir mit nur zwei Datenpunkten nicht genug Information um den Einfluss der Downtime auf denn Absatz im Onlinestore bewerten zu können. Wenn man sich den Online Absatz über den Jahreswechsel anschaut sieht man keine ungewöhnlich große Veränderung in den einzelnen Regionen die sich mit der Downtime erklären lassen würde."
   ]
  },
  {
   "cell_type": "markdown",
   "metadata": {},
   "source": [
    "# Anaylse der Performance der Regionen\n",
    "\n",
    "In diesem Abschnitt werden die Regionen auf ihre Performance untersucht. Hierfür werden die Umsätze, die Kosten und die Gewinne der Regionen analysiert. Außerdem gucken wir uns genau an wie sich die Channel in den Regionen entwickeln und ob es einen Zusammenhang zwischen den Channeln und der Performance der Regionen gibt."
   ]
  },
  {
   "cell_type": "markdown",
   "metadata": {},
   "source": [
    "### Datenaufbereitung: \n"
   ]
  },
  {
   "cell_type": "code",
   "execution_count": null,
   "metadata": {},
   "outputs": [],
   "source": [
    "profit_per_region_product_channel = df_sales.groupby(['region', 'product', 'channel'])['profit_total'].sum()/1_000_000\n",
    "profit_per_region_product_channel = profit_per_region_product_channel.reset_index()\n",
    "profit_per_region_product_channel = profit_per_region_product_channel.replace({'product': {'Tablet Basic': 'Basic', 'Tablet Mini': 'Mini', 'Tablet Pro': 'Pro'}})\n",
    "\n",
    "sales_per_product_by_region = df_sales.groupby(['region', 'product']).agg({'amount': 'sum'})\n",
    "sales_per_product_by_region = sales_per_product_by_region.reset_index()\n",
    "\n",
    "df_sales_region_channel = df_sales.groupby([\"year\", \"month\", 'region', 'channel']).agg({\"amount\" : \"sum\"})\n",
    "df_sales_region_channel.reset_index(inplace=True)\n",
    "\n",
    "#Region A\n",
    "df_sales_region_channel_a = df_sales_region_channel[df_sales_region_channel['region'] == 'A']\n",
    "df_sales_region_channel_a_online = df_sales_region_channel_a[df_sales_region_channel_a['channel'] == 'online']\n",
    "df_sales_region_channel_a_phone = df_sales_region_channel_a[df_sales_region_channel_a['channel'] == 'phone']\n",
    "df_sales_region_channel_a_store = df_sales_region_channel_a[df_sales_region_channel_a['channel'] == 'store']\n",
    "\n",
    "#Region B\n",
    "df_sales_region_channel_b = df_sales_region_channel[df_sales_region_channel['region'] == 'B']\n",
    "df_sales_region_channel_b_online = df_sales_region_channel_b[df_sales_region_channel_b['channel'] == 'online']\n",
    "df_sales_region_channel_b_phone = df_sales_region_channel_b[df_sales_region_channel_b['channel'] == 'phone']\n",
    "df_sales_region_channel_b_store = df_sales_region_channel_b[df_sales_region_channel_b['channel'] == 'store']\n",
    "\n",
    "#Region C\n",
    "df_sales_region_channel_c = df_sales_region_channel[df_sales_region_channel['region'] == 'C']\n",
    "df_sales_region_channel_c_online = df_sales_region_channel_c[df_sales_region_channel_c['channel'] == 'online']\n",
    "df_sales_region_channel_c_phone = df_sales_region_channel_c[df_sales_region_channel_c['channel'] == 'phone']\n",
    "df_sales_region_channel_c_store = df_sales_region_channel_c[df_sales_region_channel_c['channel'] == 'store']\n",
    "\n",
    "#Region D\n",
    "df_sales_region_channel_d = df_sales_region_channel[df_sales_region_channel['region'] == 'D']\n",
    "df_sales_region_channel_d_online = df_sales_region_channel_d[df_sales_region_channel_d['channel'] == 'online']\n",
    "df_sales_region_channel_d_phone = df_sales_region_channel_d[df_sales_region_channel_d['channel'] == 'phone']\n",
    "df_sales_region_channel_d_store = df_sales_region_channel_d[df_sales_region_channel_d['channel'] == 'store']"
   ]
  },
  {
   "cell_type": "markdown",
   "metadata": {},
   "source": [
    "## Alle Regionen"
   ]
  },
  {
   "cell_type": "code",
   "execution_count": null,
   "metadata": {},
   "outputs": [],
   "source": [
    "plt.pie(df_sales_per_region, labels=df_sales_per_region.index, autopct='%1.1f%%', counterclock=False, startangle=90)\n",
    "plt.title('Umsatzanteile nach Regionen')\n",
    "\n",
    "plt.tight_layout()\n",
    "plt.show()"
   ]
  },
  {
   "cell_type": "code",
   "execution_count": null,
   "metadata": {},
   "outputs": [],
   "source": [
    "plt.figure(figsize=(10, 6))\n",
    "\n",
    "sns.barplot(data=sales_per_product_by_region, x='region', y='amount', hue='product')\n",
    "\n",
    "plt.title('Menge der verkauften Produkte, gruppiert nach Region')\n",
    "plt.xlabel('Region')\n",
    "plt.ylabel('Verkaufsmenge')\n",
    "plt.show()"
   ]
  },
  {
   "cell_type": "markdown",
   "metadata": {},
   "source": [
    "### Fragestellung: Warum ist die Performance der Regionen so unterschiedlich?\n",
    "<br>\n",
    "Es fällt hier besonders auf, dass die Region A einen fast dreifach kleineren Umsatzanteil hat als die Region D. <br>\n",
    "Der Unterschied in den Anteilen der anderen Regionen ist dabei im Vergleich weitaus weniger stark, hier liegt der Bereich zws. 3 bis 5% Umsatzanteil. <br>\n",
    "Von A zu C, die drittschlechteste Region, ist der Unterschied schon 12.6% <br>\n",
    "Die folgenden Analysen setzen einen besonderen Fokus auf Region A als Underperformer und die Region D als Überperformer <br>"
   ]
  },
  {
   "cell_type": "markdown",
   "metadata": {},
   "source": [
    "### Funktionen:"
   ]
  },
  {
   "cell_type": "code",
   "execution_count": null,
   "metadata": {},
   "outputs": [],
   "source": [
    "def plot_profit_per_product_channel_region(region_costs, profit_per_region_product_channel):\n",
    "    # Iteration über die einzelnen Regionen\n",
    "    for region_cost in region_costs:\n",
    "        # Filtern der Daten für die aktuelle Region\n",
    "        region_data = profit_per_region_product_channel[profit_per_region_product_channel['region'] == region_cost]\n",
    "        \n",
    "        # Diagramm erstellen\n",
    "        fig, ax = plt.subplots(figsize=(12, 6))\n",
    "        \n",
    "        # Erstellen der x-Achsenbeschriftungen für das Säulendiagramm\n",
    "        products = region_data['product']\n",
    "        channels = region_data['channel']\n",
    "        labels = [f'{product} - {channel}' for product, channel in zip(products, channels)]\n",
    "        \n",
    "        # Extrahieren der Gewinne\n",
    "        profits = region_data['profit_total']\n",
    "        \n",
    "        # Festlegen der Farben für Basic, Mini und Pro\n",
    "        colors = ['tab:orange' if product == 'Basic' else 'b' if product == 'Mini' else 'g' for product in products]\n",
    "        \n",
    "        # Erstellen des Säulendiagramms mit den entsprechenden Farben\n",
    "        plt.bar(labels, profits, color=colors)\n",
    "        \n",
    "        # Achsentitel und Diagrammtitel\n",
    "        plt.xlabel('Produkt und Kanal', size = 15)\n",
    "        plt.ylabel('Profit in Mio. €', size = 15)\n",
    "        plt.title(f'Profit pro Produkt & Kanal - Region {region_cost}', size = 20)\n",
    "        \n",
    "        # Anpassung des Layouts und Anzeigen des Diagramms\n",
    "        plt.tight_layout()\n",
    "        \n",
    "        # Gitterlinien aktivieren\n",
    "        plt.grid(True)\n",
    "\n",
    "        # Legende anzeigen mit den entsprechenden Farben\n",
    "        legend_elements = [mpatches.Patch(facecolor='tab:orange', label='Basic'),\n",
    "                              mpatches.Patch(facecolor='b', label='Mini'),\n",
    "                              mpatches.Patch(facecolor='g', label='Pro')]\n",
    "        plt.legend(handles=legend_elements, loc='upper right', fontsize='large')\n",
    "\n",
    "        # Gitter in den Hintergrund legen\n",
    "        ax.set_axisbelow(True)\n",
    "         \n",
    "        # Anpassung x-Achse und y-Achse\n",
    "        max = 22.5\n",
    "        ticks = 2.5\n",
    "        plt.xticks(rotation = 45)\n",
    "        plt.yticks(np.arange(0, max, ticks))\n",
    "        plt.show()\n",
    "        \n",
    "def plot_sales(region):\n",
    "    # Construct the dataframe names\n",
    "    df_sales_region_channel_online = globals()[f'df_sales_region_channel_{region.lower()}_online']\n",
    "    df_sales_region_channel_phone = globals()[f'df_sales_region_channel_{region.lower()}_phone']\n",
    "    df_sales_region_channel_store = globals()[f'df_sales_region_channel_{region.lower()}_store']\n",
    "\n",
    "    # Plot\n",
    "    fig, ax = plt.subplots(figsize=(12, 6))\n",
    "\n",
    "    # Daten plotten\n",
    "    ax.plot(df_sales_region_channel_online['year'].astype(str) + '-' + df_sales_region_channel_online['month'].astype(str), df_sales_region_channel_online['amount'])\n",
    "    ax.plot(df_sales_region_channel_phone['year'].astype(str) + '-' + df_sales_region_channel_phone['month'].astype(str), df_sales_region_channel_phone['amount'])\n",
    "    ax.plot(df_sales_region_channel_store['year'].astype(str) + '-' + df_sales_region_channel_store['month'].astype(str), df_sales_region_channel_store['amount'])\n",
    "\n",
    "    # Achsenbeschriftung und Titel hinzufuegen\n",
    "    ax.set_xlabel('Jahr-Monat', fontsize=12)\n",
    "\n",
    "    # y-Achse in Millionen formatieren\n",
    "    ax.yaxis.set_major_formatter(\n",
    "        plt.FuncFormatter(lambda x, loc: \"{:,}\".format(int(x))))\n",
    "\n",
    "    ax.set_ylabel('Menge in Stück', fontsize=12)\n",
    "    ax.set_title(f'Verkaufsmenge nach Kanälen - Region {region}', fontsize=20)\n",
    "\n",
    "    # Legende hinzufuegen\n",
    "    ax.legend(['Online', 'Phone', 'Store'], fontsize=14)\n",
    "\n",
    "    # X-Achsenbeschriftung drehen\n",
    "    plt.xticks(rotation=45)\n",
    "\n",
    "    # Diagramm anzeigen\n",
    "    plt.tight_layout()\n",
    "    plt.show()\n"
   ]
  },
  {
   "cell_type": "markdown",
   "metadata": {},
   "source": [
    "## Region A"
   ]
  },
  {
   "cell_type": "code",
   "execution_count": null,
   "metadata": {},
   "outputs": [],
   "source": [
    "plot_sales('A')\n"
   ]
  },
  {
   "cell_type": "markdown",
   "metadata": {},
   "source": [
    "Hohe Abhängigkeit vom Online-Channel <br>"
   ]
  },
  {
   "cell_type": "code",
   "execution_count": null,
   "metadata": {},
   "outputs": [],
   "source": [
    "region_costs = [\"A\"]  # replace with your actual regions\n",
    "plot_profit_per_product_channel_region(region_costs, profit_per_region_product_channel)"
   ]
  },
  {
   "cell_type": "markdown",
   "metadata": {},
   "source": [
    "Region A verkauft am meisten über den Online Kanal, vorallem in der Kombination mit dem Basic Tablet. <br>\n",
    "Generell sind die Profitströme, Kanal und Produkt unabhängig, niedrig. <br>\n",
    "Der Kanal Store performt hier sogar am schlechtesten. <br>"
   ]
  },
  {
   "cell_type": "markdown",
   "metadata": {},
   "source": [
    "## Region B"
   ]
  },
  {
   "cell_type": "code",
   "execution_count": null,
   "metadata": {},
   "outputs": [],
   "source": [
    "plot_sales('B')"
   ]
  },
  {
   "cell_type": "markdown",
   "metadata": {},
   "source": [
    "Schlechte Performance vom Online-Channel wird besser abgefedert. <br>"
   ]
  },
  {
   "cell_type": "code",
   "execution_count": null,
   "metadata": {},
   "outputs": [],
   "source": [
    "region_costs = [\"B\"]  # replace with your actual regions\n",
    "plot_profit_per_product_channel_region(region_costs, profit_per_region_product_channel)"
   ]
  },
  {
   "cell_type": "markdown",
   "metadata": {},
   "source": [
    "Insgesamt höher als A. <br>\n",
    "Die Kombination Mini und Phone zeigt hier gut was der Region fehlt. <br>"
   ]
  },
  {
   "cell_type": "markdown",
   "metadata": {},
   "source": [
    "## Region C"
   ]
  },
  {
   "cell_type": "code",
   "execution_count": null,
   "metadata": {},
   "outputs": [],
   "source": [
    "plot_sales('C')"
   ]
  },
  {
   "cell_type": "markdown",
   "metadata": {},
   "source": [
    "Ähnlich wie B, wobei der Wendepunkt, das starke Steigen von Phone und Store, sowie das Sinken von Online zur X-Achse, zeitlich später stattfindet <br>"
   ]
  },
  {
   "cell_type": "code",
   "execution_count": null,
   "metadata": {},
   "outputs": [],
   "source": [
    "region_costs = [\"C\"] \n",
    "plot_profit_per_product_channel_region(region_costs, profit_per_region_product_channel)"
   ]
  },
  {
   "cell_type": "markdown",
   "metadata": {},
   "source": [
    "Sehr ähnlich zu B. <br>\n",
    "Gut zu erkennen das jedes Produkt in jeder Kombination mit einem bestimmten Kanal am besten performt. <br>\n",
    "Basic + Online, Mini + Phone und Pro + Store. <br>"
   ]
  },
  {
   "cell_type": "markdown",
   "metadata": {},
   "source": [
    "## Region D"
   ]
  },
  {
   "cell_type": "code",
   "execution_count": null,
   "metadata": {},
   "outputs": [],
   "source": [
    "plot_sales('D')"
   ]
  },
  {
   "cell_type": "markdown",
   "metadata": {},
   "source": [
    "Ähnlich zu B und C, jedoch trettet der Wendepunkt hier von allen Regionen am frühsten ein. <br>"
   ]
  },
  {
   "cell_type": "code",
   "execution_count": null,
   "metadata": {},
   "outputs": [],
   "source": [
    "region_costs = [\"D\"] \n",
    "plot_profit_per_product_channel_region(region_costs, profit_per_region_product_channel)"
   ]
  },
  {
   "cell_type": "markdown",
   "metadata": {},
   "source": [
    "Balken verhalten sich wieder ähnlich zu B und C. <br>\n",
    "Das zeigt wieder das A ein Ausreißer ist. <br>\n",
    "Da der Wendepunkt am frühsten in D eintritt, ist die Profitgewinnung von Basic + Online geringer als bei B und C. <br>\n",
    "Dafür ist die Kombi Pro + Store am gewinnbringendsten. <br>"
   ]
  },
  {
   "cell_type": "markdown",
   "metadata": {},
   "source": [
    "## Ergebnisse der Performance-Analyse der Regionen\n",
    "\n",
    "Der Abwärtstrend vom Online Kanal und Basic Produkt schlägt sich in den Regionen unterschiedlich aus. <br>\n",
    "Region A leidet am meisten darunter, da sie am meisten über den Online Kanal verkauft. <br>\n",
    "Und die anderen Absätzkanäle noch nicht stark genug sind um den Verlust auszugleichen. <br>\n",
    "Die anderen Regionen sind bei Profitgewinnung sehr ähnlich zueinander und können das Defizit aus dem Online Kanal besser ausgleichen.<br>\n",
    "Besonders aufgrund der Mini + Phone Kombination, die hier am profitabelsten ist. <br>\n",
    "Die Überperformance von D ist darauf zurückzuführen, dass sie am frühesten den Wendepunkt, also die Verkaufszahlsteigerung im Phone und Store Kanal erreicht haben. <br>\n",
    "\n",
    "Wenn man die Regionen danach aufreiht, wann sie den Wendepunkt erreicht haben, als an erster Stelle D, B, C und A, sieht man hier wieder Reihenfolger wie bei den Umsatzanteilen, D:32.8%, B: 29.1%, C: 25.3%, A: 12.7%. <br>"
   ]
  }
 ],
 "metadata": {
  "kernelspec": {
   "display_name": "Python 3 (ipykernel)",
   "language": "python",
   "name": "python3"
  },
  "language_info": {
   "codemirror_mode": {
    "name": "ipython",
    "version": 3
   },
   "file_extension": ".py",
   "mimetype": "text/x-python",
   "name": "python",
   "nbconvert_exporter": "python",
   "pygments_lexer": "ipython3",
   "version": "3.12.0"
  }
 },
 "nbformat": 4,
 "nbformat_minor": 4
}
