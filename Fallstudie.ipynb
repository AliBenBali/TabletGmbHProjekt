{
 "cells": [
  {
   "cell_type": "markdown",
   "metadata": {},
   "source": [
    "# Fallstudie Tablet GmbH"
   ]
  },
  {
   "cell_type": "markdown",
   "metadata": {},
   "source": [
    "## Problemstellung\n",
    "\n",
    "- Warum war die wirtschaftlich Entwicklung in den letzten beiden Jahren negativ? \n",
    "- Welche Faktoren beeinflussten die Situation?\n",
    "- Wie kann die wirtschaftliche Situation verbessert werden?\n",
    "\n",
    "## Hypothesen & Fragestellungen (bisher):\n",
    "- Veränderung der Nachfrage hin zu Tablet Pro & Tablet Mini und weg von Tablet Basic (Silas)\n",
    "    - Customer Rating als möglicher Indikator (Daniel)\n",
    "- Downtime als Grund für den geringeren Umsatz in Online-Vertriebskanälen (Vincenzo)\n",
    "- Sind bestimmte Regionen abhängig von bestimmten Vertriebskanälen/Produkten? (Ali)\n",
    "- Was verursachte den Umsatzrückgang zum Jahreswechsel? (Ali)"
   ]
  },
  {
   "cell_type": "markdown",
   "metadata": {},
   "source": [
    "## Einlesen"
   ]
  },
  {
   "cell_type": "code",
   "execution_count": null,
   "metadata": {},
   "outputs": [],
   "source": [
    "import pandas as pd\n",
    "import seaborn as sns\n",
    "import matplotlib.pyplot as plt"
   ]
  },
  {
   "cell_type": "code",
   "execution_count": null,
   "metadata": {},
   "outputs": [],
   "source": [
    "df_crm = pd.read_csv(\"./data_csv/CRM_data.csv\")\n",
    "df_downtime = pd.read_csv(\"./data_csv/Downtime.csv\")\n",
    "df_preise = pd.read_csv(\"./data_csv/Preise.csv\")\n",
    "\n",
    "df_a_online = pd.read_csv(\"./data_csv/RegionA_online.csv\")\n",
    "df_a_phone = pd.read_csv(\"./data_csv/RegionA_phone.csv\")\n",
    "df_a_store = pd.read_csv(\"./data_csv/RegionA_store.csv\")\n",
    "\n",
    "df_b_online = pd.read_csv(\"./data_csv/RegionB_online.csv\")\n",
    "df_b_phone = pd.read_csv(\"./data_csv/RegionB_phone.csv\")\n",
    "df_b_store = pd.read_csv(\"./data_csv/RegionB_store.csv\")\n",
    "\n",
    "df_c_online = pd.read_csv(\"./data_csv/RegionC_online.csv\")\n",
    "df_c_phone = pd.read_csv(\"./data_csv/RegionC_phone.csv\")\n",
    "df_c_store = pd.read_csv(\"./data_csv/RegionC_store.csv\")\n",
    "\n",
    "df_d_online = pd.read_csv(\"./data_csv/RegionD_online.csv\")\n",
    "df_d_phone = pd.read_csv(\"./data_csv/RegionD_phone.csv\")\n",
    "df_d_store = pd.read_csv(\"./data_csv/RegionD_store.csv\")"
   ]
  },
  {
   "cell_type": "markdown",
   "metadata": {},
   "source": [
    "## Aufbereiten"
   ]
  },
  {
   "cell_type": "markdown",
   "metadata": {},
   "source": [
    "### CRM-Daten:"
   ]
  },
  {
   "cell_type": "code",
   "execution_count": null,
   "metadata": {},
   "outputs": [],
   "source": [
    "df_crm.head()"
   ]
  },
  {
   "cell_type": "code",
   "execution_count": null,
   "metadata": {},
   "outputs": [],
   "source": [
    "df_crm.info()"
   ]
  },
  {
   "cell_type": "code",
   "execution_count": null,
   "metadata": {},
   "outputs": [],
   "source": [
    "# Spalten auf Englisch umbenennen\n",
    "df_crm = df_crm.rename(columns={\n",
    "    'vorname': 'first_name',\n",
    "    'nachname': 'last_name',\n",
    "})\n",
    "\n",
    "df_crm.head()"
   ]
  },
  {
   "cell_type": "markdown",
   "metadata": {},
   "source": [
    "### Preisdaten:"
   ]
  },
  {
   "cell_type": "code",
   "execution_count": null,
   "metadata": {},
   "outputs": [],
   "source": [
    "df_preise"
   ]
  },
  {
   "cell_type": "code",
   "execution_count": null,
   "metadata": {},
   "outputs": [],
   "source": [
    "# Umbenennen der Spalte \"Jahr\" in \"year\"\n",
    "df_preise = df_preise.rename(columns={\"Jahr\": \"year\",\n",
    "                                      \"preis\": \"price\"})\n",
    "\n",
    "# Entfernen von Anfuehrungszeichen\n",
    "df_preise['year'] = df_preise['year'].apply(lambda x: x.strip('\"'))  \n",
    "# Korrigieren der falschen Jahreszahlen\n",
    "df_preise['year'] = df_preise['year'].replace({'20022': '2022'})  \n",
    "# Umwandeln der Spalte \"jahr\" in Datumsformat\n",
    "df_preise['year'] = pd.to_datetime(df_preise['year'], format='%Y')\n",
    "\n",
    "# Spalte \"jahr\" als Jahreszahl extrahieren\n",
    "df_preise['year'] = df_preise['year'].dt.year\n",
    "\n",
    "# Werte \"Tablet Basics\" in \"Tablet Basic\" ändern\n",
    "df_preise['product'] = df_preise['product'].replace({'Tablet Basics': 'Tablet Basic'})\n",
    "\n",
    "df_preise"
   ]
  },
  {
   "cell_type": "markdown",
   "metadata": {},
   "source": [
    "### Downtime-Daten:"
   ]
  },
  {
   "cell_type": "code",
   "execution_count": null,
   "metadata": {},
   "outputs": [],
   "source": [
    "df_downtime"
   ]
  },
  {
   "cell_type": "code",
   "execution_count": null,
   "metadata": {},
   "outputs": [],
   "source": [
    "# Erste Spalte in \"year\" umbenennen\n",
    "df_downtime = df_downtime.rename(columns={\"Unnamed: 0\": \"year\"})\n",
    "\n",
    "# Spalte \"year\" in Datumsformat umwandeln\n",
    "df_downtime['year'] = pd.to_datetime(df_downtime['year'], format='%Y')\n",
    "\n",
    "# Spalte \"year\" als Jahreszahl extrahieren\n",
    "df_downtime['year'] = df_downtime['year'].dt.year\n",
    "\n",
    "# Umbenennen der Spalten \"Region A\" bis \"Region D\" in \"region_a\" bis \"region_d\"\n",
    "df_downtime = df_downtime.rename(columns={\"Region A\": \"region_a\", \n",
    "                                          \"Region B\": \"region_b\", \n",
    "                                          \"Region C\": \"region_c\", \n",
    "                                          \"Region D\": \"region_d\"})\n",
    "\n",
    "df_downtime"
   ]
  },
  {
   "cell_type": "markdown",
   "metadata": {},
   "source": [
    "### Transaktionsdaten:"
   ]
  },
  {
   "cell_type": "code",
   "execution_count": null,
   "metadata": {},
   "outputs": [],
   "source": [
    "# Hinzufuegen der Spalten \"region\" und \"channel\" mit den entsprechenden Werten\n",
    "df_a_online = df_a_online.assign(region='A', channel='online')\n",
    "df_a_phone = df_a_phone.assign(region='A', channel='phone')\n",
    "df_a_store = df_a_store.assign(region='A', channel='store')\n",
    "\n",
    "df_b_online = df_b_online.assign(region='B', channel='online')\n",
    "df_b_phone = df_b_phone.assign(region='B', channel='phone')\n",
    "df_b_store = df_b_store.assign(region='B', channel='store')\n",
    "\n",
    "df_c_online = df_c_online.assign(region='C', channel='online')\n",
    "df_c_phone = df_c_phone.assign(region='C', channel='phone')\n",
    "df_c_store = df_c_store.assign(region='C', channel='store')\n",
    "\n",
    "df_d_online = df_d_online.assign(region='D', channel='online')\n",
    "df_d_phone = df_d_phone.assign(region='D', channel='phone')\n",
    "df_d_store = df_d_store.assign(region='D', channel='store')"
   ]
  },
  {
   "cell_type": "code",
   "execution_count": null,
   "metadata": {},
   "outputs": [],
   "source": [
    "# Umbenennen der Spalte \"PRODUKT\" in \"product\" in df_b_phone\n",
    "df_b_phone = df_b_phone.rename(columns={\"PRODUKT\": \"product\"})"
   ]
  },
  {
   "cell_type": "code",
   "execution_count": null,
   "metadata": {},
   "outputs": [],
   "source": [
    "# Alle Regionen in einen Dataframe zusammenfassen\n",
    "df_sales = pd.concat([df_a_online, df_a_phone, df_a_store,\n",
    "                      df_b_online, df_b_phone, df_b_store, \n",
    "                      df_c_online, df_c_phone, df_c_store, \n",
    "                      df_d_online, df_d_phone, df_d_store])"
   ]
  },
  {
   "cell_type": "code",
   "execution_count": null,
   "metadata": {},
   "outputs": [],
   "source": [
    "# Umbenennen der Spalten \"Tablet Basic\", \"Tablet Mini\" und \"Tablet Pro\", \"kosten_basic\", \"kosten_mini\" und \"kosten_pro\"\n",
    "df_sales = df_sales.rename(columns={\n",
    "    \"Tablet Basic\": \"tablet_basic\",\n",
    "    \"Tablet Mini\": \"tablet_mini\",\n",
    "    \"Tablet Pro\": \"tablet_pro\",\n",
    "    \"kosten_basic\": \"cost_basic\",\n",
    "    \"kosten_mini\": \"cost_mini\",\n",
    "    \"kosten_pro\": \"cost_pro\"\n",
    "})"
   ]
  },
  {
   "cell_type": "code",
   "execution_count": null,
   "metadata": {},
   "outputs": [],
   "source": [
    "# Umwandeln der Spalte \"jahr\" in Datumsformat\n",
    "df_sales[\"date\"] = pd.to_datetime(df_sales[\"date\"])"
   ]
  },
  {
   "cell_type": "code",
   "execution_count": null,
   "metadata": {},
   "outputs": [],
   "source": [
    "# NaN in den Spalten cost_basic, cost_mini und cost_pro durch 0 ersetzen\n",
    "df_sales['cost_basic'] = df_sales['cost_basic'].fillna(0)\n",
    "df_sales['cost_mini'] = df_sales['cost_mini'].fillna(0)\n",
    "df_sales['cost_pro'] = df_sales['cost_pro'].fillna(0)"
   ]
  },
  {
   "cell_type": "code",
   "execution_count": null,
   "metadata": {},
   "outputs": [],
   "source": [
    "# NaN in \"discount\" durch 1 ersetzen\n",
    "df_sales['discount'] = df_sales['discount'].fillna(1)"
   ]
  },
  {
   "cell_type": "code",
   "execution_count": null,
   "metadata": {},
   "outputs": [],
   "source": [
    "# Zeige Werte der Spalte \"product\" an\n",
    "df_sales['product'].unique()"
   ]
  },
  {
   "cell_type": "code",
   "execution_count": null,
   "metadata": {},
   "outputs": [],
   "source": [
    "# Werte \"Tablet Basic...\" in \"Tablet Basic\" aendern\n",
    "df_sales['product'] = df_sales['product'].replace({'Tablet Basic...': 'Tablet Basic'})"
   ]
  },
  {
   "cell_type": "code",
   "execution_count": null,
   "metadata": {},
   "outputs": [],
   "source": [
    "df_sales.info()"
   ]
  },
  {
   "cell_type": "code",
   "execution_count": null,
   "metadata": {},
   "outputs": [],
   "source": [
    "df_sales"
   ]
  },
  {
   "cell_type": "markdown",
   "metadata": {},
   "source": [
    "## Transformieren"
   ]
  },
  {
   "cell_type": "code",
   "execution_count": null,
   "metadata": {},
   "outputs": [],
   "source": [
    "# df_sales und df_crm zusammenfuegen\n",
    "df_sales = pd.merge(df_sales, df_crm, left_on='transaction_id', right_on='id', how='inner')"
   ]
  },
  {
   "cell_type": "code",
   "execution_count": null,
   "metadata": {},
   "outputs": [],
   "source": [
    "# Spalte \"id\" entfernen\n",
    "df_sales = df_sales.drop(columns=['id'])"
   ]
  },
  {
   "cell_type": "code",
   "execution_count": null,
   "metadata": {},
   "outputs": [],
   "source": [
    "# Neue Spalten \"year\", \"mmonth\" und \"week\" erstellen\n",
    "df_sales = df_sales.assign(year=df_sales['date'].dt.year,\n",
    "                           month=df_sales['date'].dt.month,\n",
    "                           week=df_sales['date'].dt.isocalendar().week)"
   ]
  },
  {
   "cell_type": "code",
   "execution_count": null,
   "metadata": {},
   "outputs": [],
   "source": [
    "# Neue Spalte \"price\" erstellen, basierend auf den Werten in der Spalte \"price\" in df_preise\n",
    "df_sales = df_sales.merge(df_preise, on=[\"year\", \"product\"], how=\"left\")"
   ]
  },
  {
   "cell_type": "code",
   "execution_count": null,
   "metadata": {},
   "outputs": [],
   "source": [
    "# Neue Spalte \"cost\" erstellen\n",
    "df_sales['cost'] = df_sales[\"cost_basic\"] + df_sales[\"cost_mini\"] + df_sales[\"cost_pro\"]"
   ]
  },
  {
   "cell_type": "code",
   "execution_count": null,
   "metadata": {},
   "outputs": [],
   "source": [
    "# Neue Spalte \"cost_total\" erstellen\n",
    "df_sales['cost_total'] = df_sales[\"cost\"] * df_sales[\"amount\"]"
   ]
  },
  {
   "cell_type": "code",
   "execution_count": null,
   "metadata": {},
   "outputs": [],
   "source": [
    "# Neue Spalte \"revenue\" erstellen\n",
    "df_sales['revenue'] = df_sales['price'] * df_sales['amount'] * df_sales['discount']"
   ]
  },
  {
   "cell_type": "code",
   "execution_count": null,
   "metadata": {},
   "outputs": [],
   "source": [
    "# Profit pro Stueck berechnen\n",
    "df_sales[\"profit_per_piece\"] = (df_sales[\"price\"] * df_sales[\"discount\"]) - df_sales[\"cost\"]"
   ]
  },
  {
   "cell_type": "code",
   "execution_count": null,
   "metadata": {},
   "outputs": [],
   "source": [
    "# Profit des gesamten Verkaufs berechnen\n",
    "df_sales[\"profit_total\"] = df_sales[\"profit_per_piece\"] * df_sales[\"amount\"]"
   ]
  },
  {
   "cell_type": "code",
   "execution_count": null,
   "metadata": {},
   "outputs": [],
   "source": [
    "# Alle Spalten anzeigen lassen\n",
    "pd.set_option('display.max_columns', None)\n",
    "\n",
    "df_sales"
   ]
  },
  {
   "cell_type": "code",
   "execution_count": null,
   "metadata": {},
   "outputs": [],
   "source": [
    "# Sortieren nach Datum\n",
    "df_sales.sort_values(by=['transaction_id'], inplace=True)\n",
    "\n",
    "# Reset der Index-Spalte\n",
    "df_sales.reset_index(drop=True, inplace=True)"
   ]
  },
  {
   "cell_type": "code",
   "execution_count": null,
   "metadata": {},
   "outputs": [],
   "source": [
    "df_sales"
   ]
  },
  {
   "cell_type": "markdown",
   "metadata": {},
   "source": [
    "## Visualisieren"
   ]
  },
  {
   "cell_type": "markdown",
   "metadata": {},
   "source": [
    "## Modellieren"
   ]
  },
  {
   "cell_type": "markdown",
   "metadata": {},
   "source": [
    "## Kommunizieren"
   ]
  }
 ],
 "metadata": {
  "kernelspec": {
   "display_name": "Python 3",
   "language": "python",
   "name": "python3"
  },
  "language_info": {
   "codemirror_mode": {
    "name": "ipython",
    "version": 3
   },
   "file_extension": ".py",
   "mimetype": "text/x-python",
   "name": "python",
   "nbconvert_exporter": "python",
   "pygments_lexer": "ipython3",
   "version": "3.11.5"
  }
 },
 "nbformat": 4,
 "nbformat_minor": 2
}
