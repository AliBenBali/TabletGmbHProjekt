{
 "cells": [
  {
   "cell_type": "markdown",
   "metadata": {},
   "source": [
    "# Fallstudie Tablet GmbH"
   ]
  },
  {
   "cell_type": "markdown",
   "metadata": {},
   "source": [
    "# Problemstellung\n",
    "\n",
    "- Warum war die wirtschaftlich Entwicklung in den letzten beiden Jahren negativ? \n",
    "- Welche Faktoren beeinflussten die Situation?\n",
    "- Wie kann die wirtschaftliche Situation verbessert werden?\n",
    "\n",
    "# Hypothesen & Fragestellungen (bisher):\n",
    "- Veränderung der Nachfrage hin zu Tablet Pro & Tablet Mini und weg von Tablet Basic (Silas)\n",
    "    - Customer Rating als möglicher Indikator (Daniel)\n",
    "- Downtime als Grund für den geringeren Umsatz in Online-Vertriebskanälen (Vincenzo)\n",
    "- Sind bestimmte Regionen abhängig von bestimmten Vertriebskanälen/Produkten? (Ali)\n",
    "- Was verursachte den Umsatzrückgang zum Jahreswechsel? (Ali)"
   ]
  },
  {
   "cell_type": "markdown",
   "metadata": {},
   "source": [
    "# 0) Allgemeine Einstellungen"
   ]
  },
  {
   "cell_type": "code",
   "execution_count": null,
   "metadata": {},
   "outputs": [],
   "source": [
    "# Importieren der benötigten Bibliotheken\n",
    "import pandas as pd\n",
    "import seaborn as sns\n",
    "import matplotlib.pyplot as plt\n",
    "import matplotlib.patches as mpatches\n",
    "import numpy as np\n",
    "import statsmodels.formula.api as smf"
   ]
  },
  {
   "cell_type": "code",
   "execution_count": null,
   "metadata": {},
   "outputs": [],
   "source": [
    "# Zahlen in Dataframes ohne wissenschaftliche Notation ausgeben (zwei Nachkommastellen und Tausendertrennzeichen)\n",
    "pd.options.display.float_format = '{:,.2f}'.format"
   ]
  },
  {
   "cell_type": "markdown",
   "metadata": {},
   "source": [
    "# 1) Einlesen"
   ]
  },
  {
   "cell_type": "code",
   "execution_count": null,
   "metadata": {},
   "outputs": [],
   "source": [
    "df_crm = pd.read_csv(\"./data_csv/CRM_data.csv\")\n",
    "df_downtime = pd.read_csv(\"./data_csv/Downtime.csv\")\n",
    "df_preise = pd.read_csv(\"./data_csv/Preise.csv\")\n",
    "\n",
    "df_a_online = pd.read_csv(\"./data_csv/RegionA_online.csv\")\n",
    "df_a_phone = pd.read_csv(\"./data_csv/RegionA_phone.csv\")\n",
    "df_a_store = pd.read_csv(\"./data_csv/RegionA_store.csv\")\n",
    "\n",
    "df_b_online = pd.read_csv(\"./data_csv/RegionB_online.csv\")\n",
    "df_b_phone = pd.read_csv(\"./data_csv/RegionB_phone.csv\")\n",
    "df_b_store = pd.read_csv(\"./data_csv/RegionB_store.csv\")\n",
    "\n",
    "df_c_online = pd.read_csv(\"./data_csv/RegionC_online.csv\")\n",
    "df_c_phone = pd.read_csv(\"./data_csv/RegionC_phone.csv\")\n",
    "df_c_store = pd.read_csv(\"./data_csv/RegionC_store.csv\")\n",
    "\n",
    "df_d_online = pd.read_csv(\"./data_csv/RegionD_online.csv\")\n",
    "df_d_phone = pd.read_csv(\"./data_csv/RegionD_phone.csv\")\n",
    "df_d_store = pd.read_csv(\"./data_csv/RegionD_store.csv\")"
   ]
  },
  {
   "cell_type": "markdown",
   "metadata": {},
   "source": [
    "# 2) Aufbereiten"
   ]
  },
  {
   "cell_type": "markdown",
   "metadata": {},
   "source": [
    "## CRM-Daten:"
   ]
  },
  {
   "cell_type": "code",
   "execution_count": null,
   "metadata": {},
   "outputs": [],
   "source": [
    "df_crm.head()"
   ]
  },
  {
   "cell_type": "code",
   "execution_count": null,
   "metadata": {},
   "outputs": [],
   "source": [
    "df_crm.info()"
   ]
  },
  {
   "cell_type": "code",
   "execution_count": null,
   "metadata": {},
   "outputs": [],
   "source": [
    "# Spalten auf Englisch umbenennen\n",
    "df_crm = df_crm.rename(columns={\n",
    "    'vorname': 'first_name',\n",
    "    'nachname': 'last_name',\n",
    "})\n",
    "\n",
    "df_crm.head()"
   ]
  },
  {
   "cell_type": "markdown",
   "metadata": {},
   "source": [
    "## Preisdaten:"
   ]
  },
  {
   "cell_type": "code",
   "execution_count": null,
   "metadata": {},
   "outputs": [],
   "source": [
    "df_preise"
   ]
  },
  {
   "cell_type": "code",
   "execution_count": null,
   "metadata": {},
   "outputs": [],
   "source": [
    "# Umbenennen der Spalte \"Jahr\" in \"year\"\n",
    "df_preise = df_preise.rename(columns={\"Jahr\": \"year\",\n",
    "                                      \"preis\": \"price\"})\n",
    "\n",
    "# Entfernen von Anfuehrungszeichen\n",
    "df_preise['year'] = df_preise['year'].apply(lambda x: x.strip('\"')) \n",
    "\n",
    "# Korrigieren der falschen Jahreszahlen\n",
    "df_preise['year'] = df_preise['year'].replace({'20022': '2022'})  \n",
    "\n",
    "# Umwandeln der Spalte \"jahr\" in Datumsformat\n",
    "df_preise['year'] = pd.to_datetime(df_preise['year'], format='%Y')\n",
    "\n",
    "# Spalte \"jahr\" als Jahreszahl extrahieren\n",
    "df_preise['year'] = df_preise['year'].dt.year\n",
    "\n",
    "# Werte \"Tablet Basics\" in \"Tablet Basic\" ändern\n",
    "df_preise['product'] = df_preise['product'].replace({'Tablet Basics': 'Tablet Basic'})\n",
    "\n",
    "df_preise"
   ]
  },
  {
   "cell_type": "markdown",
   "metadata": {},
   "source": [
    "## Downtime-Daten:"
   ]
  },
  {
   "cell_type": "code",
   "execution_count": null,
   "metadata": {},
   "outputs": [],
   "source": [
    "df_downtime"
   ]
  },
  {
   "cell_type": "code",
   "execution_count": null,
   "metadata": {},
   "outputs": [],
   "source": [
    "# Erste Spalte in \"year\" umbenennen\n",
    "df_downtime = df_downtime.rename(columns={\"Unnamed: 0\": \"year\"})\n",
    "\n",
    "# Spalte \"year\" in Datumsformat umwandeln\n",
    "df_downtime['year'] = pd.to_datetime(df_downtime['year'], format='%Y')\n",
    "\n",
    "# Spalte \"year\" als Jahreszahl extrahieren\n",
    "df_downtime['year'] = df_downtime['year'].dt.year\n",
    "\n",
    "# Umbenennen der Spalten \"Region A\" bis \"Region D\" in \"region_a\" bis \"region_d\"\n",
    "df_downtime = df_downtime.rename(columns={\"Region A\": \"region_a\", \n",
    "                                          \"Region B\": \"region_b\", \n",
    "                                          \"Region C\": \"region_c\", \n",
    "                                          \"Region D\": \"region_d\"})\n",
    "\n",
    "df_downtime"
   ]
  },
  {
   "cell_type": "code",
   "execution_count": null,
   "metadata": {},
   "outputs": [],
   "source": [
    "# df_downtime umformen: Spalten sind die beiden Jahre und die Zeilen die Regionen\n",
    "df_downtime = df_downtime.melt(id_vars=['year'], var_name='region', value_name='downtime')\n",
    "\n",
    "# Werte in der Spalte \"region\" in \"A\" bis \"D\" umbenennen\n",
    "df_downtime['region'] = df_downtime['region'].replace({'region_a': 'A', \n",
    "                                                       'region_b': 'B', \n",
    "                                                       'region_c': 'C', \n",
    "                                                       'region_d': 'D'})\n",
    "\n",
    "df_downtime"
   ]
  },
  {
   "cell_type": "markdown",
   "metadata": {},
   "source": [
    "## Transaktionsdaten:"
   ]
  },
  {
   "cell_type": "code",
   "execution_count": null,
   "metadata": {},
   "outputs": [],
   "source": [
    "# Hinzufuegen der Spalten \"region\" und \"channel\" mit den entsprechenden Werten\n",
    "df_a_online = df_a_online.assign(region='A', channel='online')\n",
    "df_a_phone = df_a_phone.assign(region='A', channel='phone')\n",
    "df_a_store = df_a_store.assign(region='A', channel='store')\n",
    "\n",
    "df_b_online = df_b_online.assign(region='B', channel='online')\n",
    "df_b_phone = df_b_phone.assign(region='B', channel='phone')\n",
    "df_b_store = df_b_store.assign(region='B', channel='store')\n",
    "\n",
    "df_c_online = df_c_online.assign(region='C', channel='online')\n",
    "df_c_phone = df_c_phone.assign(region='C', channel='phone')\n",
    "df_c_store = df_c_store.assign(region='C', channel='store')\n",
    "\n",
    "df_d_online = df_d_online.assign(region='D', channel='online')\n",
    "df_d_phone = df_d_phone.assign(region='D', channel='phone')\n",
    "df_d_store = df_d_store.assign(region='D', channel='store')"
   ]
  },
  {
   "cell_type": "code",
   "execution_count": null,
   "metadata": {},
   "outputs": [],
   "source": [
    "# Umbenennen der Spalte \"PRODUKT\" in \"product\" in df_b_phone\n",
    "df_b_phone = df_b_phone.rename(columns={\"PRODUKT\": \"product\"})"
   ]
  },
  {
   "cell_type": "code",
   "execution_count": null,
   "metadata": {},
   "outputs": [],
   "source": [
    "# Alle Regionen in einen Dataframe zusammenfassen\n",
    "df_sales = pd.concat([df_a_online, df_a_phone, df_a_store,\n",
    "                      df_b_online, df_b_phone, df_b_store, \n",
    "                      df_c_online, df_c_phone, df_c_store, \n",
    "                      df_d_online, df_d_phone, df_d_store])"
   ]
  },
  {
   "cell_type": "code",
   "execution_count": null,
   "metadata": {},
   "outputs": [],
   "source": [
    "# Umbenennen der Spalten \"Tablet Basic\", \"Tablet Mini\" und \"Tablet Pro\", \"kosten_basic\", \"kosten_mini\" und \"kosten_pro\"\n",
    "df_sales = df_sales.rename(columns={\n",
    "    \"Tablet Basic\": \"tablet_basic\",\n",
    "    \"Tablet Mini\": \"tablet_mini\",\n",
    "    \"Tablet Pro\": \"tablet_pro\",\n",
    "    \"kosten_basic\": \"cost_basic\",\n",
    "    \"kosten_mini\": \"cost_mini\",\n",
    "    \"kosten_pro\": \"cost_pro\"\n",
    "})"
   ]
  },
  {
   "cell_type": "code",
   "execution_count": null,
   "metadata": {},
   "outputs": [],
   "source": [
    "# Umwandeln der Spalte \"jahr\" in Datumsformat\n",
    "df_sales[\"date\"] = pd.to_datetime(df_sales[\"date\"])"
   ]
  },
  {
   "cell_type": "code",
   "execution_count": null,
   "metadata": {},
   "outputs": [],
   "source": [
    "# NaN in den Spalten cost_basic, cost_mini und cost_pro durch 0 ersetzen\n",
    "df_sales['cost_basic'] = df_sales['cost_basic'].fillna(0)\n",
    "df_sales['cost_mini'] = df_sales['cost_mini'].fillna(0)\n",
    "df_sales['cost_pro'] = df_sales['cost_pro'].fillna(0)"
   ]
  },
  {
   "cell_type": "code",
   "execution_count": null,
   "metadata": {},
   "outputs": [],
   "source": [
    "# NaN in \"discount\" durch 1 ersetzen\n",
    "df_sales['discount'] = df_sales['discount'].fillna(1)\n",
    "\n",
    "# Discount tatsächlichen Wert berechnen\n",
    "df_sales['discount'] = 1 - df_sales['discount']"
   ]
  },
  {
   "cell_type": "code",
   "execution_count": null,
   "metadata": {},
   "outputs": [],
   "source": [
    "# Zeige Werte der Spalte \"product\" an\n",
    "df_sales['product'].unique()"
   ]
  },
  {
   "cell_type": "code",
   "execution_count": null,
   "metadata": {},
   "outputs": [],
   "source": [
    "# Werte \"Tablet Basic...\" in \"Tablet Basic\" aendern\n",
    "df_sales['product'] = df_sales['product'].replace({'Tablet Basic...': 'Tablet Basic'})"
   ]
  },
  {
   "cell_type": "code",
   "execution_count": null,
   "metadata": {},
   "outputs": [],
   "source": [
    "df_sales.info()"
   ]
  },
  {
   "cell_type": "code",
   "execution_count": null,
   "metadata": {},
   "outputs": [],
   "source": [
    "df_sales"
   ]
  },
  {
   "cell_type": "markdown",
   "metadata": {},
   "source": [
    "# 3) Transformieren"
   ]
  },
  {
   "cell_type": "code",
   "execution_count": null,
   "metadata": {},
   "outputs": [],
   "source": [
    "# df_sales und df_crm zusammenfuegen\n",
    "df_sales = pd.merge(df_sales, df_crm, left_on='transaction_id', right_on='id', how='inner')\n",
    "\n",
    "# Spalte \"id\" entfernen\n",
    "df_sales = df_sales.drop(columns=['id'])\n",
    "\n",
    "# Neue Spalten \"year\", \"month\" und \"week\" erstellen\n",
    "df_sales = df_sales.assign(year=df_sales['date'].dt.year,\n",
    "                           month=df_sales['date'].dt.month,\n",
    "                           week=df_sales['date'].dt.isocalendar().week)\n",
    "\n",
    "# Neue Spalte \"price\" erstellen, basierend auf den Werten in der Spalte \"price\" in df_preise\n",
    "df_sales = df_sales.merge(df_preise, on=[\"year\", \"product\"], how=\"left\")\n",
    "\n",
    "# Neue Spalte \"cost\" erstellen\n",
    "df_sales['cost'] = df_sales[\"cost_basic\"] + df_sales[\"cost_mini\"] + df_sales[\"cost_pro\"]\n",
    "\n",
    "# Neue Spalte \"cost_total\" erstellen\n",
    "df_sales['cost_total'] = df_sales[\"cost\"] * df_sales[\"amount\"]\n",
    "\n",
    "# Neue Spalte \"revenue\" erstellen\n",
    "df_sales['revenue'] = df_sales['price'] * df_sales['amount'] * (1 - df_sales['discount'])\n",
    "\n",
    "# Neue Spalte \"profit_per_piece\" erstellen\n",
    "df_sales[\"profit_per_piece\"] = (df_sales[\"price\"] * (1 - df_sales[\"discount\"])) - df_sales[\"cost\"]\n",
    "\n",
    "# Neue Spalte \"profit_total\" erstellen\n",
    "df_sales[\"profit_total\"] = df_sales[\"profit_per_piece\"] * df_sales[\"amount\"]\n",
    "\n",
    "# Alle Spalten anzeigen lassen\n",
    "pd.set_option('display.max_columns', None)\n",
    "df_sales"
   ]
  },
  {
   "cell_type": "code",
   "execution_count": null,
   "metadata": {},
   "outputs": [],
   "source": [
    "# Drop columns \"first_name\" and \"last_name\", \"iban\", \"email\"\n",
    "df_sales = df_sales.drop(columns=['first_name', 'last_name', 'iban', 'email'])\n",
    "df_sales"
   ]
  },
  {
   "cell_type": "code",
   "execution_count": null,
   "metadata": {},
   "outputs": [],
   "source": [
    "# Sortieren nach Datum\n",
    "df_sales.sort_values(by=['transaction_id'], inplace=True)\n",
    "\n",
    "# Reset der Index-Spalte\n",
    "df_sales.reset_index(drop=True, inplace=True)"
   ]
  },
  {
   "cell_type": "code",
   "execution_count": null,
   "metadata": {},
   "outputs": [],
   "source": [
    "df_sales"
   ]
  },
  {
   "cell_type": "code",
   "execution_count": null,
   "metadata": {},
   "outputs": [],
   "source": [
    "df_sales.info()"
   ]
  },
  {
   "cell_type": "code",
   "execution_count": null,
   "metadata": {},
   "outputs": [],
   "source": [
    "# summe der kosten nach produkt\n",
    "df_sales.groupby(['product'])['cost_total'].sum()"
   ]
  },
  {
   "cell_type": "markdown",
   "metadata": {},
   "source": [
    "# 4) Analyse der allgemeinen wirtschaftlichen Entwicklung"
   ]
  },
  {
   "cell_type": "markdown",
   "metadata": {},
   "source": [
    "## Entwicklung der Kennzahlen Verkaufsmenge, Umsatz, Kosten, Gewinn und Umsatzrendite"
   ]
  },
  {
   "cell_type": "code",
   "execution_count": null,
   "metadata": {},
   "outputs": [],
   "source": [
    "# df_sales nach Jahr und Monat gruppieren und die Summe der Spalten der Verkaufsmenge, des Umsatzes, der Kosten und des Profits berechnen\n",
    "df_development = df_sales.groupby(['year', 'month']).agg({\"amount\" : \"sum\",\n",
    "                                                          \"revenue\" : \"sum\",\n",
    "                                                          \"cost_total\" : \"sum\",\n",
    "                                                          \"profit_total\" : \"sum\"})\n",
    "\n",
    "# Berechnung der Umsatzrendite\n",
    "df_development['profit_margin'] = df_development['profit_total'] / df_development['revenue'] * 100\n",
    "\n",
    "# Reset der Index-Spalte, um die Spalten \"year\" und \"month\" zu erhalten\n",
    "df_development.reset_index(inplace=True)\n",
    "\n",
    "df_development"
   ]
  },
  {
   "cell_type": "code",
   "execution_count": null,
   "metadata": {},
   "outputs": [],
   "source": [
    "# Visualisierung der Entwicklung der Verkaufsmenge\n",
    "fig, ax = plt.subplots(figsize=(10, 6))\n",
    "\n",
    "# Daten plotten\n",
    "ax.plot(df_development['year'].astype(str) + '-' + df_development['month'].astype(str), df_development['amount'])\n",
    "\n",
    "# Grid hinzufuegen\n",
    "ax.grid(color='lightgrey', linestyle='-', linewidth=0.5)\n",
    "\n",
    "# Achsenbeschriftung und Titel hinzufuegen\n",
    "ax.set_xlabel('Jahr-Monat', fontsize=12)\n",
    "ax.set_ylabel('in Stück', fontsize=12)\n",
    "ax.set_title('Entwicklung der Verkaufsmenge')\n",
    "\n",
    "# Tausendertrennzeichen hinzufuegen\n",
    "ax.get_yaxis().set_major_formatter(plt.FuncFormatter(lambda x, loc: \"{:,}\".format(int(x))))\n",
    "\n",
    "# X-Achsenbeschriftung drehen\n",
    "plt.xticks(rotation=45)\n",
    "\n",
    "# Diagramm anzeigen\n",
    "plt.tight_layout()\n",
    "plt.show()"
   ]
  },
  {
   "cell_type": "code",
   "execution_count": null,
   "metadata": {},
   "outputs": [],
   "source": [
    "# Visualisierung der Entwicklung des Umsatzes, der Kosten und des Profits\n",
    "fig, ax = plt.subplots(figsize=(10, 6))\n",
    "\n",
    "# Daten plotten\n",
    "ax.plot(df_development['year'].astype(str) + '-' + df_development['month'].astype(str), df_development['revenue'])\n",
    "ax.plot(df_development['year'].astype(str) + '-' + df_development['month'].astype(str), df_development['cost_total'])\n",
    "ax.plot(df_development['year'].astype(str) + '-' + df_development['month'].astype(str), df_development['profit_total'])\n",
    "\n",
    "# Grid hinzufuegen\n",
    "ax.grid(color='lightgrey', linestyle='-', linewidth=0.5)\n",
    "\n",
    "# Achsenbeschriftung und Titel hinzufuegen\n",
    "ax.set_xlabel('Jahr-Monat', fontsize=12)\n",
    "ax.set_ylabel('in €', fontsize=12)\n",
    "ax.set_title('Entwicklung des Umsatzes, der Kosten und des Profits')\n",
    "\n",
    "# Tausendertrennzeichen hinzufuegen\n",
    "ax.get_yaxis().set_major_formatter(plt.FuncFormatter(lambda x, loc: \"{:,}\".format(int(x))))\n",
    "\n",
    "# X-Achsenbeschriftung drehen\n",
    "plt.xticks(rotation=45)\n",
    "\n",
    "# Legende hinzufuegen\n",
    "ax.legend(['Umsatz', 'Kosten', 'Profit'])\n",
    "\n",
    "# Diagramm anzeigen\n",
    "plt.tight_layout()\n",
    "plt.show()"
   ]
  },
  {
   "cell_type": "code",
   "execution_count": null,
   "metadata": {},
   "outputs": [],
   "source": [
    "# Visualisierung der Entwicklung der Umsatzrendite\n",
    "fig, ax = plt.subplots(figsize=(10, 6))\n",
    "\n",
    "# Daten plotten\n",
    "ax.plot(df_development['year'].astype(str) + '-' + df_development['month'].astype(str), df_development['profit_margin'])\n",
    "\n",
    "# Grid hinzufuegen\n",
    "ax.grid(color='lightgrey', linestyle='-', linewidth=0.5)\n",
    "\n",
    "# Achsenbeschriftung und Titel hinzufuegen\n",
    "ax.set_xlabel('Jahr-Monat', fontsize=12)\n",
    "ax.set_ylabel('in %', fontsize=12)\n",
    "ax.set_title('Entwicklung der Umsatzrendite')\n",
    "\n",
    "# X-Achsenbeschriftung drehen\n",
    "plt.xticks(rotation=45)\n",
    "\n",
    "# Diagramm anzeigen\n",
    "plt.tight_layout()\n",
    "plt.show()"
   ]
  },
  {
   "cell_type": "markdown",
   "metadata": {},
   "source": [
    "## Prozentuelle Veränderung von Oktober 2021 bis November 2022"
   ]
  },
  {
   "cell_type": "code",
   "execution_count": null,
   "metadata": {},
   "outputs": [],
   "source": [
    "# Veränderung vom Anfang bis zum Ende des Zeitraums in Prozent berechnen \n",
    "\n",
    "# Neues Dataframe mit erstellen (KPI, Change in %)\n",
    "df_kpi = pd.DataFrame(columns=['kpi', 'change_in_percent'])\n",
    "\n",
    "# Liste mit den KPIs erstellen\n",
    "kpi = ['amount', 'revenue', 'cost_total', 'profit_total', 'profit_margin']\n",
    "\n",
    "# Berechnung der Veränderung in Prozent\n",
    "for i in kpi:\n",
    "    change = (df_development[i].iloc[-1] / df_development[i].iloc[0] - 1) * 100\n",
    "    df_kpi.loc[len(df_kpi)] = [i, change]\n",
    "\n",
    "df_kpi"
   ]
  },
  {
   "cell_type": "code",
   "execution_count": null,
   "metadata": {},
   "outputs": [],
   "source": [
    "# Visualisierung der Veränderung der KPIs als Säulendiagramm\n",
    "fig, ax = plt.subplots(figsize=(10, 6))\n",
    "\n",
    "# Daten plotten\n",
    "bars = ax.bar(df_kpi['kpi'], df_kpi['change_in_percent'])\n",
    "\n",
    "# Achsenbeschriftung und Titel hinzufuegen\n",
    "ax.set_title('Veränderung der KPIs von Oktober 2021 bis September 2022')\n",
    "ax.set_xlabel('KPI', fontsize=12)\n",
    "ax.set_ylabel('in %', fontsize=12)\n",
    "\n",
    "# Linie bei 0 hinzufuegen\n",
    "ax.axhline(0, color='black', linewidth=0.5)\n",
    "\n",
    "# Farbe der Säulen anpassen\n",
    "ax.patches[0].set_color('green')\n",
    "ax.patches[1].set_color('green')\n",
    "ax.patches[2].set_color('red')\n",
    "ax.patches[3].set_color('red')\n",
    "ax.patches[4].set_color('red')\n",
    "\n",
    "# Beschriftung der Säulen hinzufuegen\n",
    "ax.bar_label(bars, fmt='%.2f%%', padding=2)\n",
    "\n",
    "# X-Achsenbeschriftung auf Deutsch (\"Verkaufsmenge\", \"Umsatz\", \"Kosten\", \"Profit\", \"Umsatzrendite\")\n",
    "ax.xaxis.set_ticks(np.arange(5))\n",
    "ax.set_xticklabels(['Verkaufsmenge', 'Umsatz', 'Kosten', 'Profit', 'Umsatzrendite'])\n",
    "plt.xticks(rotation=45)\n",
    "\n",
    "# Diagramm anzeigen\n",
    "plt.tight_layout()\n",
    "plt.show()"
   ]
  },
  {
   "cell_type": "markdown",
   "metadata": {},
   "source": [
    "## Stückbetrachtung"
   ]
  },
  {
   "cell_type": "code",
   "execution_count": null,
   "metadata": {},
   "outputs": [],
   "source": [
    "# df_development kopieren\n",
    "df_development_per_piece = df_development.copy()\n",
    "\n",
    "# Berechnung des Umsatzes pro Stück\n",
    "df_development_per_piece['revenue_per_piece'] = df_development_per_piece['revenue'] / df_development_per_piece['amount']    \n",
    "\n",
    "# Berechnung der Kosten pro Stück\n",
    "df_development_per_piece['cost_per_piece'] = df_development_per_piece['cost_total'] / df_development_per_piece['amount']\n",
    "\n",
    "# Berechnung des Profits pro Stück\n",
    "df_development_per_piece['profit_per_piece'] = df_development_per_piece['profit_total'] / df_development_per_piece['amount']\n",
    "\n",
    "df_development_per_piece"
   ]
  },
  {
   "cell_type": "code",
   "execution_count": null,
   "metadata": {},
   "outputs": [],
   "source": [
    "# Visualisierung der Entwicklung des Umsatzes pro Stück, der Kosten pro Stück und des Profits pro Stück\n",
    "fig, ax = plt.subplots(figsize=(10, 6))\n",
    "\n",
    "# Daten plotten\n",
    "ax.plot(df_development_per_piece['year'].astype(str) + '-' + df_development_per_piece['month'].astype(str), df_development_per_piece['revenue_per_piece'])\n",
    "ax.plot(df_development_per_piece['year'].astype(str) + '-' + df_development_per_piece['month'].astype(str), df_development_per_piece['cost_per_piece'])\n",
    "ax.plot(df_development_per_piece['year'].astype(str) + '-' + df_development_per_piece['month'].astype(str), df_development_per_piece['profit_per_piece'])\n",
    "\n",
    "# Grid hinzufuegen\n",
    "ax.grid(color='lightgrey', linestyle='-', linewidth=0.5)\n",
    "\n",
    "# Achsenbeschriftung und Titel hinzufuegen\n",
    "ax.set_xlabel('Jahr-Monat', fontsize=12)\n",
    "ax.set_ylabel('in €', fontsize=12)\n",
    "ax.set_title('Entwicklung des Umsatzes pro Stück, der Kosten pro Stück und des Profits pro Stück')\n",
    "\n",
    "# X-Achsenbeschriftung drehen\n",
    "plt.xticks(rotation=45)\n",
    "\n",
    "# Legende hinzufuegen\n",
    "ax.legend(['Umsatz pro Stück', 'Kosten pro Stück', 'Profit pro Stück'])\n",
    "\n",
    "# Diagramm anzeigen\n",
    "plt.tight_layout()\n",
    "plt.show()"
   ]
  },
  {
   "cell_type": "code",
   "execution_count": null,
   "metadata": {},
   "outputs": [],
   "source": [
    "# Veränderung vom Anfang bis zum Ende des Zeitraums in Prozent berechnen \n",
    "\n",
    "# Neues Dataframe mit erstellen (KPI, Change in %)\n",
    "df_kpi_per_piece = pd.DataFrame(columns=['kpi', 'change_in_percent'])\n",
    "\n",
    "# Liste mit den KPIs erstellen\n",
    "kpi = ['revenue_per_piece', 'cost_per_piece', 'profit_per_piece']\n",
    "\n",
    "# Berechnung der Veränderung in Prozent\n",
    "for i in kpi:\n",
    "    change = (df_development_per_piece[i].iloc[-1] / df_development_per_piece[i].iloc[0] - 1) * 100\n",
    "    df_kpi_per_piece.loc[len(df_kpi_per_piece)] = [i, change]\n",
    "\n",
    "df_kpi_per_piece"
   ]
  },
  {
   "cell_type": "code",
   "execution_count": null,
   "metadata": {},
   "outputs": [],
   "source": [
    "# Visualisierung der Veränderung der KPIs als Säulendiagramm\n",
    "fig, ax = plt.subplots(figsize=(10, 6))\n",
    "\n",
    "# Daten plotten\n",
    "bars = ax.bar(df_kpi_per_piece['kpi'], df_kpi_per_piece['change_in_percent'])\n",
    "\n",
    "# Achsenbeschriftung und Titel hinzufuegen\n",
    "ax.set_title('Veränderung der KPIs von Oktober 2021 bis September 2022')\n",
    "ax.set_xlabel('KPI', fontsize=12)\n",
    "ax.set_ylabel('in %', fontsize=12)\n",
    "\n",
    "# Linie bei 0 hinzufuegen\n",
    "ax.axhline(0, color='black', linewidth=0.5)\n",
    "\n",
    "# Farbe der Säulen anpassen\n",
    "ax.patches[0].set_color('green')\n",
    "ax.patches[1].set_color('red')\n",
    "ax.patches[2].set_color('red')\n",
    "\n",
    "# Beschriftung der Säulen hinzufuegen\n",
    "ax.bar_label(bars, fmt='%.2f%%', padding=2)\n",
    "\n",
    "# X-Achsenbeschriftung auf Deutsch (\"Umsatz pro Stück\", \"Kosten pro Stück\", \"Profit pro Stück\")\n",
    "ax.xaxis.set_ticks(np.arange(3))\n",
    "ax.set_xticklabels(['Umsatz pro Stück', 'Kosten pro Stück', 'Profit pro Stück'])\n",
    "plt.xticks(rotation=45)\n",
    "\n",
    "# Diagramm anzeigen\n",
    "plt.tight_layout()\n",
    "plt.show()"
   ]
  },
  {
   "cell_type": "markdown",
   "metadata": {},
   "source": [
    "# 5) Detaillierte Analyse"
   ]
  },
  {
   "cell_type": "markdown",
   "metadata": {},
   "source": [
    "## Hypothese 1: Preise haben sich verändert"
   ]
  },
  {
   "cell_type": "code",
   "execution_count": null,
   "metadata": {},
   "outputs": [],
   "source": [
    "df_preise"
   ]
  },
  {
   "cell_type": "code",
   "execution_count": null,
   "metadata": {},
   "outputs": [],
   "source": [
    "# Visualisierung der Entwicklung der Preise nach Produkte\n",
    "\n",
    "# Breite der Balken festlegen\n",
    "bar_width = 0.35\n",
    "\n",
    "# Einzigartige Produkte und Jahre\n",
    "products = df_preise['product'].unique()\n",
    "years = df_preise['year'].unique()\n",
    "\n",
    "# Farben für jedes Jahr\n",
    "colors = ['tab:orange', 'tab:blue']\n",
    "\n",
    "# Diagramm erstellen\n",
    "fig, ax = plt.subplots()\n",
    "\n",
    "# Balken für jedes Produkt und Jahr zeichnen\n",
    "for i, product in enumerate(products):\n",
    "    for j, year in enumerate(years):\n",
    "        # Daten für das Produkt und Jahr filtern\n",
    "        price = df_preise[(df_preise['product'] == product) & (df_preise['year'] == year)]['price'].values[0]\n",
    "        # Balken zeichnen\n",
    "        bar = ax.bar(i + j * bar_width, price, width=bar_width, label=f'{year}' if i == 0 else \"\", color=colors[j])\n",
    "        # Preis über dem Balken anzeigen\n",
    "        ax.text(bar[0].get_x() + bar[0].get_width() / 2, price + 10, f'{price}', ha='center')\n",
    "\n",
    "# Achsenbeschriftungen\n",
    "ax.set_xlabel('Produkt')\n",
    "ax.set_ylabel('Preis in €')\n",
    "ax.set_title('Preisentwicklung 2021-2022')\n",
    "\n",
    "# X-Achsen-Ticks setzen\n",
    "ax.set_xticks(np.arange(len(products)) + bar_width / 2)\n",
    "ax.set_xticklabels(products)\n",
    "\n",
    "# Legende hinzufügen\n",
    "ax.legend(title='Jahr')\n",
    "\n",
    "# Diagramm anzeigen\n",
    "plt.tight_layout()\n",
    "plt.show()\n"
   ]
  },
  {
   "cell_type": "code",
   "execution_count": null,
   "metadata": {},
   "outputs": [],
   "source": [
    "# Grupperien des durchschnittliche Preises monatlich über beide Jahre hinweg\n",
    "preis_pro_monat = df_sales.groupby(['year', 'month']).agg({\"price\" : \"mean\"})\n",
    "preis_pro_monat.reset_index(inplace=True)\n",
    "preis_pro_monat"
   ]
  },
  {
   "cell_type": "code",
   "execution_count": null,
   "metadata": {},
   "outputs": [],
   "source": [
    "# Visualisierung der Entwicklung des durchschnittlichen Preises monatlich über beide Jahre hinweg\n",
    "fig, ax = plt.subplots(figsize=(10, 6))\n",
    "\n",
    "# Daten plotten\n",
    "ax.plot(preis_pro_monat['year'].astype(str) + '-' + preis_pro_monat['month'].astype(str), preis_pro_monat['price'])\n",
    "\n",
    "# Grid hinzufuegen\n",
    "ax.grid(color='lightgrey', linestyle='-', linewidth=0.5)\n",
    "\n",
    "# Achsenbeschriftung und Titel hinzufuegen\n",
    "ax.set_xlabel('Jahr-Monat', fontsize=12)\n",
    "ax.set_ylabel('in €', fontsize=12)\n",
    "ax.set_title('Entwicklung des ø-Preises pro Transaktion')\n",
    "\n",
    "# X-Achsenbeschriftung drehen\n",
    "plt.xticks(rotation=45)\n",
    "\n",
    "# Diagramm anzeigen\n",
    "plt.tight_layout()\n",
    "plt.show()"
   ]
  },
  {
   "cell_type": "markdown",
   "metadata": {},
   "source": [
    "- Der durchschnittliche Preis je Transaktion ist gestiegen. Dies liegt daran, dass das teurere Tablet Pro sich im Laufe des Betrachtungszeitraum mehr verkauft hat als die anderen günstigeren Produkte."
   ]
  },
  {
   "cell_type": "markdown",
   "metadata": {},
   "source": [
    "## Hypothese 2: Menge an verkauften Produkten ist gesunken"
   ]
  },
  {
   "cell_type": "code",
   "execution_count": null,
   "metadata": {},
   "outputs": [],
   "source": [
    "# Anzahl verkaufter Produkte pro Monat\n",
    "menge_pro_monat = df_sales.groupby(['year', 'month']).agg({\"amount\" : \"sum\"})\n",
    "menge_pro_monat.reset_index(inplace=True)\n",
    "menge_pro_monat"
   ]
  },
  {
   "cell_type": "code",
   "execution_count": null,
   "metadata": {},
   "outputs": [],
   "source": [
    "# Summe der Transaktionen pro Monat\n",
    "transaktionen_pro_monat = df_sales.groupby(['year', 'month']).agg({\"transaction_id\" : \"count\"})\n",
    "transaktionen_pro_monat.reset_index(inplace=True)\n",
    "transaktionen_pro_monat"
   ]
  },
  {
   "cell_type": "code",
   "execution_count": null,
   "metadata": {},
   "outputs": [],
   "source": [
    "# Beide als Barplot darstellen\n",
    "fig, ax = plt.subplots(figsize=(10, 6))\n",
    "\n",
    "# Daten plotten\n",
    "ax.bar(menge_pro_monat['year'].astype(str) + '-' + menge_pro_monat['month'].astype(str), menge_pro_monat['amount'])\n",
    "ax.bar(transaktionen_pro_monat['year'].astype(str) + '-' + transaktionen_pro_monat['month'].astype(str), transaktionen_pro_monat['transaction_id'])\n",
    "\n",
    "# Achsenbeschriftung und Titel hinzufuegen\n",
    "ax.set_xlabel('Jahr-Monat', fontsize=12)\n",
    "ax.set_ylabel('Anzahl', fontsize=12)\n",
    "ax.set_title('Anzahl verkaufter Produkte und Anzahl Transaktionen pro Monat')\n",
    "\n",
    "# X-Achsenbeschriftung drehen\n",
    "plt.xticks(rotation=45)\n",
    "\n",
    "# Legende hinzufuegen\n",
    "ax.legend(['Anzahl verkaufter Produkte', 'Anzahl Transaktionen'])\n",
    "\n",
    "# Diagramm anzeigen\n",
    "plt.tight_layout()\n",
    "plt.show()"
   ]
  },
  {
   "cell_type": "code",
   "execution_count": null,
   "metadata": {},
   "outputs": [],
   "source": [
    "# Durchschnittliche Anzahl der verkauften Produkte pro Transaktion\n",
    "avg_menge_pro_monat = df_sales.groupby(['year', 'month']).agg({\"amount\" : \"mean\"})\n",
    "avg_menge_pro_monat.reset_index(inplace=True)\n",
    "avg_menge_pro_monat"
   ]
  },
  {
   "cell_type": "code",
   "execution_count": null,
   "metadata": {},
   "outputs": [],
   "source": [
    "# Visualisierung der Entwicklung der durchschnittlichen Anzahl der verkauften Produkte pro Transaktion\n",
    "fig, ax = plt.subplots(figsize=(10, 5))\n",
    "\n",
    "# Daten plotten\n",
    "ax.bar(avg_menge_pro_monat['year'].astype(str) + '-' + avg_menge_pro_monat['month'].astype(str), avg_menge_pro_monat['amount'])\n",
    "\n",
    "# Achsenbeschriftung und Titel hinzufuegen\n",
    "ax.set_xlabel('Jahr-Monat', fontsize=12)\n",
    "ax.set_ylabel('Anzahl', fontsize=12)\n",
    "ax.set_title('Durchschnittliche Anzahl der verkauften Produkte pro Transaktion')\n",
    "\n",
    "# X-Achsenbeschriftung drehen\n",
    "plt.xticks(rotation=45)\n",
    "\n",
    "# Diagramm anzeigen\n",
    "plt.tight_layout()\n",
    "plt.show()"
   ]
  },
  {
   "cell_type": "markdown",
   "metadata": {},
   "source": [
    "- Menge verkaufter Artikel und Anzahl Transaktionen sind gestiegen\n",
    "- Durchschnittlich wurde je Transaktion aber etwas weniger gekauft"
   ]
  },
  {
   "cell_type": "markdown",
   "metadata": {},
   "source": [
    "## Hypothese 3: Regionen haben unterschiedlich gut performt"
   ]
  },
  {
   "cell_type": "code",
   "execution_count": null,
   "metadata": {},
   "outputs": [],
   "source": [
    "# Umsatz, Kosten und Gewinn pro Monat für Region A\n",
    "df_sales_a = df_sales[df_sales['region'] == 'A'].groupby(pd.Grouper(key='date', freq='M')).agg({'amount': 'sum', 'revenue': 'sum', 'cost_total': 'sum', 'profit_total': 'sum'})\n",
    "\n",
    "# Umsatz, Kosten und Gewinn pro Monat für Region B\n",
    "df_sales_b = df_sales[df_sales['region'] == 'B'].groupby(pd.Grouper(key='date', freq='M')).agg({'amount': 'sum', 'revenue': 'sum', 'cost_total': 'sum', 'profit_total': 'sum'})\n",
    "\n",
    "# Umsatz, Kosten und Gewinn pro Monat für Region C\n",
    "df_sales_c = df_sales[df_sales['region'] == 'C'].groupby(pd.Grouper(key='date', freq='M')).agg({'amount': 'sum', 'revenue': 'sum', 'cost_total': 'sum', 'profit_total': 'sum'})\n",
    "\n",
    "# Umsatz, Kosten und Gewinn pro Monat für Region D\n",
    "df_sales_d = df_sales[df_sales['region'] == 'D'].groupby(pd.Grouper(key='date', freq='M')).agg({'amount': 'sum', 'revenue': 'sum', 'cost_total': 'sum', 'profit_total': 'sum'})"
   ]
  },
  {
   "cell_type": "code",
   "execution_count": null,
   "metadata": {},
   "outputs": [],
   "source": [
    "# Umsatz, Kosten und Gewinn pro Monat für alle Regionen jeweils als Subplot visualisieren und alle Subplots zusammenfassen\n",
    "fig, axes = plt.subplots(1, 4, figsize=(25, 5))\n",
    "fig.suptitle('Profit, Cost and Revenue per month for all regions')\n",
    "\n",
    "axes[0].plot(df_sales_a['amount'], label='A')\n",
    "axes[0].plot(df_sales_b['amount'], label='B')\n",
    "axes[0].plot(df_sales_c['amount'], label='C')\n",
    "axes[0].plot(df_sales_d['amount'], label='D')\n",
    "axes[0].set_title('amount sold')\n",
    "axes[0].legend()\n",
    "\n",
    "axes[1].plot(df_sales_a['revenue'], label='A')\n",
    "axes[1].plot(df_sales_b['revenue'], label='B')\n",
    "axes[1].plot(df_sales_c['revenue'], label='C')\n",
    "axes[1].plot(df_sales_d['revenue'], label='D')\n",
    "axes[1].set_title('Revenue')\n",
    "axes[1].legend()\n",
    "\n",
    "axes[2].plot(df_sales_a['cost_total'], label='A')\n",
    "axes[2].plot(df_sales_b['cost_total'], label='B')\n",
    "axes[2].plot(df_sales_c['cost_total'], label='C')\n",
    "axes[2].plot(df_sales_d['cost_total'], label='D')\n",
    "axes[2].set_title('Cost')\n",
    "\n",
    "axes[3].plot(df_sales_a['profit_total'], label='A')\n",
    "axes[3].plot(df_sales_b['profit_total'], label='B')\n",
    "axes[3].plot(df_sales_c['profit_total'], label='C')\n",
    "axes[3].plot(df_sales_d['profit_total'], label='D')\n",
    "axes[3].set_title('Profit')\n",
    "\n",
    "# y-Achse in Millionen formatieren\n",
    "for ax in axes:\n",
    "    ax.yaxis.set_major_formatter(\n",
    "        plt.FuncFormatter(lambda x, loc: \"{:,}\".format(int(x))))\n",
    "\n",
    "plt.tight_layout()"
   ]
  },
  {
   "cell_type": "markdown",
   "metadata": {},
   "source": [
    "- Alle Regionen haben den gleichen Abwärtstrend beim Gewinn durchgemacht\n",
    "    - Region C hatte die größte Gewinnsenkung\n",
    "- Region D hat im Vergleich am besten performt"
   ]
  },
  {
   "cell_type": "markdown",
   "metadata": {},
   "source": [
    "## Hypothese 4: Vertriebskanäle haben unterschiedlich performt"
   ]
  },
  {
   "cell_type": "code",
   "execution_count": null,
   "metadata": {},
   "outputs": [],
   "source": [
    "# Umsatz, Kosten und Gewinn pro Woche für Verkaufskanal Online\n",
    "df_sales_online = df_sales[df_sales['channel'] == 'online'].groupby(pd.Grouper(key='date', freq='M')).agg({'amount': 'sum', 'revenue': 'sum', 'cost_total': 'sum', 'profit_total': 'sum'})\n",
    "\n",
    "# Umsatz, Kosten und Gewinn pro Woche für Verkaufskanal Phone\n",
    "df_sales_phone = df_sales[df_sales['channel'] == 'phone'].groupby(pd.Grouper(key='date', freq='M')).agg({'amount': 'sum', 'revenue': 'sum', 'cost_total': 'sum', 'profit_total': 'sum'})\n",
    "\n",
    "# Umsatz, Kosten und Gewinn pro Woche für Verkaufskanal Store\n",
    "df_sales_store = df_sales[df_sales['channel'] == 'store'].groupby(pd.Grouper(key='date', freq='M')).agg({'amount': 'sum', 'revenue': 'sum', 'cost_total': 'sum', 'profit_total': 'sum'})"
   ]
  },
  {
   "cell_type": "code",
   "execution_count": null,
   "metadata": {},
   "outputs": [],
   "source": [
    "# Umsatz, Kosten und Gewinn pro Woche für alle Verkaufskanäle jeweils als Subplot visualisieren und alle Subplots zusammenfassen\n",
    "fig, axes = plt.subplots(1, 4, figsize=(25, 5))\n",
    "fig.suptitle('Profit, Cost and Revenue per month for all channels')\n",
    "\n",
    "axes[0].plot(df_sales_online['amount'], label='Online')\n",
    "axes[0].plot(df_sales_phone['amount'], label='Phone')\n",
    "axes[0].plot(df_sales_store['amount'], label='Store')\n",
    "axes[0].set_title('amount sold')\n",
    "axes[0].legend()\n",
    "\n",
    "axes[1].plot(df_sales_online['revenue'], label='Online')\n",
    "axes[1].plot(df_sales_phone['revenue'], label='Phone')\n",
    "axes[1].plot(df_sales_store['revenue'], label='Store')\n",
    "axes[1].set_title('Revenue')\n",
    "axes[1].legend()\n",
    "\n",
    "axes[2].plot(df_sales_online['cost_total'], label='Online')\n",
    "axes[2].plot(df_sales_phone['cost_total'], label='Phone')\n",
    "axes[2].plot(df_sales_store['cost_total'], label='Store')\n",
    "axes[2].set_title('Cost')\n",
    "axes[2].legend()\n",
    "\n",
    "axes[3].plot(df_sales_online['profit_total'], label='Online')\n",
    "axes[3].plot(df_sales_phone['profit_total'], label='Phone')\n",
    "axes[3].plot(df_sales_store['profit_total'], label='Store')\n",
    "axes[3].set_title('Profit')\n",
    "axes[3].legend()\n",
    "\n",
    "# y-Achse in Millionen formatieren\n",
    "for ax in axes:\n",
    "    ax.yaxis.set_major_formatter(\n",
    "        plt.FuncFormatter(lambda x, loc: \"{:,}\".format(int(x))))\n",
    "    \n",
    "plt.tight_layout()"
   ]
  },
  {
   "cell_type": "markdown",
   "metadata": {},
   "source": [
    "- Online hat den größten Gewinnverlust erfahren"
   ]
  },
  {
   "cell_type": "markdown",
   "metadata": {},
   "source": [
    "### Vergleich der Online-Kanäle der Regionen A bis D"
   ]
  },
  {
   "cell_type": "code",
   "execution_count": null,
   "metadata": {},
   "outputs": [],
   "source": [
    "# Anzahl verkaufter Produkte, Umsatz, Kosten und Gewinn pro Monat für die Regionen A, B, C und D in dem Kanal Online\n",
    "df_sales_online_a = df_sales[(df_sales['region'] == 'A') & (df_sales['channel'] == 'online')].groupby(pd.Grouper(key='date', freq='M')).agg({\"transaction_id\": \"count\", 'amount': 'sum', 'revenue': 'sum', 'cost_total': 'sum', 'profit_total': 'sum'})\n",
    "\n",
    "df_sales_online_b = df_sales[(df_sales['region'] == 'B') & (df_sales['channel'] == 'online')].groupby(pd.Grouper(key='date', freq='M')).agg({\"transaction_id\": \"count\", 'amount': 'sum', 'revenue': 'sum', 'cost_total': 'sum', 'profit_total': 'sum'})\n",
    "\n",
    "df_sales_online_c = df_sales[(df_sales['region'] == 'C') & (df_sales['channel'] == 'online')].groupby(pd.Grouper(key='date', freq='M')).agg({\"transaction_id\": \"count\", 'amount': 'sum', 'revenue': 'sum', 'cost_total': 'sum', 'profit_total': 'sum'})\n",
    "\n",
    "df_sales_online_d = df_sales[(df_sales['region'] == 'D') & (df_sales['channel'] == 'online')].groupby(pd.Grouper(key='date', freq='M')).agg({\"transaction_id\": \"count\", 'amount': 'sum', 'revenue': 'sum', 'cost_total': 'sum', 'profit_total': 'sum'})"
   ]
  },
  {
   "cell_type": "code",
   "execution_count": null,
   "metadata": {},
   "outputs": [],
   "source": [
    "# Verkaufskanal Online für alle Regionen in einem Plot zusammenfassen\n",
    "fig, axes = plt.subplots(1, 5, figsize=(25, 5))\n",
    "\n",
    "axes[0].plot(df_sales_online_a['transaction_id'], label='A')\n",
    "axes[0].plot(df_sales_online_b['transaction_id'], label='B')\n",
    "axes[0].plot(df_sales_online_c['transaction_id'], label='C')\n",
    "axes[0].plot(df_sales_online_d['transaction_id'], label='D')\n",
    "axes[0].set_title('Number of transactions in Online Channel')\n",
    "axes[0].legend()\n",
    "\n",
    "axes[1].plot(df_sales_online_a['amount'], label='A')\n",
    "axes[1].plot(df_sales_online_b['amount'], label='B')\n",
    "axes[1].plot(df_sales_online_c['amount'], label='C')\n",
    "axes[1].plot(df_sales_online_d['amount'], label='D')\n",
    "axes[1].set_title('Amount sold in Online Channel')\n",
    "axes[1].legend()\n",
    "\n",
    "axes[2].plot(df_sales_online_a['revenue'], label='A')\n",
    "axes[2].plot(df_sales_online_b['revenue'], label='B')\n",
    "axes[2].plot(df_sales_online_c['revenue'], label='C')\n",
    "axes[2].plot(df_sales_online_d['revenue'], label='D')\n",
    "axes[2].set_title('Revenue in Online Channel')\n",
    "axes[2].legend()\n",
    "\n",
    "axes[3].plot(df_sales_online_a['cost_total'], label='A')\n",
    "axes[3].plot(df_sales_online_b['cost_total'], label='B')\n",
    "axes[3].plot(df_sales_online_c['cost_total'], label='C')\n",
    "axes[3].plot(df_sales_online_d['cost_total'], label='D')\n",
    "axes[3].set_title('Cost in Online Channel')\n",
    "axes[3].legend()\n",
    "\n",
    "axes[4].plot(df_sales_online_a['profit_total'], label='A')\n",
    "axes[4].plot(df_sales_online_b['profit_total'], label='B')\n",
    "axes[4].plot(df_sales_online_c['profit_total'], label='C')\n",
    "axes[4].plot(df_sales_online_d['profit_total'], label='D')\n",
    "axes[4].set_title('Profit in Online Channel')\n",
    "axes[4].legend()\n",
    "\n",
    "# y-Achse ohne wissenschaftliche Notation\n",
    "for ax in axes:\n",
    "    ax.ticklabel_format(style='plain', axis='y')\n",
    "    \n",
    "plt.tight_layout()"
   ]
  },
  {
   "cell_type": "markdown",
   "metadata": {},
   "source": [
    "## Hypothese 5: Produkte haben unterschiedlich gut performt"
   ]
  },
  {
   "cell_type": "code",
   "execution_count": null,
   "metadata": {},
   "outputs": [],
   "source": [
    "# Anzahl verkaufter Produkte, Umsatz, Kosten und Gewinn pro Monat für Produkt \"Tablet Basic\"\n",
    "df_sales_basic = df_sales[df_sales['product'] == 'Tablet Basic'].groupby(pd.Grouper(key='date', freq='M')).agg({'amount': 'sum', 'revenue': 'sum', 'cost_total': 'sum', 'profit_total': 'sum'})\n",
    "\n",
    "# Anzahl verkaufter Produkte, Umsatz, Kosten und Gewinn pro Monat für Produkt \"Tablet Mini\"\n",
    "df_sales_mini = df_sales[df_sales['product'] == 'Tablet Mini'].groupby(pd.Grouper(key='date', freq='M')).agg({'amount': 'sum', 'revenue': 'sum', 'cost_total': 'sum', 'profit_total': 'sum'})\n",
    "\n",
    "# Anzahl verkaufter Produkte, Umsatz, Kosten und Gewinn pro Monat für Produkt \"Tablet Pro\"\n",
    "df_sales_pro = df_sales[df_sales['product'] == 'Tablet Pro'].groupby(pd.Grouper(key='date', freq='M')).agg({'amount': 'sum', 'revenue': 'sum', 'cost_total': 'sum', 'profit_total': 'sum'})"
   ]
  },
  {
   "cell_type": "code",
   "execution_count": null,
   "metadata": {},
   "outputs": [],
   "source": [
    "# Umsatz, Kosten und Gewinn pro Monat für alle Produkte jeweils als Subplot visualisieren und alle Subplots zusammenfassen\n",
    "fig, axes = plt.subplots(1, 4, figsize=(25, 5))\n",
    "fig.suptitle('Amount sold, Profit, Cost and Revenue per month for all products')\n",
    "\n",
    "axes[0].plot(df_sales_basic['amount'], label='Basic')\n",
    "axes[0].plot(df_sales_mini['amount'], label='Mini')\n",
    "axes[0].plot(df_sales_pro['amount'], label='Pro')\n",
    "axes[0].set_title('Amount sold')\n",
    "axes[0].legend()\n",
    "\n",
    "axes[1].plot(df_sales_basic['revenue'], label='Basic')\n",
    "axes[1].plot(df_sales_mini['revenue'], label='Mini')\n",
    "axes[1].plot(df_sales_pro['revenue'], label='Pro')\n",
    "axes[1].set_title('Revenue')\n",
    "axes[1].legend()\n",
    "\n",
    "axes[2].plot(df_sales_basic['cost_total'], label='Basic')\n",
    "axes[2].plot(df_sales_mini['cost_total'], label='Mini')\n",
    "axes[2].plot(df_sales_pro['cost_total'], label='Pro')\n",
    "axes[2].set_title('Cost')\n",
    "axes[2].legend()\n",
    "\n",
    "axes[3].plot(df_sales_basic['profit_total'], label='Basic')\n",
    "axes[3].plot(df_sales_mini['profit_total'], label='Mini')\n",
    "axes[3].plot(df_sales_pro['profit_total'], label='Pro')\n",
    "axes[3].set_title('Profit')\n",
    "axes[3].legend()\n",
    "\n",
    "# y-Achse in Millionen formatieren\n",
    "for ax in axes:\n",
    "    ax.yaxis.set_major_formatter(\n",
    "        plt.FuncFormatter(lambda x, loc: \"{:,}\".format(int(x))))\n",
    "\n",
    "plt.tight_layout()"
   ]
  },
  {
   "cell_type": "code",
   "execution_count": null,
   "metadata": {},
   "outputs": [],
   "source": [
    "# Veränderung von Anfang bis Ende für die Produkte \"Tablet Basic\", \"Tablet Mini\" und \"Tablet Pro\"\n",
    "def calc_change(df, productname):\n",
    "    print(\"Veränderung Anzahl sold\", productname, \":\", (df.iloc[-1]['amount'] - df.iloc[0]['amount']) / df.iloc[0]['amount'] * 100)\n",
    "    print(\"Veränderung Umsatz\", productname, \":\", (df.iloc[-1]['revenue'] - df.iloc[0]['revenue']) / df.iloc[0]['revenue'] * 100)\n",
    "    print(\"Veränderung Kosten\", productname, \":\", (df.iloc[-1]['cost_total'] - df.iloc[0]['cost_total']) / df.iloc[0]['cost_total'] * 100)\n",
    "    print(\"Veränderung Gewinn\", productname, \":\", (df.iloc[-1]['profit_total'] - df.iloc[0]['profit_total']) / df.iloc[0]['profit_total'] * 100)\n",
    "    print()\n",
    "\n",
    "\n",
    "calc_change(df_sales_basic, \"Tablet Basic\")\n",
    "calc_change(df_sales_mini, \"Tablet Mini\")\n",
    "calc_change(df_sales_pro, \"Tablet Pro\")"
   ]
  },
  {
   "cell_type": "markdown",
   "metadata": {},
   "source": [
    "- Tablet Basic hat sich stark verschlechtert -> Von ca. 9,5 Mio. Gewinn zu 50.000\n",
    "    - Wurde auch deutlich weniger verkauft\n",
    "- Gewinn von Tablet Mini hat sich zum Jahreswechsel verschlechtert, aber hat sich danach verbessert und nun ist das profitabelste Produkt\n",
    "    - Anzahl verkaufter Produkte stagniert, aber leicht gestiegen\n",
    "- Gewinn von Tablet Pro hat sich stark verbessert, aber Trend ist zum Ende 2022 negativ\n",
    "    - Anzahl, Umsatz und Kosten sind sehr stark gestiegen\n",
    "    - Jedoch sind Kosten stärker gestiegen als Umsatz"
   ]
  },
  {
   "cell_type": "markdown",
   "metadata": {},
   "source": [
    "### Transaktionen mit Verlust"
   ]
  },
  {
   "cell_type": "code",
   "execution_count": null,
   "metadata": {},
   "outputs": [],
   "source": [
    "# Transaktionen mit Verlust\n",
    "df_sales_negative_profit = df_sales[df_sales['profit_total'] < 0]\n",
    "df_sales_negative_profit"
   ]
  },
  {
   "cell_type": "code",
   "execution_count": null,
   "metadata": {},
   "outputs": [],
   "source": [
    "# Welche Produkte wurden mit einem Verlust verkauft?\n",
    "df_sales_negative_profit['product'].unique()"
   ]
  },
  {
   "cell_type": "markdown",
   "metadata": {},
   "source": [
    "- Nur mit Tablet Basic wurden Verlustgeschäfte gemacht, insg. 2314 Transaktionen"
   ]
  },
  {
   "cell_type": "code",
   "execution_count": null,
   "metadata": {},
   "outputs": [],
   "source": [
    "# Summe des Verlusts\n",
    "df_sales_negative_profit['profit_total'].sum()"
   ]
  },
  {
   "cell_type": "markdown",
   "metadata": {},
   "source": [
    "- Mit dem Tablet Basic wurde in 2314 Transaktionen insg. 460 Tsd. EUR Verlust gemacht "
   ]
  },
  {
   "cell_type": "code",
   "execution_count": null,
   "metadata": {},
   "outputs": [],
   "source": [
    "# In welchen Verkaufskanälen und Regionen wurden die Produkte mit negativem Gewinn verkauft und wie oft?\n",
    "df_sales_negative_profit.groupby(['region', 'channel']).agg({'transaction_id': 'count', 'profit_total': 'sum'})"
   ]
  },
  {
   "cell_type": "markdown",
   "metadata": {},
   "source": [
    "- Meistens in den Stores"
   ]
  },
  {
   "cell_type": "markdown",
   "metadata": {},
   "source": [
    "### Wie oft wurden die Produkte in den einzelnen Regionen verkauft?"
   ]
  },
  {
   "cell_type": "code",
   "execution_count": null,
   "metadata": {},
   "outputs": [],
   "source": [
    "# Group by channel, product and sum up amount\n",
    "sales_per_product_by_channel = df_sales.groupby(['channel', 'product']).agg({'amount': 'sum'})\n",
    "sales_per_product_by_channel = sales_per_product_by_channel.reset_index()\n",
    "sales_per_product_by_channel"
   ]
  },
  {
   "cell_type": "code",
   "execution_count": null,
   "metadata": {},
   "outputs": [],
   "source": [
    "plt.figure(figsize=(10, 6))\n",
    "\n",
    "sns.barplot(data=sales_per_product_by_channel, x='channel', y='amount', hue='product')\n",
    "\n",
    "plt.title('Amount sold per product, grouped by channel')\n",
    "plt.xlabel('Channel')\n",
    "plt.ylabel('Amount sold')\n",
    "plt.show()"
   ]
  },
  {
   "cell_type": "markdown",
   "metadata": {},
   "source": [
    "### Wie oft wurden die Produkte in den einzelnen Regionen verkauft?"
   ]
  },
  {
   "cell_type": "code",
   "execution_count": null,
   "metadata": {},
   "outputs": [],
   "source": [
    "# Group by region, product and sum up amount\n",
    "sales_per_product_by_region = df_sales.groupby(['region', 'product']).agg({'amount': 'sum'})\n",
    "sales_per_product_by_region = sales_per_product_by_region.reset_index()\n",
    "sales_per_product_by_region"
   ]
  },
  {
   "cell_type": "code",
   "execution_count": null,
   "metadata": {},
   "outputs": [],
   "source": [
    "plt.figure(figsize=(10, 6))\n",
    "\n",
    "sns.barplot(data=sales_per_product_by_region, x='region', y='amount', hue='product')\n",
    "\n",
    "plt.title('Amount sold per product, grouped by region')\n",
    "plt.xlabel('Region')\n",
    "plt.ylabel('Amount sold')\n",
    "plt.show()"
   ]
  },
  {
   "cell_type": "markdown",
   "metadata": {},
   "source": [
    "## Hypothese 7: Es wurden mehr Rabatte gewährt"
   ]
  },
  {
   "cell_type": "code",
   "execution_count": null,
   "metadata": {},
   "outputs": [],
   "source": [
    "# Durchschnittlicher Rabatt pro Monat\n",
    "rabatt_pro_monat = df_sales.groupby(pd.Grouper(key='date', freq='M')).agg({'discount': 'mean'})\n",
    "rabatt_pro_monat"
   ]
  },
  {
   "cell_type": "code",
   "execution_count": null,
   "metadata": {},
   "outputs": [],
   "source": [
    "# Als barplot visualisieren\n",
    "plt.figure(figsize=(10, 6))\n",
    "\n",
    "sns.barplot(data=rabatt_pro_monat, x=rabatt_pro_monat.index, y='discount')\n",
    "plt.title('Average discount per month')\n",
    "plt.xlabel('Month')\n",
    "plt.ylabel('Avg Discount')\n",
    "\n",
    "#plt.ylim(0.90, 1.0)\n",
    "\n",
    "plt.xticks(rotation=45)\n",
    "\n",
    "plt.show()"
   ]
  },
  {
   "cell_type": "markdown",
   "metadata": {},
   "source": [
    "- Nein, Rabatte haben sich sogar verringert"
   ]
  },
  {
   "cell_type": "code",
   "execution_count": null,
   "metadata": {},
   "outputs": [],
   "source": [
    "# Durchschnittliche Rabatte pro Produkt pro Monat\n",
    "rabatt_pro_monat_pro_produkt = df_sales.groupby(['product', 'year', \"month\"]).agg({'discount': 'mean'})  \n",
    "rabatt_pro_monat_pro_produkt"
   ]
  },
  {
   "cell_type": "code",
   "execution_count": null,
   "metadata": {},
   "outputs": [],
   "source": [
    "# Entfernen der Multi-Index-Spalten\n",
    "rabatt_pro_monat_pro_produkt = rabatt_pro_monat_pro_produkt.reset_index()\n",
    "\n",
    "plt.figure(figsize=(10, 6))\n",
    "\n",
    "sns.lineplot(data=rabatt_pro_monat_pro_produkt, x='month', y='discount', hue='product')\n",
    "plt.title('Average discount per month per product')\n",
    "plt.xlabel('Month')"
   ]
  },
  {
   "cell_type": "markdown",
   "metadata": {},
   "source": [
    "## Hypothese 8: Kundenzufriedenheit hat sich verändert"
   ]
  },
  {
   "cell_type": "code",
   "execution_count": null,
   "metadata": {},
   "outputs": [],
   "source": [
    "# Durschnittliches Customer Rating pro Monat für Tablet Basic\n",
    "rating_basic = df_sales[df_sales['product'] == 'Tablet Basic'].groupby(pd.Grouper(key='date', freq='M')).agg({'customer_rating': 'mean'})\n",
    "\n",
    "# Durschnittliches Customer Rating pro Monat für Tablet Mini\n",
    "rating_mini = df_sales[df_sales['product'] == 'Tablet Mini'].groupby(pd.Grouper(key='date', freq='M')).agg({'customer_rating': 'mean'})\n",
    "\n",
    "# Durschnittliches Customer Rating pro Monat für Tablet Pro\n",
    "rating_pro = df_sales[df_sales['product'] == 'Tablet Pro'].groupby(pd.Grouper(key='date', freq='M')).agg({'customer_rating': 'mean'})"
   ]
  },
  {
   "cell_type": "code",
   "execution_count": null,
   "metadata": {},
   "outputs": [],
   "source": [
    "sns.lineplot(data=rating_basic, x=rating_basic.index, y='customer_rating', label='Basic')\n",
    "sns.lineplot(data=rating_mini, x=rating_mini.index, y='customer_rating', label='Mini')\n",
    "sns.lineplot(data=rating_pro, x=rating_pro.index, y='customer_rating', label='Pro')\n",
    "\n",
    "plt.title('Average customer rating per month')\n",
    "plt.xlabel('Month')\n",
    "plt.ylabel('Avg Customer Rating')\n",
    "\n",
    "plt.ylim(0, 10)\n",
    "plt.xticks(rotation=45)\n",
    "\n",
    "plt.show()"
   ]
  },
  {
   "cell_type": "markdown",
   "metadata": {},
   "source": [
    "- Kundenzufriedenheit für Tablet Basic ist relativ stark gesunken\n",
    "- Kundenzufriedenheit für Tablet Mini ist im Vergleich leichter gesunken\n",
    "- Kundenzufriedenheit für Tablet Pro ist gestiegen"
   ]
  },
  {
   "cell_type": "markdown",
   "metadata": {},
   "source": [
    "### (Versuch, Umsatz nach Customer Rating als Regression zu plotten)"
   ]
  },
  {
   "cell_type": "code",
   "execution_count": null,
   "metadata": {},
   "outputs": [],
   "source": [
    "umsatz_by_customer_rating = df_sales.groupby('customer_rating').agg({'revenue': 'mean',\n",
    "                                                                     \"customer_rating\": \"mean\"})\n",
    "\n",
    "sns.regplot(x=\"customer_rating\", y=\"revenue\", data=umsatz_by_customer_rating, ci=True, \n",
    "            line_kws={\"color\": \"red\"}, scatter_kws={\"alpha\": 0.5})"
   ]
  },
  {
   "cell_type": "code",
   "execution_count": null,
   "metadata": {},
   "outputs": [],
   "source": [
    "# Lineare Regression für die Spalte \"revenue\" erstellen\n",
    "model = smf.ols(formula='revenue ~ customer_rating', data=df_sales).fit()\n",
    "model.summary2()"
   ]
  },
  {
   "cell_type": "markdown",
   "metadata": {},
   "source": [
    "### Umsatz je Customer Rating für jedes Produkt"
   ]
  },
  {
   "cell_type": "code",
   "execution_count": null,
   "metadata": {},
   "outputs": [],
   "source": [
    "sales_by_rating = df_sales.groupby([\"date\", 'product']).agg({'customer_rating': 'mean',\n",
    "                                                            'revenue': 'sum'})\n",
    "\n",
    "plt.figure(figsize=(10, 6))\n",
    "sns.scatterplot(data=sales_by_rating, x='customer_rating', y='revenue', hue='product')\n",
    "plt.title('Customer Rating and Revenue per product')\n",
    "plt.xlabel('Customer Rating')\n",
    "plt.ylabel('Revenue')\n",
    "plt.legend(title=\"Product\")\n",
    "\n",
    "# y-Achse in Millionen formatieren\n",
    "plt.gca().yaxis.set_major_formatter(\n",
    "    plt.FuncFormatter(lambda x, loc: \"{:,}\".format(int(x))))\n",
    "\n",
    "plt.show()"
   ]
  },
  {
   "cell_type": "code",
   "execution_count": null,
   "metadata": {},
   "outputs": [],
   "source": [
    "correlation_sales_rating = sales_by_rating.corr()\n",
    "correlation_sales_rating[['customer_rating']].loc[['revenue']]"
   ]
  },
  {
   "cell_type": "markdown",
   "metadata": {},
   "source": [
    "- Positive Korrelation: Es gibt eine positive Korrelation zwischen den Kundenbewertungen und den Verkaufszahlen. Dies deutet darauf hin, dass Produkte mit höheren Kundenbewertungen tendenziell höhere Verkaufszahlen aufweisen."
   ]
  },
  {
   "cell_type": "code",
   "execution_count": null,
   "metadata": {},
   "outputs": [],
   "source": [
    "sales_by_rating = sales_by_rating.reset_index()\n",
    "sns.lmplot(data=sales_by_rating, x=\"customer_rating\", y=\"revenue\", hue='product', ci=None, height=6, aspect=1.5, line_kws={\"color\": \"red\"}, scatter_kws={\"alpha\": 0.5})\n",
    "plt.title('Customer Rating and Revenue per product')\n",
    "plt.xlabel('Customer Rating')\n",
    "plt.ylabel('Revenue')\n",
    "plt.legend(title=\"Product\")\n",
    "\n",
    "# y-Achse in Millionen formatieren\n",
    "plt.gca().yaxis.set_major_formatter(\n",
    "    plt.FuncFormatter(lambda x, loc: \"{:,}\".format(int(x))))\n",
    "\n",
    "plt.show()"
   ]
  },
  {
   "cell_type": "markdown",
   "metadata": {},
   "source": [
    "## Hypothese 9: Downtime war ein Grund für die schlechte Entwicklung des Online-Stores"
   ]
  },
  {
   "cell_type": "code",
   "execution_count": null,
   "metadata": {},
   "outputs": [],
   "source": [
    "df_downtime"
   ]
  },
  {
   "cell_type": "code",
   "execution_count": null,
   "metadata": {},
   "outputs": [],
   "source": [
    "# Alle Transaktionen im Kanal Online in einem Dataframe zusammenfassen\n",
    "sales_online = df_sales[df_sales['channel'] == 'online']\n",
    "sales_online"
   ]
  },
  {
   "cell_type": "code",
   "execution_count": null,
   "metadata": {},
   "outputs": [],
   "source": [
    "# # Merge der Downtime-Daten in die Transaktionsdaten\n",
    "sales_online = pd.merge(sales_online, df_downtime, how='left', on=['year', 'region'])\n",
    "\n",
    "sales_online"
   ]
  },
  {
   "cell_type": "code",
   "execution_count": null,
   "metadata": {},
   "outputs": [],
   "source": [
    "# Transaktionen nach regionen\n",
    "sales_online_a = sales_online[sales_online['region'] == 'A']\n",
    "sales_online_b = sales_online[sales_online['region'] == 'B']\n",
    "sales_online_c = sales_online[sales_online['region'] == 'C']\n",
    "sales_online_d = sales_online[sales_online['region'] == 'D']\n",
    "\n",
    "# Umsätze monatlich aggregieren\n",
    "monthly_sales_online_a = sales_online_a.groupby(pd.Grouper(key='date', freq='M')).agg({'transaction_id': 'count'})\n",
    "monthly_sales_online_b = sales_online_b.groupby(pd.Grouper(key='date', freq='M')).agg({'transaction_id': 'count'})\n",
    "monthly_sales_online_c = sales_online_c.groupby(pd.Grouper(key='date', freq='M')).agg({'transaction_id': 'count'})\n",
    "monthly_sales_online_d = sales_online_d.groupby(pd.Grouper(key='date', freq='M')).agg({'transaction_id': 'count'})"
   ]
  },
  {
   "cell_type": "code",
   "execution_count": null,
   "metadata": {},
   "outputs": [],
   "source": [
    "def downtime_calculations (df, region):\n",
    "    # Spalte date, year und month hinzufügen\n",
    "    df = df.assign(date=df.index,\n",
    "                   year=df.index.year,\n",
    "                   month=df.index.month)\n",
    "    \n",
    "    # Spalte region hinzufügen\n",
    "    df = df.assign(region=region)\n",
    "    \n",
    "    # Spalte downtime hinzufügen\n",
    "    df = pd.merge(df, df_downtime, how='left', on=['year', 'region'])\n",
    "\n",
    "    # Spalte possible_amount, delta und delta_rel hinzufügen\n",
    "    df['possible_transactions'] = df['transaction_id'] / (1 - df['downtime'])\n",
    "    df['delta'] = df['possible_transactions'] - df['transaction_id']\n",
    "    df['delta_rel'] = df['delta'] / df['transaction_id']\n",
    "\n",
    "    # Spalte transaction_id in \"transaction_count\" umbenennen\n",
    "    df = df.rename(columns={'transaction_id': 'transaction_count'})\n",
    "    \n",
    "    return df\n",
    "\n",
    "monthly_sales_online_a = downtime_calculations(monthly_sales_online_a, \"A\")\n",
    "monthly_sales_online_b = downtime_calculations(monthly_sales_online_b, \"B\")\n",
    "monthly_sales_online_c = downtime_calculations(monthly_sales_online_c, \"C\")\n",
    "monthly_sales_online_d = downtime_calculations(monthly_sales_online_d, \"D\")\n",
    "    "
   ]
  },
  {
   "cell_type": "code",
   "execution_count": null,
   "metadata": {},
   "outputs": [],
   "source": [
    "monthly_sales_online_a"
   ]
  },
  {
   "cell_type": "code",
   "execution_count": null,
   "metadata": {},
   "outputs": [],
   "source": [
    "monthly_sales_online_b"
   ]
  },
  {
   "cell_type": "code",
   "execution_count": null,
   "metadata": {},
   "outputs": [],
   "source": [
    "monthly_sales_online_c"
   ]
  },
  {
   "cell_type": "code",
   "execution_count": null,
   "metadata": {},
   "outputs": [],
   "source": [
    "monthly_sales_online_d"
   ]
  },
  {
   "cell_type": "code",
   "execution_count": null,
   "metadata": {},
   "outputs": [],
   "source": [
    "# Alle Deltas der vier Regionen plotten\n",
    "plt.figure(figsize=(10, 6))\n",
    "sns.lineplot(data=monthly_sales_online_a, x='date', y='delta', label='A')\n",
    "sns.lineplot(data=monthly_sales_online_b, x='date', y='delta', label='B')\n",
    "sns.lineplot(data=monthly_sales_online_c, x='date', y='delta', label='C')\n",
    "sns.lineplot(data=monthly_sales_online_d, x='date', y='delta', label='D')"
   ]
  },
  {
   "cell_type": "markdown",
   "metadata": {},
   "source": [
    "### Prognose erstellen:\n",
    "- Anhand der Monate November/Dezember 2021 eine Prognose für Januar 2022 machen und schauen, ob die Abweichung in der Prognose vom realen Wert durch die veränderte Downtime erklärt wird "
   ]
  },
  {
   "cell_type": "markdown",
   "metadata": {},
   "source": [
    "#### Beispielhaft für Region A:"
   ]
  },
  {
   "cell_type": "code",
   "execution_count": null,
   "metadata": {},
   "outputs": [],
   "source": [
    "# Anzahl Transaktionen pro Tag berechnen\n",
    "daily_sales_online_a = sales_online_a.groupby(pd.Grouper(key='date', freq='D')).agg({'transaction_id': 'count'})\n",
    "daily_sales_online_a"
   ]
  },
  {
   "cell_type": "code",
   "execution_count": null,
   "metadata": {},
   "outputs": [],
   "source": [
    "# Transaktionen pro Tag für die Monate November 2021 bis Januar 2022\n",
    "daily_sales_online_a = daily_sales_online_a.loc['2021-11-01':'2022-01-31']\n",
    "\n",
    "# In Dataframe umwandeln\n",
    "daily_sales_online_a = daily_sales_online_a.reset_index()\n",
    "daily_sales_online_a"
   ]
  },
  {
   "cell_type": "code",
   "execution_count": null,
   "metadata": {},
   "outputs": [],
   "source": [
    "# Exponentielle Glättung mit alpha=0.2\n",
    "daily_sales_online_a['ewm'] = daily_sales_online_a['transaction_id'].ewm(alpha=0.2, adjust=False).mean()\n",
    "daily_sales_online_a"
   ]
  },
  {
   "cell_type": "code",
   "execution_count": null,
   "metadata": {},
   "outputs": [],
   "source": [
    "# Forecast Error berechnen\n",
    "daily_sales_online_a['forecast_error'] = ((daily_sales_online_a['transaction_id'] - daily_sales_online_a['ewm']) / daily_sales_online_a['transaction_id']) * 100\n",
    "\n",
    "# Alle Zeilen anzeigen\n",
    "pd.set_option('display.max_rows', None)\n",
    "daily_sales_online_a"
   ]
  },
  {
   "cell_type": "code",
   "execution_count": null,
   "metadata": {},
   "outputs": [],
   "source": [
    "# Group by week\n",
    "weekly_sales_online_a = daily_sales_online_a.groupby(pd.Grouper(key='date', freq='W')).agg({'transaction_id': 'sum', 'ewm': 'sum'})\n",
    "weekly_sales_online_a"
   ]
  },
  {
   "cell_type": "code",
   "execution_count": null,
   "metadata": {},
   "outputs": [],
   "source": [
    "# Kalkuliere Prognosefehler als Prozent\n",
    "weekly_sales_online_a['forecast_error'] = ((weekly_sales_online_a['transaction_id'] - weekly_sales_online_a['ewm']) / weekly_sales_online_a['transaction_id']) * 100\n",
    "weekly_sales_online_a"
   ]
  }
 ],
 "metadata": {
  "kernelspec": {
   "display_name": "Python 3",
   "language": "python",
   "name": "python3"
  },
  "language_info": {
   "codemirror_mode": {
    "name": "ipython",
    "version": 3
   },
   "file_extension": ".py",
   "mimetype": "text/x-python",
   "name": "python",
   "nbconvert_exporter": "python",
   "pygments_lexer": "ipython3",
   "version": "3.11.5"
  }
 },
 "nbformat": 4,
 "nbformat_minor": 2
}
